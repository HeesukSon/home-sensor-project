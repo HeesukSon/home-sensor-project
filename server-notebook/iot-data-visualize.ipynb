{
 "cells": [
  {
   "cell_type": "markdown",
   "metadata": {},
   "source": [
    "The goal of this notebook is to study how to **fetch IoT timeseries data from the server-side TimescaleDB** and how to **visualize them with Python plotting libraries** effectively. Proper **data sampling rate** needs to be investigated as well in this notebook. For this notebook, online materials listed below are used:\n",
    "* Installation, DB Connection, and PostgreSQL querying: https://medium.com/analytics-vidhya/postgresql-integration-with-jupyter-notebook-deb97579a38d\n",
    "* Using PostgreSQL meta-commands: https://medium.com/data-analysis-for-beginners/bring-native-psql-magic-into-jupyter-notebook-50b663d856b5\n",
    "* Using masic function % for storing data to variables: https://towardsdatascience.com/heres-how-to-run-sql-in-jupyter-notebooks-f26eb90f3259"
   ]
  },
  {
   "cell_type": "markdown",
   "metadata": {},
   "source": [
    "## Loading libraries and connecting to DB"
   ]
  },
  {
   "cell_type": "code",
   "execution_count": 2,
   "metadata": {},
   "outputs": [],
   "source": [
    "import sqlalchemy\n",
    "from sqlalchemy import create_engine\n",
    "from IPython.display import display_html"
   ]
  },
  {
   "cell_type": "code",
   "execution_count": 3,
   "metadata": {},
   "outputs": [],
   "source": [
    "%load_ext sql"
   ]
  },
  {
   "cell_type": "code",
   "execution_count": 4,
   "metadata": {},
   "outputs": [
    {
     "data": {
      "text/plain": [
       "'Connected: postgres@homedata'"
      ]
     },
     "execution_count": 4,
     "metadata": {},
     "output_type": "execute_result"
    }
   ],
   "source": [
    "%sql postgresql://postgres@localhost/homedata"
   ]
  },
  {
   "cell_type": "code",
   "execution_count": 5,
   "metadata": {},
   "outputs": [],
   "source": [
    "engine = create_engine('postgresql://postgres@localhost/homedata')"
   ]
  },
  {
   "cell_type": "markdown",
   "metadata": {},
   "source": [
    "## Query Example: Printing top 3 rows"
   ]
  },
  {
   "cell_type": "code",
   "execution_count": 35,
   "metadata": {},
   "outputs": [
    {
     "name": "stdout",
     "output_type": "stream",
     "text": [
      " * postgresql://postgres@localhost/homedata\n",
      "3 rows affected.\n"
     ]
    },
    {
     "data": {
      "text/html": [
       "<table>\n",
       "    <tr>\n",
       "        <th>db_insert_time</th>\n",
       "        <th>room</th>\n",
       "        <th>data_gen_time</th>\n",
       "        <th>sound1</th>\n",
       "        <th>sound2</th>\n",
       "        <th>temperature</th>\n",
       "        <th>humidity</th>\n",
       "        <th>light</th>\n",
       "        <th>motion</th>\n",
       "    </tr>\n",
       "    <tr>\n",
       "        <td>2020-04-26 14:44:33.240067-04:00</td>\n",
       "        <td>hroom-1</td>\n",
       "        <td>2020-04-26 14:44:33-04:00</td>\n",
       "        <td>[38.84491, 41.548523, 43.78904, 37.553318, 34.932198, 34.789368, 35.375282, 37.072533, 36.9852, 38.804432]</td>\n",
       "        <td>[34.714874, 44.053913, 40.614216, 37.209526, 34.59998, 34.460262, 34.454475, 36.158672, 35.970127, 37.8359]</td>\n",
       "        <td>28.289</td>\n",
       "        <td>29.041</td>\n",
       "        <td>95.67</td>\n",
       "        <td>2.5499</td>\n",
       "    </tr>\n",
       "    <tr>\n",
       "        <td>2020-04-26 14:44:34.464842-04:00</td>\n",
       "        <td>hroom-1</td>\n",
       "        <td>2020-04-26 14:44:34-04:00</td>\n",
       "        <td>[37.034363, 42.94117, 43.11823, 36.212498, 34.61035, 34.721, 34.98621, 36.95212, 37.28573, 38.667828]</td>\n",
       "        <td>[33.202198, 42.82431, 40.96828, 36.672382, 34.514984, 36.18337, 34.71283, 36.63037, 36.36674, 38.095177]</td>\n",
       "        <td>28.236</td>\n",
       "        <td>29.047</td>\n",
       "        <td>95.79</td>\n",
       "        <td>2.57324</td>\n",
       "    </tr>\n",
       "    <tr>\n",
       "        <td>2020-04-26 14:44:35.536709-04:00</td>\n",
       "        <td>hroom-2</td>\n",
       "        <td>2020-04-26 09:44:35-04:00</td>\n",
       "        <td>[36.57462, 40.622955, 47.64065, 37.1816, 36.083546, 35.031864, 35.373005, 37.80639, 37.482098, 38.176067]</td>\n",
       "        <td>[37.725174, 41.904285, 44.440018, 37.784557, 35.9873, 35.374237, 35.76456, 38.074524, 38.428814, 39.666794]</td>\n",
       "        <td>20.059</td>\n",
       "        <td>36.423</td>\n",
       "        <td>72.63</td>\n",
       "        <td>2.78305</td>\n",
       "    </tr>\n",
       "</table>"
      ],
      "text/plain": [
       "[(datetime.datetime(2020, 4, 26, 14, 44, 33, 240067, tzinfo=psycopg2.tz.FixedOffsetTimezone(offset=-240, name=None)), 'hroom-1', datetime.datetime(2020, 4, 26, 14, 44, 33, tzinfo=psycopg2.tz.FixedOffsetTimezone(offset=-240, name=None)), [38.84491, 41.548523, 43.78904, 37.553318, 34.932198, 34.789368, 35.375282, 37.072533, 36.9852, 38.804432], [34.714874, 44.053913, 40.614216, 37.209526, 34.59998, 34.460262, 34.454475, 36.158672, 35.970127, 37.8359], 28.289, 29.041, 95.67, 2.5499),\n",
       " (datetime.datetime(2020, 4, 26, 14, 44, 34, 464842, tzinfo=psycopg2.tz.FixedOffsetTimezone(offset=-240, name=None)), 'hroom-1', datetime.datetime(2020, 4, 26, 14, 44, 34, tzinfo=psycopg2.tz.FixedOffsetTimezone(offset=-240, name=None)), [37.034363, 42.94117, 43.11823, 36.212498, 34.61035, 34.721, 34.98621, 36.95212, 37.28573, 38.667828], [33.202198, 42.82431, 40.96828, 36.672382, 34.514984, 36.18337, 34.71283, 36.63037, 36.36674, 38.095177], 28.236, 29.047, 95.79, 2.57324),\n",
       " (datetime.datetime(2020, 4, 26, 14, 44, 35, 536709, tzinfo=psycopg2.tz.FixedOffsetTimezone(offset=-240, name=None)), 'hroom-2', datetime.datetime(2020, 4, 26, 9, 44, 35, tzinfo=psycopg2.tz.FixedOffsetTimezone(offset=-240, name=None)), [36.57462, 40.622955, 47.64065, 37.1816, 36.083546, 35.031864, 35.373005, 37.80639, 37.482098, 38.176067], [37.725174, 41.904285, 44.440018, 37.784557, 35.9873, 35.374237, 35.76456, 38.074524, 38.428814, 39.666794], 20.059, 36.423, 72.63, 2.78305)]"
      ]
     },
     "execution_count": 35,
     "metadata": {},
     "output_type": "execute_result"
    }
   ],
   "source": [
    "%%sql\n",
    "\n",
    "select * from sensor_data limit 3"
   ]
  },
  {
   "cell_type": "markdown",
   "metadata": {},
   "source": [
    "## PSQL Meta-commands: Printing out the total count of inserted data rows "
   ]
  },
  {
   "cell_type": "code",
   "execution_count": 13,
   "metadata": {},
   "outputs": [
    {
     "name": "stdout",
     "output_type": "stream",
     "text": [
      " * postgresql://postgres@localhost/homedata\n",
      "1 rows affected.\n"
     ]
    },
    {
     "data": {
      "text/html": [
       "<table>\n",
       "    <tr>\n",
       "        <th>count</th>\n",
       "    </tr>\n",
       "    <tr>\n",
       "        <td>94842</td>\n",
       "    </tr>\n",
       "</table>"
      ],
      "text/plain": [
       "[(94842,)]"
      ]
     },
     "execution_count": 13,
     "metadata": {},
     "output_type": "execute_result"
    }
   ],
   "source": [
    "%%sql\n",
    "select count(*) from sensor_data"
   ]
  },
  {
   "cell_type": "code",
   "execution_count": 15,
   "metadata": {},
   "outputs": [
    {
     "name": "stdin",
     "output_type": "stream",
     "text": [
      "Enter psql command to execute:  \\dt\n"
     ]
    },
    {
     "data": {
      "text/html": [
       "<table border=\"1\">  <caption>List of relations</caption>  <tr>    <th align=\"center\">Schema</th>    <th align=\"center\">Name</th>    <th align=\"center\">Type</th>    <th align=\"center\">Owner</th>  </tr>  <tr valign=\"top\">    <td align=\"left\">public</td>    <td align=\"left\">sensor_data</td>    <td align=\"left\">table</td>    <td align=\"left\">postgres</td>  </tr>  <tr valign=\"top\">    <td align=\"left\">public</td>    <td align=\"left\">sensordata</td>    <td align=\"left\">table</td>    <td align=\"left\">postgres</td>  </tr></table><p>(2 rows)<br /></p>"
      ]
     },
     "metadata": {},
     "output_type": "display_data"
    }
   ],
   "source": [
    "host='localhost'\n",
    "database='homedata'\n",
    "username='postgres'\n",
    "\n",
    "### psql_cmd examples\n",
    "# \\dt : prints data tables\n",
    "# \\d sensor_data : prints sensor_data table schema\n",
    "# \\l+ homedata : prints database size\n",
    "###\n",
    "psql_cmd = input(\"Enter psql command to execute: \")\n",
    "psql_out = !psql -H -h \"{host}\" -d \"{database}\" -U \"{username}\" -c \"{psql_cmd}\"\n",
    "display_html(''.join(psql_out), raw=True)"
   ]
  },
  {
   "cell_type": "code",
   "execution_count": 172,
   "metadata": {},
   "outputs": [
    {
     "data": {
      "text/html": [
       "<table border=\"1\">  <caption>Table &quot;public.sensor_data&quot;</caption>  <tr>    <th align=\"center\">Column</th>    <th align=\"center\">Type</th>    <th align=\"center\">Collation</th>    <th align=\"center\">Nullable</th>    <th align=\"center\">Default</th>  </tr>  <tr valign=\"top\">    <td align=\"left\">db_insert_time</td>    <td align=\"left\">timestamp with time zone</td>    <td align=\"left\">&nbsp; </td>    <td align=\"left\">not null</td>    <td align=\"left\">&nbsp; </td>  </tr>  <tr valign=\"top\">    <td align=\"left\">room</td>    <td align=\"left\">text</td>    <td align=\"left\">&nbsp; </td>    <td align=\"left\">not null</td>    <td align=\"left\">&nbsp; </td>  </tr>  <tr valign=\"top\">    <td align=\"left\">data_gen_time</td>    <td align=\"left\">timestamp with time zone</td>    <td align=\"left\">&nbsp; </td>    <td align=\"left\">not null</td>    <td align=\"left\">&nbsp; </td>  </tr>  <tr valign=\"top\">    <td align=\"left\">sound1</td>    <td align=\"left\">real[]</td>    <td align=\"left\">&nbsp; </td>    <td align=\"left\">&nbsp; </td>    <td align=\"left\">&nbsp; </td>  </tr>  <tr valign=\"top\">    <td align=\"left\">sound2</td>    <td align=\"left\">real[]</td>    <td align=\"left\">&nbsp; </td>    <td align=\"left\">&nbsp; </td>    <td align=\"left\">&nbsp; </td>  </tr>  <tr valign=\"top\">    <td align=\"left\">temperature</td>    <td align=\"left\">real</td>    <td align=\"left\">&nbsp; </td>    <td align=\"left\">&nbsp; </td>    <td align=\"left\">&nbsp; </td>  </tr>  <tr valign=\"top\">    <td align=\"left\">humidity</td>    <td align=\"left\">real</td>    <td align=\"left\">&nbsp; </td>    <td align=\"left\">&nbsp; </td>    <td align=\"left\">&nbsp; </td>  </tr>  <tr valign=\"top\">    <td align=\"left\">light</td>    <td align=\"left\">real</td>    <td align=\"left\">&nbsp; </td>    <td align=\"left\">&nbsp; </td>    <td align=\"left\">&nbsp; </td>  </tr>  <tr valign=\"top\">    <td align=\"left\">motion</td>    <td align=\"left\">real</td>    <td align=\"left\">&nbsp; </td>    <td align=\"left\">&nbsp; </td>    <td align=\"left\">&nbsp; </td>  </tr></table>"
      ]
     },
     "metadata": {},
     "output_type": "display_data"
    }
   ],
   "source": [
    "psql_cmd = \"\\d sensor_data\"\n",
    "psql_out = !psql -H -h \"{host}\" -d \"{database}\" -U \"{username}\" -c \"{psql_cmd}\"\n",
    "display_html(''.join(psql_out), raw=True)"
   ]
  },
  {
   "cell_type": "code",
   "execution_count": 78,
   "metadata": {},
   "outputs": [
    {
     "data": {
      "text/html": [
       "<table border=\"1\">  <caption>List of databases</caption>  <tr>    <th align=\"center\">Name</th>    <th align=\"center\">Owner</th>    <th align=\"center\">Encoding</th>    <th align=\"center\">Collate</th>    <th align=\"center\">Ctype</th>    <th align=\"center\">Access privileges</th>    <th align=\"center\">Size</th>    <th align=\"center\">Tablespace</th>    <th align=\"center\">Description</th>  </tr>  <tr valign=\"top\">    <td align=\"left\">homedata</td>    <td align=\"left\">postgres</td>    <td align=\"left\">UTF8</td>    <td align=\"left\">C</td>    <td align=\"left\">C</td>    <td align=\"left\">&nbsp; </td>    <td align=\"left\">55 MB</td>    <td align=\"left\">pg_default</td>    <td align=\"left\">&nbsp; </td>  </tr></table><p>(1 row)<br /></p>"
      ]
     },
     "metadata": {},
     "output_type": "display_data"
    }
   ],
   "source": [
    "psql_cmd = \"\\l+ homedata\"\n",
    "psql_out = !psql -H -h \"{host}\" -d \"{database}\" -U \"{username}\" -c \"{psql_cmd}\"\n",
    "display_html(''.join(psql_out), raw=True)"
   ]
  },
  {
   "cell_type": "markdown",
   "metadata": {},
   "source": [
    "## Querying and visualizing data: Magic function % and pandas DataFrame"
   ]
  },
  {
   "cell_type": "code",
   "execution_count": 72,
   "metadata": {},
   "outputs": [
    {
     "name": "stdout",
     "output_type": "stream",
     "text": [
      " * postgresql://postgres@localhost/homedata\n",
      "18807 rows affected.\n",
      " * postgresql://postgres@localhost/homedata\n",
      "18765 rows affected.\n",
      " * postgresql://postgres@localhost/homedata\n",
      "18807 rows affected.\n",
      " * postgresql://postgres@localhost/homedata\n",
      "18807 rows affected.\n",
      " * postgresql://postgres@localhost/homedata\n",
      "18765 rows affected.\n",
      " * postgresql://postgres@localhost/homedata\n",
      "18765 rows affected.\n"
     ]
    }
   ],
   "source": [
    "hroom1_result = %sql SELECT * FROM sensor_data WHERE db_insert_time > now() - interval '6 hours' AND room = 'hroom-1'\n",
    "hroom2_result = %sql SELECT * FROM sensor_data WHERE db_insert_time > now() - interval '6 hours' AND room = 'hroom-2'\n",
    "df1 = hroom1_result.DataFrame()\n",
    "df2 = hroom2_result.DataFrame()\n",
    "\n",
    "r1s1 = %sql SELECT db_insert_time, (select avg(a) from unnest(sound1) as a) FROM sensor_data WHERE db_insert_time > now() - interval '6 hours' AND room = 'hroom-1'\n",
    "r1s2 = %sql SELECT db_insert_time, (select avg(a) from unnest(sound2) as a) FROM sensor_data WHERE db_insert_time > now() - interval '6 hours' AND room = 'hroom-1'\n",
    "r2s1 = %sql SELECT db_insert_time, (select avg(a) from unnest(sound1) as a) FROM sensor_data WHERE db_insert_time > now() - interval '6 hours' AND room = 'hroom-2'\n",
    "r2s2 = %sql SELECT db_insert_time, (select avg(a) from unnest(sound2) as a) FROM sensor_data WHERE db_insert_time > now() - interval '6 hours' AND room = 'hroom-2'\n",
    "\n",
    "r1s1_df = r1s1.DataFrame()\n",
    "r1s2_df = r1s2.DataFrame()\n",
    "r2s1_df = r2s1.DataFrame()\n",
    "r2s2_df = r2s2.DataFrame()"
   ]
  },
  {
   "cell_type": "code",
   "execution_count": 73,
   "metadata": {},
   "outputs": [
    {
     "data": {
      "image/png": "[encoded data removed]",
      "text/plain": [
       "<Figure size 432x288 with 1 Axes>"
      ]
     },
     "metadata": {
      "needs_background": "light"
     },
     "output_type": "display_data"
    }
   ],
   "source": [
    "import matplotlib.pyplot as plt\n",
    "import pandas as pd\n",
    "\n",
    "# gca stands for 'get current axis'\n",
    "ax = plt.gca()\n",
    "\n",
    "df1.plot(kind='line', x='db_insert_time', y='motion', ax=ax)\n",
    "df2.plot(kind='line', x='db_insert_time', y='motion', ax=ax)\n",
    "\n",
    "plt.show()"
   ]
  },
  {
   "cell_type": "code",
   "execution_count": 74,
   "metadata": {},
   "outputs": [
    {
     "data": {
      "image/png": "[encoded data removed]",
      "text/plain": [
       "<Figure size 432x288 with 1 Axes>"
      ]
     },
     "metadata": {
      "needs_background": "light"
     },
     "output_type": "display_data"
    }
   ],
   "source": [
    "ax = plt.gca()\n",
    "\n",
    "df1.plot(kind='line', x='db_insert_time', y='humidity', ax=ax)\n",
    "df2.plot(kind='line', x='db_insert_time', y='humidity', ax=ax)\n",
    "\n",
    "plt.show()"
   ]
  },
  {
   "cell_type": "code",
   "execution_count": 75,
   "metadata": {},
   "outputs": [
    {
     "data": {
      "image/png": "[encoded data removed]",
      "text/plain": [
       "<Figure size 432x288 with 1 Axes>"
      ]
     },
     "metadata": {
      "needs_background": "light"
     },
     "output_type": "display_data"
    }
   ],
   "source": [
    "ax = plt.gca()\n",
    "\n",
    "df1.plot(kind='line', x='db_insert_time', y='light', ax=ax)\n",
    "df2.plot(kind='line', x='db_insert_time', y='light', ax=ax)\n",
    "\n",
    "plt.show()"
   ]
  },
  {
   "cell_type": "code",
   "execution_count": 76,
   "metadata": {},
   "outputs": [
    {
     "data": {
      "image/png": "[encoded data removed]",
      "text/plain": [
       "<Figure size 432x288 with 1 Axes>"
      ]
     },
     "metadata": {
      "needs_background": "light"
     },
     "output_type": "display_data"
    }
   ],
   "source": [
    "ax = plt.gca()\n",
    "\n",
    "df1.plot(kind='line', x='db_insert_time', y='temperature', ax=ax)\n",
    "df2.plot(kind='line', x='db_insert_time', y='temperature', ax=ax)\n",
    "\n",
    "plt.show()"
   ]
  },
  {
   "cell_type": "code",
   "execution_count": 77,
   "metadata": {},
   "outputs": [
    {
     "data": {
      "image/png": "[encoded data removed]",
      "text/plain": [
       "<Figure size 432x288 with 1 Axes>"
      ]
     },
     "metadata": {
      "needs_background": "light"
     },
     "output_type": "display_data"
    }
   ],
   "source": [
    "ax = plt.gca()\n",
    "\n",
    "r1s1_df.plot(kind='line', x='db_insert_time', y='avg', ax=ax)\n",
    "r1s2_df.plot(kind='line', x='db_insert_time', y='avg', ax=ax)\n",
    "r2s1_df.plot(kind='line', x='db_insert_time', y='avg', ax=ax)\n",
    "r2s2_df.plot(kind='line', x='db_insert_time', y='avg', ax=ax)\n",
    "\n",
    "plt.show()"
   ]
  },
  {
   "cell_type": "markdown",
   "metadata": {},
   "source": [
    "## Integration with Particle platform"
   ]
  },
  {
   "cell_type": "code",
   "execution_count": 81,
   "metadata": {},
   "outputs": [
    {
     "name": "stdout",
     "output_type": "stream",
     "text": [
      " * postgresql://postgres@localhost/homedata\n",
      "14 rows affected.\n"
     ]
    }
   ],
   "source": [
    "hroom3_result = %sql SELECT * FROM sensor_data WHERE db_insert_time > now() - interval '1 hours' AND room = 'hroom-3'\n",
    "df = hroom3_result.DataFrame()"
   ]
  },
  {
   "cell_type": "code",
   "execution_count": 82,
   "metadata": {
    "collapsed": true,
    "jupyter": {
     "outputs_hidden": true
    }
   },
   "outputs": [
    {
     "data": {
      "text/html": [
       "<div>\n",
       "<style scoped>\n",
       "    .dataframe tbody tr th:only-of-type {\n",
       "        vertical-align: middle;\n",
       "    }\n",
       "\n",
       "    .dataframe tbody tr th {\n",
       "        vertical-align: top;\n",
       "    }\n",
       "\n",
       "    .dataframe thead th {\n",
       "        text-align: right;\n",
       "    }\n",
       "</style>\n",
       "<table border=\"1\" class=\"dataframe\">\n",
       "  <thead>\n",
       "    <tr style=\"text-align: right;\">\n",
       "      <th></th>\n",
       "      <th>db_insert_time</th>\n",
       "      <th>room</th>\n",
       "      <th>data_gen_time</th>\n",
       "      <th>sound1</th>\n",
       "      <th>sound2</th>\n",
       "      <th>temperature</th>\n",
       "      <th>humidity</th>\n",
       "      <th>light</th>\n",
       "      <th>motion</th>\n",
       "      <th>airquality</th>\n",
       "      <th>dustconcentration</th>\n",
       "    </tr>\n",
       "  </thead>\n",
       "  <tbody>\n",
       "    <tr>\n",
       "      <th>0</th>\n",
       "      <td>2020-04-28 16:05:15.565331-04:00</td>\n",
       "      <td>hroom-3</td>\n",
       "      <td>None</td>\n",
       "      <td>None</td>\n",
       "      <td>None</td>\n",
       "      <td>68.0</td>\n",
       "      <td>33.0</td>\n",
       "      <td>None</td>\n",
       "      <td>None</td>\n",
       "      <td>Fresh Air</td>\n",
       "      <td>0.00</td>\n",
       "    </tr>\n",
       "    <tr>\n",
       "      <th>1</th>\n",
       "      <td>2020-04-28 16:05:22.330263-04:00</td>\n",
       "      <td>hroom-3</td>\n",
       "      <td>None</td>\n",
       "      <td>None</td>\n",
       "      <td>None</td>\n",
       "      <td>68.0</td>\n",
       "      <td>33.0</td>\n",
       "      <td>None</td>\n",
       "      <td>None</td>\n",
       "      <td>Fresh Air</td>\n",
       "      <td>0.62</td>\n",
       "    </tr>\n",
       "    <tr>\n",
       "      <th>2</th>\n",
       "      <td>2020-04-28 16:05:28.863833-04:00</td>\n",
       "      <td>hroom-3</td>\n",
       "      <td>None</td>\n",
       "      <td>None</td>\n",
       "      <td>None</td>\n",
       "      <td>68.0</td>\n",
       "      <td>33.0</td>\n",
       "      <td>None</td>\n",
       "      <td>None</td>\n",
       "      <td>Fresh Air</td>\n",
       "      <td>0.62</td>\n",
       "    </tr>\n",
       "    <tr>\n",
       "      <th>3</th>\n",
       "      <td>2020-04-28 16:05:35.463179-04:00</td>\n",
       "      <td>hroom-3</td>\n",
       "      <td>None</td>\n",
       "      <td>None</td>\n",
       "      <td>None</td>\n",
       "      <td>68.0</td>\n",
       "      <td>33.0</td>\n",
       "      <td>None</td>\n",
       "      <td>None</td>\n",
       "      <td>Fresh Air</td>\n",
       "      <td>0.62</td>\n",
       "    </tr>\n",
       "    <tr>\n",
       "      <th>4</th>\n",
       "      <td>2020-04-28 16:05:42.363661-04:00</td>\n",
       "      <td>hroom-3</td>\n",
       "      <td>None</td>\n",
       "      <td>None</td>\n",
       "      <td>None</td>\n",
       "      <td>68.0</td>\n",
       "      <td>33.0</td>\n",
       "      <td>None</td>\n",
       "      <td>None</td>\n",
       "      <td>Fresh Air</td>\n",
       "      <td>0.62</td>\n",
       "    </tr>\n",
       "    <tr>\n",
       "      <th>5</th>\n",
       "      <td>2020-04-28 16:05:49.113431-04:00</td>\n",
       "      <td>hroom-3</td>\n",
       "      <td>None</td>\n",
       "      <td>None</td>\n",
       "      <td>None</td>\n",
       "      <td>68.0</td>\n",
       "      <td>33.0</td>\n",
       "      <td>None</td>\n",
       "      <td>None</td>\n",
       "      <td>Fresh Air</td>\n",
       "      <td>0.62</td>\n",
       "    </tr>\n",
       "    <tr>\n",
       "      <th>6</th>\n",
       "      <td>2020-04-28 16:05:55.919492-04:00</td>\n",
       "      <td>hroom-3</td>\n",
       "      <td>None</td>\n",
       "      <td>None</td>\n",
       "      <td>None</td>\n",
       "      <td>68.0</td>\n",
       "      <td>33.0</td>\n",
       "      <td>None</td>\n",
       "      <td>None</td>\n",
       "      <td>Fresh Air</td>\n",
       "      <td>0.62</td>\n",
       "    </tr>\n",
       "    <tr>\n",
       "      <th>7</th>\n",
       "      <td>2020-04-28 16:06:02.566051-04:00</td>\n",
       "      <td>hroom-3</td>\n",
       "      <td>None</td>\n",
       "      <td>None</td>\n",
       "      <td>None</td>\n",
       "      <td>68.0</td>\n",
       "      <td>33.0</td>\n",
       "      <td>None</td>\n",
       "      <td>None</td>\n",
       "      <td>Fresh Air</td>\n",
       "      <td>0.62</td>\n",
       "    </tr>\n",
       "    <tr>\n",
       "      <th>8</th>\n",
       "      <td>2020-04-28 16:06:09.504734-04:00</td>\n",
       "      <td>hroom-3</td>\n",
       "      <td>None</td>\n",
       "      <td>None</td>\n",
       "      <td>None</td>\n",
       "      <td>68.0</td>\n",
       "      <td>33.0</td>\n",
       "      <td>None</td>\n",
       "      <td>None</td>\n",
       "      <td>Fresh Air</td>\n",
       "      <td>0.62</td>\n",
       "    </tr>\n",
       "    <tr>\n",
       "      <th>9</th>\n",
       "      <td>2020-04-28 16:06:16.014278-04:00</td>\n",
       "      <td>hroom-3</td>\n",
       "      <td>None</td>\n",
       "      <td>None</td>\n",
       "      <td>None</td>\n",
       "      <td>68.0</td>\n",
       "      <td>33.0</td>\n",
       "      <td>None</td>\n",
       "      <td>None</td>\n",
       "      <td>Fresh Air</td>\n",
       "      <td>0.62</td>\n",
       "    </tr>\n",
       "    <tr>\n",
       "      <th>10</th>\n",
       "      <td>2020-04-28 16:06:23.016171-04:00</td>\n",
       "      <td>hroom-3</td>\n",
       "      <td>None</td>\n",
       "      <td>None</td>\n",
       "      <td>None</td>\n",
       "      <td>68.0</td>\n",
       "      <td>33.0</td>\n",
       "      <td>None</td>\n",
       "      <td>None</td>\n",
       "      <td>Fresh Air</td>\n",
       "      <td>0.62</td>\n",
       "    </tr>\n",
       "    <tr>\n",
       "      <th>11</th>\n",
       "      <td>2020-04-28 16:06:29.715655-04:00</td>\n",
       "      <td>hroom-3</td>\n",
       "      <td>None</td>\n",
       "      <td>None</td>\n",
       "      <td>None</td>\n",
       "      <td>68.0</td>\n",
       "      <td>33.0</td>\n",
       "      <td>None</td>\n",
       "      <td>None</td>\n",
       "      <td>Fresh Air</td>\n",
       "      <td>0.62</td>\n",
       "    </tr>\n",
       "    <tr>\n",
       "      <th>12</th>\n",
       "      <td>2020-04-28 16:06:36.364363-04:00</td>\n",
       "      <td>hroom-3</td>\n",
       "      <td>None</td>\n",
       "      <td>None</td>\n",
       "      <td>None</td>\n",
       "      <td>68.0</td>\n",
       "      <td>33.0</td>\n",
       "      <td>None</td>\n",
       "      <td>None</td>\n",
       "      <td>Fresh Air</td>\n",
       "      <td>0.62</td>\n",
       "    </tr>\n",
       "    <tr>\n",
       "      <th>13</th>\n",
       "      <td>2020-04-28 16:06:43.014448-04:00</td>\n",
       "      <td>hroom-3</td>\n",
       "      <td>None</td>\n",
       "      <td>None</td>\n",
       "      <td>None</td>\n",
       "      <td>68.0</td>\n",
       "      <td>33.0</td>\n",
       "      <td>None</td>\n",
       "      <td>None</td>\n",
       "      <td>Fresh Air</td>\n",
       "      <td>0.62</td>\n",
       "    </tr>\n",
       "  </tbody>\n",
       "</table>\n",
       "</div>"
      ],
      "text/plain": [
       "                     db_insert_time     room data_gen_time sound1 sound2  \\\n",
       "0  2020-04-28 16:05:15.565331-04:00  hroom-3          None   None   None   \n",
       "1  2020-04-28 16:05:22.330263-04:00  hroom-3          None   None   None   \n",
       "2  2020-04-28 16:05:28.863833-04:00  hroom-3          None   None   None   \n",
       "3  2020-04-28 16:05:35.463179-04:00  hroom-3          None   None   None   \n",
       "4  2020-04-28 16:05:42.363661-04:00  hroom-3          None   None   None   \n",
       "5  2020-04-28 16:05:49.113431-04:00  hroom-3          None   None   None   \n",
       "6  2020-04-28 16:05:55.919492-04:00  hroom-3          None   None   None   \n",
       "7  2020-04-28 16:06:02.566051-04:00  hroom-3          None   None   None   \n",
       "8  2020-04-28 16:06:09.504734-04:00  hroom-3          None   None   None   \n",
       "9  2020-04-28 16:06:16.014278-04:00  hroom-3          None   None   None   \n",
       "10 2020-04-28 16:06:23.016171-04:00  hroom-3          None   None   None   \n",
       "11 2020-04-28 16:06:29.715655-04:00  hroom-3          None   None   None   \n",
       "12 2020-04-28 16:06:36.364363-04:00  hroom-3          None   None   None   \n",
       "13 2020-04-28 16:06:43.014448-04:00  hroom-3          None   None   None   \n",
       "\n",
       "    temperature  humidity light motion airquality  dustconcentration  \n",
       "0          68.0      33.0  None   None  Fresh Air               0.00  \n",
       "1          68.0      33.0  None   None  Fresh Air               0.62  \n",
       "2          68.0      33.0  None   None  Fresh Air               0.62  \n",
       "3          68.0      33.0  None   None  Fresh Air               0.62  \n",
       "4          68.0      33.0  None   None  Fresh Air               0.62  \n",
       "5          68.0      33.0  None   None  Fresh Air               0.62  \n",
       "6          68.0      33.0  None   None  Fresh Air               0.62  \n",
       "7          68.0      33.0  None   None  Fresh Air               0.62  \n",
       "8          68.0      33.0  None   None  Fresh Air               0.62  \n",
       "9          68.0      33.0  None   None  Fresh Air               0.62  \n",
       "10         68.0      33.0  None   None  Fresh Air               0.62  \n",
       "11         68.0      33.0  None   None  Fresh Air               0.62  \n",
       "12         68.0      33.0  None   None  Fresh Air               0.62  \n",
       "13         68.0      33.0  None   None  Fresh Air               0.62  "
      ]
     },
     "execution_count": 82,
     "metadata": {},
     "output_type": "execute_result"
    }
   ],
   "source": [
    "df"
   ]
  },
  {
   "cell_type": "code",
   "execution_count": null,
   "metadata": {},
   "outputs": [],
   "source": []
  }
 ],
 "metadata": {
  "kernelspec": {
   "display_name": "Python 3",
   "language": "python",
   "name": "python3"
  },
  "language_info": {
   "codemirror_mode": {
    "name": "ipython",
    "version": 3
   },
   "file_extension": ".py",
   "mimetype": "text/x-python",
   "name": "python",
   "nbconvert_exporter": "python",
   "pygments_lexer": "ipython3",
   "version": "3.7.6"
  }
 },
 "nbformat": 4,
 "nbformat_minor": 4
}
