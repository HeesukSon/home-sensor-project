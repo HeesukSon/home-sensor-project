{
 "cells": [
  {
   "cell_type": "markdown",
   "metadata": {},
   "source": [
    "The goal of this notebook is to study how to **fetch IoT timeseries data from the server-side TimescaleDB** and how to **visualize them with Python plotting libraries** effectively. Proper **data sampling rate** needs to be investigated as well in this notebook. For this notebook, online materials listed below are used:\n",
    "* Installation, DB Connection, and PostgreSQL querying: https://medium.com/analytics-vidhya/postgresql-integration-with-jupyter-notebook-deb97579a38d\n",
    "* Using PostgreSQL meta-commands: https://medium.com/data-analysis-for-beginners/bring-native-psql-magic-into-jupyter-notebook-50b663d856b5\n",
    "* Using masic function % for storing data to variables: https://towardsdatascience.com/heres-how-to-run-sql-in-jupyter-notebooks-f26eb90f3259"
   ]
  },
  {
   "cell_type": "markdown",
   "metadata": {},
   "source": [
    "## Loading libraries and connecting to DB"
   ]
  },
  {
   "cell_type": "code",
   "execution_count": 2,
   "metadata": {},
   "outputs": [],
   "source": [
    "import sqlalchemy\n",
    "from sqlalchemy import create_engine\n",
    "from IPython.display import display_html"
   ]
  },
  {
   "cell_type": "code",
   "execution_count": 3,
   "metadata": {},
   "outputs": [],
   "source": [
    "%load_ext sql"
   ]
  },
  {
   "cell_type": "code",
   "execution_count": 4,
   "metadata": {},
   "outputs": [
    {
     "data": {
      "text/plain": [
       "'Connected: postgres@homedata'"
      ]
     },
     "execution_count": 4,
     "metadata": {},
     "output_type": "execute_result"
    }
   ],
   "source": [
    "%sql postgresql://postgres@localhost/homedata"
   ]
  },
  {
   "cell_type": "code",
   "execution_count": 5,
   "metadata": {},
   "outputs": [],
   "source": [
    "engine = create_engine('postgresql://postgres@localhost/homedata')"
   ]
  },
  {
   "cell_type": "markdown",
   "metadata": {},
   "source": [
    "## Query Example: Printing top 3 rows"
   ]
  },
  {
   "cell_type": "code",
   "execution_count": 6,
   "metadata": {},
   "outputs": [
    {
     "name": "stdout",
     "output_type": "stream",
     "text": [
      " * postgresql://postgres@localhost/homedata\n",
      "3 rows affected.\n"
     ]
    },
    {
     "data": {
      "text/html": [
       "<table>\n",
       "    <tr>\n",
       "        <th>db_insert_time</th>\n",
       "        <th>room</th>\n",
       "        <th>data_gen_time</th>\n",
       "        <th>sound1</th>\n",
       "        <th>sound2</th>\n",
       "        <th>temperature</th>\n",
       "        <th>humidity</th>\n",
       "        <th>light</th>\n",
       "        <th>motion</th>\n",
       "        <th>airquality</th>\n",
       "        <th>dustconcentration</th>\n",
       "    </tr>\n",
       "    <tr>\n",
       "        <td>2020-04-26 14:44:33.240067-04:00</td>\n",
       "        <td>hroom-1</td>\n",
       "        <td>2020-04-26 14:44:33-04:00</td>\n",
       "        <td>[38.84491, 41.548523, 43.78904, 37.553318, 34.932198, 34.789368, 35.375282, 37.072533, 36.9852, 38.804432]</td>\n",
       "        <td>[34.714874, 44.053913, 40.614216, 37.209526, 34.59998, 34.460262, 34.454475, 36.158672, 35.970127, 37.8359]</td>\n",
       "        <td>28.289</td>\n",
       "        <td>29.041</td>\n",
       "        <td>95.67</td>\n",
       "        <td>2.5499</td>\n",
       "        <td>None</td>\n",
       "        <td>None</td>\n",
       "    </tr>\n",
       "    <tr>\n",
       "        <td>2020-04-26 14:44:34.464842-04:00</td>\n",
       "        <td>hroom-1</td>\n",
       "        <td>2020-04-26 14:44:34-04:00</td>\n",
       "        <td>[37.034363, 42.94117, 43.11823, 36.212498, 34.61035, 34.721, 34.98621, 36.95212, 37.28573, 38.667828]</td>\n",
       "        <td>[33.202198, 42.82431, 40.96828, 36.672382, 34.514984, 36.18337, 34.71283, 36.63037, 36.36674, 38.095177]</td>\n",
       "        <td>28.236</td>\n",
       "        <td>29.047</td>\n",
       "        <td>95.79</td>\n",
       "        <td>2.57324</td>\n",
       "        <td>None</td>\n",
       "        <td>None</td>\n",
       "    </tr>\n",
       "    <tr>\n",
       "        <td>2020-04-26 14:44:35.536709-04:00</td>\n",
       "        <td>hroom-2</td>\n",
       "        <td>2020-04-26 09:44:35-04:00</td>\n",
       "        <td>[36.57462, 40.622955, 47.64065, 37.1816, 36.083546, 35.031864, 35.373005, 37.80639, 37.482098, 38.176067]</td>\n",
       "        <td>[37.725174, 41.904285, 44.440018, 37.784557, 35.9873, 35.374237, 35.76456, 38.074524, 38.428814, 39.666794]</td>\n",
       "        <td>20.059</td>\n",
       "        <td>36.423</td>\n",
       "        <td>72.63</td>\n",
       "        <td>2.78305</td>\n",
       "        <td>None</td>\n",
       "        <td>None</td>\n",
       "    </tr>\n",
       "</table>"
      ],
      "text/plain": [
       "[(datetime.datetime(2020, 4, 26, 14, 44, 33, 240067, tzinfo=psycopg2.tz.FixedOffsetTimezone(offset=-240, name=None)), 'hroom-1', datetime.datetime(2020, 4, 26, 14, 44, 33, tzinfo=psycopg2.tz.FixedOffsetTimezone(offset=-240, name=None)), [38.84491, 41.548523, 43.78904, 37.553318, 34.932198, 34.789368, 35.375282, 37.072533, 36.9852, 38.804432], [34.714874, 44.053913, 40.614216, 37.209526, 34.59998, 34.460262, 34.454475, 36.158672, 35.970127, 37.8359], 28.289, 29.041, 95.67, 2.5499, None, None),\n",
       " (datetime.datetime(2020, 4, 26, 14, 44, 34, 464842, tzinfo=psycopg2.tz.FixedOffsetTimezone(offset=-240, name=None)), 'hroom-1', datetime.datetime(2020, 4, 26, 14, 44, 34, tzinfo=psycopg2.tz.FixedOffsetTimezone(offset=-240, name=None)), [37.034363, 42.94117, 43.11823, 36.212498, 34.61035, 34.721, 34.98621, 36.95212, 37.28573, 38.667828], [33.202198, 42.82431, 40.96828, 36.672382, 34.514984, 36.18337, 34.71283, 36.63037, 36.36674, 38.095177], 28.236, 29.047, 95.79, 2.57324, None, None),\n",
       " (datetime.datetime(2020, 4, 26, 14, 44, 35, 536709, tzinfo=psycopg2.tz.FixedOffsetTimezone(offset=-240, name=None)), 'hroom-2', datetime.datetime(2020, 4, 26, 9, 44, 35, tzinfo=psycopg2.tz.FixedOffsetTimezone(offset=-240, name=None)), [36.57462, 40.622955, 47.64065, 37.1816, 36.083546, 35.031864, 35.373005, 37.80639, 37.482098, 38.176067], [37.725174, 41.904285, 44.440018, 37.784557, 35.9873, 35.374237, 35.76456, 38.074524, 38.428814, 39.666794], 20.059, 36.423, 72.63, 2.78305, None, None)]"
      ]
     },
     "execution_count": 6,
     "metadata": {},
     "output_type": "execute_result"
    }
   ],
   "source": [
    "%%sql\n",
    "\n",
    "select * from sensor_data limit 3"
   ]
  },
  {
   "cell_type": "markdown",
   "metadata": {},
   "source": [
    "## PSQL Meta-commands: Printing out the total count of inserted data rows "
   ]
  },
  {
   "cell_type": "code",
   "execution_count": 25,
   "metadata": {},
   "outputs": [
    {
     "name": "stdout",
     "output_type": "stream",
     "text": [
      " * postgresql://postgres@localhost/homedata\n",
      "1 rows affected.\n"
     ]
    },
    {
     "data": {
      "text/html": [
       "<table>\n",
       "    <tr>\n",
       "        <th>count</th>\n",
       "    </tr>\n",
       "    <tr>\n",
       "        <td>1433521</td>\n",
       "    </tr>\n",
       "</table>"
      ],
      "text/plain": [
       "[(1433521,)]"
      ]
     },
     "execution_count": 25,
     "metadata": {},
     "output_type": "execute_result"
    }
   ],
   "source": [
    "%%sql\n",
    "select count(*) from sensor_data"
   ]
  },
  {
   "cell_type": "code",
   "execution_count": 8,
   "metadata": {},
   "outputs": [
    {
     "name": "stdin",
     "output_type": "stream",
     "text": [
      "Enter psql command to execute:  \\dt\n"
     ]
    },
    {
     "data": {
      "text/html": [
       "<table border=\"1\">  <caption>List of relations</caption>  <tr>    <th align=\"center\">Schema</th>    <th align=\"center\">Name</th>    <th align=\"center\">Type</th>    <th align=\"center\">Owner</th>  </tr>  <tr valign=\"top\">    <td align=\"left\">public</td>    <td align=\"left\">sensor_data</td>    <td align=\"left\">table</td>    <td align=\"left\">postgres</td>  </tr>  <tr valign=\"top\">    <td align=\"left\">public</td>    <td align=\"left\">sensordata</td>    <td align=\"left\">table</td>    <td align=\"left\">postgres</td>  </tr></table><p>(2 rows)<br /></p>"
      ]
     },
     "metadata": {},
     "output_type": "display_data"
    }
   ],
   "source": [
    "host='localhost'\n",
    "database='homedata'\n",
    "username='postgres'\n",
    "\n",
    "### psql_cmd examples\n",
    "# \\dt : prints data tables\n",
    "# \\d sensor_data : prints sensor_data table schema\n",
    "# \\l+ homedata : prints database size\n",
    "###\n",
    "psql_cmd = input(\"Enter psql command to execute: \")\n",
    "psql_out = !psql -H -h \"{host}\" -d \"{database}\" -U \"{username}\" -c \"{psql_cmd}\"\n",
    "display_html(''.join(psql_out), raw=True)"
   ]
  },
  {
   "cell_type": "code",
   "execution_count": 26,
   "metadata": {},
   "outputs": [
    {
     "data": {
      "text/html": [
       "<table border=\"1\">  <caption>Table &quot;public.sensor_data&quot;</caption>  <tr>    <th align=\"center\">Column</th>    <th align=\"center\">Type</th>    <th align=\"center\">Collation</th>    <th align=\"center\">Nullable</th>    <th align=\"center\">Default</th>  </tr>  <tr valign=\"top\">    <td align=\"left\">db_insert_time</td>    <td align=\"left\">timestamp with time zone</td>    <td align=\"left\">&nbsp; </td>    <td align=\"left\">not null</td>    <td align=\"left\">&nbsp; </td>  </tr>  <tr valign=\"top\">    <td align=\"left\">room</td>    <td align=\"left\">text</td>    <td align=\"left\">&nbsp; </td>    <td align=\"left\">not null</td>    <td align=\"left\">&nbsp; </td>  </tr>  <tr valign=\"top\">    <td align=\"left\">data_gen_time</td>    <td align=\"left\">timestamp with time zone</td>    <td align=\"left\">&nbsp; </td>    <td align=\"left\">&nbsp; </td>    <td align=\"left\">&nbsp; </td>  </tr>  <tr valign=\"top\">    <td align=\"left\">sound1</td>    <td align=\"left\">real[]</td>    <td align=\"left\">&nbsp; </td>    <td align=\"left\">&nbsp; </td>    <td align=\"left\">&nbsp; </td>  </tr>  <tr valign=\"top\">    <td align=\"left\">sound2</td>    <td align=\"left\">real[]</td>    <td align=\"left\">&nbsp; </td>    <td align=\"left\">&nbsp; </td>    <td align=\"left\">&nbsp; </td>  </tr>  <tr valign=\"top\">    <td align=\"left\">temperature</td>    <td align=\"left\">real</td>    <td align=\"left\">&nbsp; </td>    <td align=\"left\">&nbsp; </td>    <td align=\"left\">&nbsp; </td>  </tr>  <tr valign=\"top\">    <td align=\"left\">humidity</td>    <td align=\"left\">real</td>    <td align=\"left\">&nbsp; </td>    <td align=\"left\">&nbsp; </td>    <td align=\"left\">&nbsp; </td>  </tr>  <tr valign=\"top\">    <td align=\"left\">light</td>    <td align=\"left\">real</td>    <td align=\"left\">&nbsp; </td>    <td align=\"left\">&nbsp; </td>    <td align=\"left\">&nbsp; </td>  </tr>  <tr valign=\"top\">    <td align=\"left\">motion</td>    <td align=\"left\">real</td>    <td align=\"left\">&nbsp; </td>    <td align=\"left\">&nbsp; </td>    <td align=\"left\">&nbsp; </td>  </tr>  <tr valign=\"top\">    <td align=\"left\">airquality</td>    <td align=\"left\">text</td>    <td align=\"left\">&nbsp; </td>    <td align=\"left\">&nbsp; </td>    <td align=\"left\">&nbsp; </td>  </tr>  <tr valign=\"top\">    <td align=\"left\">dustconcentration</td>    <td align=\"left\">real</td>    <td align=\"left\">&nbsp; </td>    <td align=\"left\">&nbsp; </td>    <td align=\"left\">&nbsp; </td>  </tr></table>"
      ]
     },
     "metadata": {},
     "output_type": "display_data"
    }
   ],
   "source": [
    "psql_cmd = \"\\d sensor_data\"\n",
    "psql_out = !psql -H -h \"{host}\" -d \"{database}\" -U \"{username}\" -c \"{psql_cmd}\"\n",
    "display_html(''.join(psql_out), raw=True)"
   ]
  },
  {
   "cell_type": "code",
   "execution_count": 27,
   "metadata": {},
   "outputs": [
    {
     "data": {
      "text/html": [
       "<table border=\"1\">  <caption>List of databases</caption>  <tr>    <th align=\"center\">Name</th>    <th align=\"center\">Owner</th>    <th align=\"center\">Encoding</th>    <th align=\"center\">Collate</th>    <th align=\"center\">Ctype</th>    <th align=\"center\">Access privileges</th>    <th align=\"center\">Size</th>    <th align=\"center\">Tablespace</th>    <th align=\"center\">Description</th>  </tr>  <tr valign=\"top\">    <td align=\"left\">homedata</td>    <td align=\"left\">postgres</td>    <td align=\"left\">UTF8</td>    <td align=\"left\">C</td>    <td align=\"left\">C</td>    <td align=\"left\">&nbsp; </td>    <td align=\"left\">280 MB</td>    <td align=\"left\">pg_default</td>    <td align=\"left\">&nbsp; </td>  </tr></table><p>(1 row)<br /></p>"
      ]
     },
     "metadata": {},
     "output_type": "display_data"
    }
   ],
   "source": [
    "psql_cmd = \"\\l+ homedata\"\n",
    "psql_out = !psql -H -h \"{host}\" -d \"{database}\" -U \"{username}\" -c \"{psql_cmd}\"\n",
    "display_html(''.join(psql_out), raw=True)"
   ]
  },
  {
   "cell_type": "markdown",
   "metadata": {},
   "source": [
    "## Querying and visualizing data: Magic function % and pandas DataFrame"
   ]
  },
  {
   "cell_type": "code",
   "execution_count": 78,
   "metadata": {},
   "outputs": [
    {
     "name": "stdout",
     "output_type": "stream",
     "text": [
      " * postgresql://postgres@localhost/homedata\n",
      "18805 rows affected.\n",
      " * postgresql://postgres@localhost/homedata\n",
      "18808 rows affected.\n"
     ]
    }
   ],
   "source": [
    "hroom1_result = %sql SELECT * FROM sensor_data WHERE db_insert_time > now() - interval '6 hours' AND room = 'hroom-1'\n",
    "hroom2_result = %sql SELECT * FROM sensor_data WHERE db_insert_time > now() - interval '6 hours' AND room = 'hroom-2'\n",
    "df1 = hroom1_result.DataFrame()\n",
    "df2 = hroom2_result.DataFrame()"
   ]
  },
  {
   "cell_type": "code",
   "execution_count": 79,
   "metadata": {},
   "outputs": [
    {
     "name": "stdout",
     "output_type": "stream",
     "text": [
      " * postgresql://postgres@localhost/homedata\n",
      "18805 rows affected.\n",
      " * postgresql://postgres@localhost/homedata\n",
      "18805 rows affected.\n",
      " * postgresql://postgres@localhost/homedata\n",
      "18808 rows affected.\n",
      " * postgresql://postgres@localhost/homedata\n",
      "18808 rows affected.\n"
     ]
    }
   ],
   "source": [
    "r1s1 = %sql SELECT db_insert_time, (select avg(a) from unnest(sound1) as a) FROM sensor_data WHERE db_insert_time > now() - interval '6 hours' AND room = 'hroom-1'\n",
    "r1s2 = %sql SELECT db_insert_time, (select avg(a) from unnest(sound2) as a) FROM sensor_data WHERE db_insert_time > now() - interval '6 hours' AND room = 'hroom-1'\n",
    "r2s1 = %sql SELECT db_insert_time, (select avg(a) from unnest(sound1) as a) FROM sensor_data WHERE db_insert_time > now() - interval '6 hours' AND room = 'hroom-2'\n",
    "r2s2 = %sql SELECT db_insert_time, (select avg(a) from unnest(sound2) as a) FROM sensor_data WHERE db_insert_time > now() - interval '6 hours' AND room = 'hroom-2'\n",
    "\n",
    "r1s1_df = r1s1.DataFrame()\n",
    "r1s2_df = r1s2.DataFrame()\n",
    "r2s1_df = r2s1.DataFrame()\n",
    "r2s2_df = r2s2.DataFrame()"
   ]
  },
  {
   "cell_type": "code",
   "execution_count": 80,
   "metadata": {},
   "outputs": [
    {
     "data": {
      "image/png": "[encoded data removed]",
      "text/plain": [
       "<Figure size 432x288 with 1 Axes>"
      ]
     },
     "metadata": {
      "needs_background": "light"
     },
     "output_type": "display_data"
    }
   ],
   "source": [
    "import matplotlib.pyplot as plt\n",
    "import pandas as pd\n",
    "\n",
    "# gca stands for 'get current axis'\n",
    "ax = plt.gca()\n",
    "\n",
    "df1.plot(kind='line', x='db_insert_time', y='motion', ax=ax)\n",
    "df2.plot(kind='line', x='db_insert_time', y='motion', ax=ax)\n",
    "\n",
    "ax.legend(['roadside', 'inside'], loc='best')\n",
    "\n",
    "plt.show()"
   ]
  },
  {
   "cell_type": "code",
   "execution_count": 81,
   "metadata": {},
   "outputs": [
    {
     "data": {
      "image/png": "[encoded data removed]",
      "text/plain": [
       "<Figure size 432x288 with 1 Axes>"
      ]
     },
     "metadata": {
      "needs_background": "light"
     },
     "output_type": "display_data"
    }
   ],
   "source": [
    "ax = plt.gca()\n",
    "\n",
    "df1.plot(kind='line', x='db_insert_time', y='humidity', ax=ax)\n",
    "df2.plot(kind='line', x='db_insert_time', y='humidity', ax=ax)\n",
    "\n",
    "ax.legend(['roadside', 'inside'], loc='best')\n",
    "\n",
    "plt.show()"
   ]
  },
  {
   "cell_type": "code",
   "execution_count": 82,
   "metadata": {},
   "outputs": [
    {
     "data": {
      "image/png": "[encoded data removed]",
      "text/plain": [
       "<Figure size 432x288 with 1 Axes>"
      ]
     },
     "metadata": {
      "needs_background": "light"
     },
     "output_type": "display_data"
    }
   ],
   "source": [
    "ax = plt.gca()\n",
    "\n",
    "df1.plot(kind='line', x='db_insert_time', y='light', ax=ax)\n",
    "df2.plot(kind='line', x='db_insert_time', y='light', ax=ax)\n",
    "\n",
    "ax.legend(['roadside', 'inside'], loc='best')\n",
    "\n",
    "plt.show()"
   ]
  },
  {
   "cell_type": "code",
   "execution_count": 83,
   "metadata": {},
   "outputs": [
    {
     "data": {
      "image/png": "[encoded data removed]",
      "text/plain": [
       "<Figure size 432x288 with 1 Axes>"
      ]
     },
     "metadata": {
      "needs_background": "light"
     },
     "output_type": "display_data"
    }
   ],
   "source": [
    "ax = plt.gca()\n",
    "\n",
    "df1.plot(kind='line', x='db_insert_time', y='temperature', ax=ax)\n",
    "df2.plot(kind='line', x='db_insert_time', y='temperature', ax=ax)\n",
    "\n",
    "ax.legend(['roadside', 'inside'], loc='best')\n",
    "\n",
    "plt.show()"
   ]
  },
  {
   "cell_type": "code",
   "execution_count": 84,
   "metadata": {},
   "outputs": [
    {
     "data": {
      "image/png": "[encoded data removed]",
      "text/plain": [
       "<Figure size 432x288 with 1 Axes>"
      ]
     },
     "metadata": {
      "needs_background": "light"
     },
     "output_type": "display_data"
    }
   ],
   "source": [
    "ax = plt.gca()\n",
    "\n",
    "r1s1_df.plot(kind='line', x='db_insert_time', y='avg', ax=ax)\n",
    "r1s2_df.plot(kind='line', x='db_insert_time', y='avg', ax=ax)\n",
    "r2s1_df.plot(kind='line', x='db_insert_time', y='avg', ax=ax)\n",
    "r2s2_df.plot(kind='line', x='db_insert_time', y='avg', ax=ax)\n",
    "\n",
    "ax.legend(['roadside', 'bed', 'kitchen', 'desk'], loc='best')\n",
    "\n",
    "plt.show()"
   ]
  },
  {
   "cell_type": "markdown",
   "metadata": {},
   "source": [
    "## Integration with Particle platform"
   ]
  },
  {
   "cell_type": "code",
   "execution_count": 28,
   "metadata": {},
   "outputs": [
    {
     "name": "stdout",
     "output_type": "stream",
     "text": [
      " * postgresql://postgres@localhost/homedata\n",
      "88 rows affected.\n"
     ]
    },
    {
     "data": {
      "text/html": [
       "<div>\n",
       "<style scoped>\n",
       "    .dataframe tbody tr th:only-of-type {\n",
       "        vertical-align: middle;\n",
       "    }\n",
       "\n",
       "    .dataframe tbody tr th {\n",
       "        vertical-align: top;\n",
       "    }\n",
       "\n",
       "    .dataframe thead th {\n",
       "        text-align: right;\n",
       "    }\n",
       "</style>\n",
       "<table border=\"1\" class=\"dataframe\">\n",
       "  <thead>\n",
       "    <tr style=\"text-align: right;\">\n",
       "      <th></th>\n",
       "      <th>db_insert_time</th>\n",
       "      <th>room</th>\n",
       "      <th>data_gen_time</th>\n",
       "      <th>sound1</th>\n",
       "      <th>sound2</th>\n",
       "      <th>temperature</th>\n",
       "      <th>humidity</th>\n",
       "      <th>light</th>\n",
       "      <th>motion</th>\n",
       "      <th>airquality</th>\n",
       "      <th>dustconcentration</th>\n",
       "    </tr>\n",
       "  </thead>\n",
       "  <tbody>\n",
       "    <tr>\n",
       "      <th>0</th>\n",
       "      <td>2020-05-07 12:28:11.158750-04:00</td>\n",
       "      <td>hroom-3</td>\n",
       "      <td>2020-05-07 16:28:10-04:00</td>\n",
       "      <td>None</td>\n",
       "      <td>None</td>\n",
       "      <td>68.0</td>\n",
       "      <td>40.0</td>\n",
       "      <td>None</td>\n",
       "      <td>None</td>\n",
       "      <td>Fresh Air</td>\n",
       "      <td>0.62</td>\n",
       "    </tr>\n",
       "    <tr>\n",
       "      <th>8</th>\n",
       "      <td>2020-05-07 12:28:47.314626-04:00</td>\n",
       "      <td>hroom-3</td>\n",
       "      <td>2020-05-07 16:28:47-04:00</td>\n",
       "      <td>None</td>\n",
       "      <td>None</td>\n",
       "      <td>68.0</td>\n",
       "      <td>40.0</td>\n",
       "      <td>None</td>\n",
       "      <td>None</td>\n",
       "      <td>Fresh Air</td>\n",
       "      <td>0.62</td>\n",
       "    </tr>\n",
       "    <tr>\n",
       "      <th>3</th>\n",
       "      <td>2020-05-07 12:29:23.461564-04:00</td>\n",
       "      <td>hroom-3</td>\n",
       "      <td>2020-05-07 16:29:23-04:00</td>\n",
       "      <td>None</td>\n",
       "      <td>None</td>\n",
       "      <td>68.0</td>\n",
       "      <td>40.0</td>\n",
       "      <td>None</td>\n",
       "      <td>None</td>\n",
       "      <td>Fresh Air</td>\n",
       "      <td>0.62</td>\n",
       "    </tr>\n",
       "    <tr>\n",
       "      <th>6</th>\n",
       "      <td>2020-05-07 12:29:59.548780-04:00</td>\n",
       "      <td>hroom-3</td>\n",
       "      <td>2020-05-07 16:29:59-04:00</td>\n",
       "      <td>None</td>\n",
       "      <td>None</td>\n",
       "      <td>68.0</td>\n",
       "      <td>40.0</td>\n",
       "      <td>None</td>\n",
       "      <td>None</td>\n",
       "      <td>Fresh Air</td>\n",
       "      <td>0.62</td>\n",
       "    </tr>\n",
       "    <tr>\n",
       "      <th>9</th>\n",
       "      <td>2020-05-07 12:30:35.635163-04:00</td>\n",
       "      <td>hroom-3</td>\n",
       "      <td>2020-05-07 16:30:35-04:00</td>\n",
       "      <td>None</td>\n",
       "      <td>None</td>\n",
       "      <td>68.0</td>\n",
       "      <td>40.0</td>\n",
       "      <td>None</td>\n",
       "      <td>None</td>\n",
       "      <td>Fresh Air</td>\n",
       "      <td>0.62</td>\n",
       "    </tr>\n",
       "    <tr>\n",
       "      <th>...</th>\n",
       "      <td>...</td>\n",
       "      <td>...</td>\n",
       "      <td>...</td>\n",
       "      <td>...</td>\n",
       "      <td>...</td>\n",
       "      <td>...</td>\n",
       "      <td>...</td>\n",
       "      <td>...</td>\n",
       "      <td>...</td>\n",
       "      <td>...</td>\n",
       "      <td>...</td>\n",
       "    </tr>\n",
       "    <tr>\n",
       "      <th>66</th>\n",
       "      <td>2020-05-07 12:46:50.154041-04:00</td>\n",
       "      <td>hroom-3</td>\n",
       "      <td>2020-05-07 16:46:09-04:00</td>\n",
       "      <td>None</td>\n",
       "      <td>None</td>\n",
       "      <td>68.0</td>\n",
       "      <td>40.0</td>\n",
       "      <td>None</td>\n",
       "      <td>None</td>\n",
       "      <td>Fresh Air</td>\n",
       "      <td>0.62</td>\n",
       "    </tr>\n",
       "    <tr>\n",
       "      <th>67</th>\n",
       "      <td>2020-05-07 12:46:50.154478-04:00</td>\n",
       "      <td>hroom-3</td>\n",
       "      <td>2020-05-07 16:46:19-04:00</td>\n",
       "      <td>None</td>\n",
       "      <td>None</td>\n",
       "      <td>68.0</td>\n",
       "      <td>40.0</td>\n",
       "      <td>None</td>\n",
       "      <td>None</td>\n",
       "      <td>Fresh Air</td>\n",
       "      <td>0.62</td>\n",
       "    </tr>\n",
       "    <tr>\n",
       "      <th>68</th>\n",
       "      <td>2020-05-07 12:46:50.154787-04:00</td>\n",
       "      <td>hroom-3</td>\n",
       "      <td>2020-05-07 16:46:29-04:00</td>\n",
       "      <td>None</td>\n",
       "      <td>None</td>\n",
       "      <td>68.0</td>\n",
       "      <td>40.0</td>\n",
       "      <td>None</td>\n",
       "      <td>None</td>\n",
       "      <td>Fresh Air</td>\n",
       "      <td>0.62</td>\n",
       "    </tr>\n",
       "    <tr>\n",
       "      <th>69</th>\n",
       "      <td>2020-05-07 12:46:50.155092-04:00</td>\n",
       "      <td>hroom-3</td>\n",
       "      <td>2020-05-07 16:46:39-04:00</td>\n",
       "      <td>None</td>\n",
       "      <td>None</td>\n",
       "      <td>68.0</td>\n",
       "      <td>40.0</td>\n",
       "      <td>None</td>\n",
       "      <td>None</td>\n",
       "      <td>Fresh Air</td>\n",
       "      <td>0.62</td>\n",
       "    </tr>\n",
       "    <tr>\n",
       "      <th>70</th>\n",
       "      <td>2020-05-07 12:46:50.155394-04:00</td>\n",
       "      <td>hroom-3</td>\n",
       "      <td>2020-05-07 16:46:49-04:00</td>\n",
       "      <td>None</td>\n",
       "      <td>None</td>\n",
       "      <td>68.0</td>\n",
       "      <td>40.0</td>\n",
       "      <td>None</td>\n",
       "      <td>None</td>\n",
       "      <td>Fresh Air</td>\n",
       "      <td>0.62</td>\n",
       "    </tr>\n",
       "  </tbody>\n",
       "</table>\n",
       "<p>88 rows × 11 columns</p>\n",
       "</div>"
      ],
      "text/plain": [
       "                     db_insert_time     room             data_gen_time sound1  \\\n",
       "0  2020-05-07 12:28:11.158750-04:00  hroom-3 2020-05-07 16:28:10-04:00   None   \n",
       "8  2020-05-07 12:28:47.314626-04:00  hroom-3 2020-05-07 16:28:47-04:00   None   \n",
       "3  2020-05-07 12:29:23.461564-04:00  hroom-3 2020-05-07 16:29:23-04:00   None   \n",
       "6  2020-05-07 12:29:59.548780-04:00  hroom-3 2020-05-07 16:29:59-04:00   None   \n",
       "9  2020-05-07 12:30:35.635163-04:00  hroom-3 2020-05-07 16:30:35-04:00   None   \n",
       "..                              ...      ...                       ...    ...   \n",
       "66 2020-05-07 12:46:50.154041-04:00  hroom-3 2020-05-07 16:46:09-04:00   None   \n",
       "67 2020-05-07 12:46:50.154478-04:00  hroom-3 2020-05-07 16:46:19-04:00   None   \n",
       "68 2020-05-07 12:46:50.154787-04:00  hroom-3 2020-05-07 16:46:29-04:00   None   \n",
       "69 2020-05-07 12:46:50.155092-04:00  hroom-3 2020-05-07 16:46:39-04:00   None   \n",
       "70 2020-05-07 12:46:50.155394-04:00  hroom-3 2020-05-07 16:46:49-04:00   None   \n",
       "\n",
       "   sound2  temperature  humidity light motion airquality  dustconcentration  \n",
       "0    None         68.0      40.0  None   None  Fresh Air               0.62  \n",
       "8    None         68.0      40.0  None   None  Fresh Air               0.62  \n",
       "3    None         68.0      40.0  None   None  Fresh Air               0.62  \n",
       "6    None         68.0      40.0  None   None  Fresh Air               0.62  \n",
       "9    None         68.0      40.0  None   None  Fresh Air               0.62  \n",
       "..    ...          ...       ...   ...    ...        ...                ...  \n",
       "66   None         68.0      40.0  None   None  Fresh Air               0.62  \n",
       "67   None         68.0      40.0  None   None  Fresh Air               0.62  \n",
       "68   None         68.0      40.0  None   None  Fresh Air               0.62  \n",
       "69   None         68.0      40.0  None   None  Fresh Air               0.62  \n",
       "70   None         68.0      40.0  None   None  Fresh Air               0.62  \n",
       "\n",
       "[88 rows x 11 columns]"
      ]
     },
     "execution_count": 28,
     "metadata": {},
     "output_type": "execute_result"
    }
   ],
   "source": [
    "hroom3_result = %sql SELECT * FROM sensor_data WHERE db_insert_time > now() - interval '1 hours' AND room = 'hroom-3' AND data_gen_time is NOT NULL\n",
    "df = hroom3_result.DataFrame()\n",
    "df.sort_values(by=['db_insert_time'])"
   ]
  },
  {
   "cell_type": "markdown",
   "metadata": {},
   "source": [
    "## Insert an Item to DB Table"
   ]
  },
  {
   "cell_type": "code",
   "execution_count": 297,
   "metadata": {},
   "outputs": [
    {
     "name": "stdout",
     "output_type": "stream",
     "text": [
      " * postgresql://postgres@localhost/homedata\n",
      "1 rows affected.\n"
     ]
    },
    {
     "data": {
      "text/plain": [
       "[]"
      ]
     },
     "execution_count": 297,
     "metadata": {},
     "output_type": "execute_result"
    }
   ],
   "source": [
    "t = '2020-05-07 20:17:00'\n",
    "act = 'relax'\n",
    "start = 'end'\n",
    "#start = 'end'\n",
    "#%sql INSERT INTO user_activity (db_insert_time, room, data_gen_time, activity, start_end) VALUES (now(), 'hroom', '2020-05-07 11:01:00', 'personal_hygiene', 'end')\n",
    "%sql INSERT INTO user_activity (db_insert_time, room, data_gen_time, activity, start_end) VALUES (now(), 'hroom', '{t}', '{act}', '{start}')\n"
   ]
  },
  {
   "cell_type": "code",
   "execution_count": 299,
   "metadata": {},
   "outputs": [
    {
     "name": "stdout",
     "output_type": "stream",
     "text": [
      " * postgresql://postgres@localhost/homedata\n",
      "42 rows affected.\n"
     ]
    }
   ],
   "source": [
    "result = %sql SELECT * FROM user_activity\n",
    "df = result.DataFrame()\n",
    "df.sort_values(by=['data_gen_time'], inplace=True, ascending = True)"
   ]
  },
  {
   "cell_type": "markdown",
   "metadata": {},
   "source": [
    "# Mixed Visualization of Time Series data with Activity Labels"
   ]
  },
  {
   "cell_type": "markdown",
   "metadata": {},
   "source": [
    "## Co-visualization of motion sensor TS and activity labels"
   ]
  },
  {
   "cell_type": "code",
   "execution_count": 300,
   "metadata": {},
   "outputs": [],
   "source": [
    "import numpy as np\n",
    "from datetime import datetime\n",
    "from pytz import timezone\n",
    "\n",
    "# constant variables\n",
    "fc = {'work':'black', 'eating':'green', 'toilet':'purple', 'fitness':'red', 'sleep':'skyblue', 'personal_hygiene':'grey', 'shower':'blue', 'relax':'orange', 'cooking':'pink', 'phonecall':'teal'}\n",
    "\n",
    "# visualization targets and period\n",
    "target_period = '12 hours'\n",
    "vis_target = 'motion'"
   ]
  },
  {
   "cell_type": "markdown",
   "metadata": {},
   "source": [
    "## Fetching database for the given period of time"
   ]
  },
  {
   "cell_type": "code",
   "execution_count": 301,
   "metadata": {},
   "outputs": [
    {
     "name": "stdout",
     "output_type": "stream",
     "text": [
      " * postgresql://postgres@localhost/homedata\n",
      "37677 rows affected.\n",
      " * postgresql://postgres@localhost/homedata\n",
      "37680 rows affected.\n",
      " * postgresql://postgres@localhost/homedata\n",
      "28 rows affected.\n"
     ]
    },
    {
     "data": {
      "text/html": [
       "<div>\n",
       "<style scoped>\n",
       "    .dataframe tbody tr th:only-of-type {\n",
       "        vertical-align: middle;\n",
       "    }\n",
       "\n",
       "    .dataframe tbody tr th {\n",
       "        vertical-align: top;\n",
       "    }\n",
       "\n",
       "    .dataframe thead th {\n",
       "        text-align: right;\n",
       "    }\n",
       "</style>\n",
       "<table border=\"1\" class=\"dataframe\">\n",
       "  <thead>\n",
       "    <tr style=\"text-align: right;\">\n",
       "      <th></th>\n",
       "      <th>db_insert_time</th>\n",
       "      <th>room</th>\n",
       "      <th>data_gen_time</th>\n",
       "      <th>sound1</th>\n",
       "      <th>sound2</th>\n",
       "      <th>temperature</th>\n",
       "      <th>humidity</th>\n",
       "      <th>light</th>\n",
       "      <th>motion</th>\n",
       "      <th>airquality</th>\n",
       "      <th>dustconcentration</th>\n",
       "    </tr>\n",
       "  </thead>\n",
       "  <tbody>\n",
       "    <tr>\n",
       "      <th>1</th>\n",
       "      <td>2020-05-07 10:32:32.757566-04:00</td>\n",
       "      <td>hroom-1</td>\n",
       "      <td>2020-05-07 10:32:32-04:00</td>\n",
       "      <td>[35.19792, 36.302044, 36.302044, 35.87641, 35....</td>\n",
       "      <td>[33.734653, 33.898556, 33.56432, 33.72926, 34....</td>\n",
       "      <td>19.861</td>\n",
       "      <td>32.415</td>\n",
       "      <td>67.32</td>\n",
       "      <td>2.44949</td>\n",
       "      <td>None</td>\n",
       "      <td>None</td>\n",
       "    </tr>\n",
       "    <tr>\n",
       "      <th>2</th>\n",
       "      <td>2020-05-07 10:32:33.878802-04:00</td>\n",
       "      <td>hroom-1</td>\n",
       "      <td>2020-05-07 10:32:33-04:00</td>\n",
       "      <td>[34.171295, 37.912666, 35.826202, 36.235535, 3...</td>\n",
       "      <td>[27.36643, 34.2089, 34.474625, 34.576817, 34.1...</td>\n",
       "      <td>19.868</td>\n",
       "      <td>32.409</td>\n",
       "      <td>67.35</td>\n",
       "      <td>2.45422</td>\n",
       "      <td>None</td>\n",
       "      <td>None</td>\n",
       "    </tr>\n",
       "    <tr>\n",
       "      <th>3</th>\n",
       "      <td>2020-05-07 10:32:34.990904-04:00</td>\n",
       "      <td>hroom-1</td>\n",
       "      <td>2020-05-07 10:32:34-04:00</td>\n",
       "      <td>[36.57462, 35.266937, 36.39348, 34.947514, 34....</td>\n",
       "      <td>[31.95281, 32.82431, 33.293633, 33.013344, 34....</td>\n",
       "      <td>19.861</td>\n",
       "      <td>32.432</td>\n",
       "      <td>67.38</td>\n",
       "      <td>2.51053</td>\n",
       "      <td>None</td>\n",
       "      <td>None</td>\n",
       "    </tr>\n",
       "    <tr>\n",
       "      <th>4</th>\n",
       "      <td>2020-05-07 10:32:36.144777-04:00</td>\n",
       "      <td>hroom-1</td>\n",
       "      <td>2020-05-07 10:32:36-04:00</td>\n",
       "      <td>[36.027664, 36.302044, 36.43757, 35.95065, 35....</td>\n",
       "      <td>[32.13764, 33.38703, 34.80631, 35.402164, 34.3...</td>\n",
       "      <td>19.868</td>\n",
       "      <td>32.432</td>\n",
       "      <td>67.35</td>\n",
       "      <td>2.50198</td>\n",
       "      <td>None</td>\n",
       "      <td>None</td>\n",
       "    </tr>\n",
       "    <tr>\n",
       "      <th>5</th>\n",
       "      <td>2020-05-07 10:32:37.271293-04:00</td>\n",
       "      <td>hroom-1</td>\n",
       "      <td>2020-05-07 10:32:37-04:00</td>\n",
       "      <td>[36.212498, 36.302044, 37.587116, 36.258453, 3...</td>\n",
       "      <td>[31.95281, 36.475784, 34.115498, 33.202198, 33...</td>\n",
       "      <td>19.868</td>\n",
       "      <td>32.392</td>\n",
       "      <td>67.41</td>\n",
       "      <td>2.50809</td>\n",
       "      <td>None</td>\n",
       "      <td>None</td>\n",
       "    </tr>\n",
       "    <tr>\n",
       "      <th>...</th>\n",
       "      <td>...</td>\n",
       "      <td>...</td>\n",
       "      <td>...</td>\n",
       "      <td>...</td>\n",
       "      <td>...</td>\n",
       "      <td>...</td>\n",
       "      <td>...</td>\n",
       "      <td>...</td>\n",
       "      <td>...</td>\n",
       "      <td>...</td>\n",
       "      <td>...</td>\n",
       "    </tr>\n",
       "    <tr>\n",
       "      <th>36685</th>\n",
       "      <td>2020-05-07 22:32:26.616211-04:00</td>\n",
       "      <td>hroom-1</td>\n",
       "      <td>2020-05-07 22:32:26-04:00</td>\n",
       "      <td>[34.0565, 38.98011, 37.65393, 35.173534, 34.65...</td>\n",
       "      <td>[33.202198, 36.027664, 34.115498, 33.061333, 3...</td>\n",
       "      <td>20.532</td>\n",
       "      <td>28.931</td>\n",
       "      <td>64.18</td>\n",
       "      <td>2.47025</td>\n",
       "      <td>None</td>\n",
       "      <td>None</td>\n",
       "    </tr>\n",
       "    <tr>\n",
       "      <th>36686</th>\n",
       "      <td>2020-05-07 22:32:27.800687-04:00</td>\n",
       "      <td>hroom-1</td>\n",
       "      <td>2020-05-07 22:32:27-04:00</td>\n",
       "      <td>[34.899708, 41.228447, 38.603096, 35.11445, 34...</td>\n",
       "      <td>[33.38703, 38.393055, 34.70375, 33.845184, 32....</td>\n",
       "      <td>20.532</td>\n",
       "      <td>28.973</td>\n",
       "      <td>64.21</td>\n",
       "      <td>2.48108</td>\n",
       "      <td>None</td>\n",
       "      <td>None</td>\n",
       "    </tr>\n",
       "    <tr>\n",
       "      <th>36687</th>\n",
       "      <td>2020-05-07 22:32:28.901100-04:00</td>\n",
       "      <td>hroom-1</td>\n",
       "      <td>2020-05-07 22:32:28-04:00</td>\n",
       "      <td>[34.356133, 37.910007, 37.942497, 35.80088, 34...</td>\n",
       "      <td>[32.13764, 37.438217, 34.741966, 34.6568, 34.2...</td>\n",
       "      <td>20.532</td>\n",
       "      <td>28.925</td>\n",
       "      <td>64.12</td>\n",
       "      <td>2.48459</td>\n",
       "      <td>None</td>\n",
       "      <td>None</td>\n",
       "    </tr>\n",
       "    <tr>\n",
       "      <th>36688</th>\n",
       "      <td>2020-05-07 22:32:30.018651-04:00</td>\n",
       "      <td>hroom-1</td>\n",
       "      <td>2020-05-07 22:32:30-04:00</td>\n",
       "      <td>[34.899708, 38.615818, 37.415436, 35.374237, 3...</td>\n",
       "      <td>[33.202198, 35.83461, 34.67666, 33.64125, 33.1...</td>\n",
       "      <td>20.532</td>\n",
       "      <td>28.931</td>\n",
       "      <td>64.15</td>\n",
       "      <td>2.46506</td>\n",
       "      <td>None</td>\n",
       "      <td>None</td>\n",
       "    </tr>\n",
       "    <tr>\n",
       "      <th>36689</th>\n",
       "      <td>2020-05-07 22:32:31.225551-04:00</td>\n",
       "      <td>hroom-1</td>\n",
       "      <td>2020-05-07 22:32:31-04:00</td>\n",
       "      <td>[34.356133, 36.57462, 37.74733, 36.212498, 35....</td>\n",
       "      <td>[34.356133, 33.734653, 33.805157, 33.68281, 34...</td>\n",
       "      <td>20.525</td>\n",
       "      <td>28.959</td>\n",
       "      <td>64.15</td>\n",
       "      <td>2.48581</td>\n",
       "      <td>None</td>\n",
       "      <td>None</td>\n",
       "    </tr>\n",
       "  </tbody>\n",
       "</table>\n",
       "<p>37677 rows × 11 columns</p>\n",
       "</div>"
      ],
      "text/plain": [
       "                        db_insert_time     room             data_gen_time  \\\n",
       "1     2020-05-07 10:32:32.757566-04:00  hroom-1 2020-05-07 10:32:32-04:00   \n",
       "2     2020-05-07 10:32:33.878802-04:00  hroom-1 2020-05-07 10:32:33-04:00   \n",
       "3     2020-05-07 10:32:34.990904-04:00  hroom-1 2020-05-07 10:32:34-04:00   \n",
       "4     2020-05-07 10:32:36.144777-04:00  hroom-1 2020-05-07 10:32:36-04:00   \n",
       "5     2020-05-07 10:32:37.271293-04:00  hroom-1 2020-05-07 10:32:37-04:00   \n",
       "...                                ...      ...                       ...   \n",
       "36685 2020-05-07 22:32:26.616211-04:00  hroom-1 2020-05-07 22:32:26-04:00   \n",
       "36686 2020-05-07 22:32:27.800687-04:00  hroom-1 2020-05-07 22:32:27-04:00   \n",
       "36687 2020-05-07 22:32:28.901100-04:00  hroom-1 2020-05-07 22:32:28-04:00   \n",
       "36688 2020-05-07 22:32:30.018651-04:00  hroom-1 2020-05-07 22:32:30-04:00   \n",
       "36689 2020-05-07 22:32:31.225551-04:00  hroom-1 2020-05-07 22:32:31-04:00   \n",
       "\n",
       "                                                  sound1  \\\n",
       "1      [35.19792, 36.302044, 36.302044, 35.87641, 35....   \n",
       "2      [34.171295, 37.912666, 35.826202, 36.235535, 3...   \n",
       "3      [36.57462, 35.266937, 36.39348, 34.947514, 34....   \n",
       "4      [36.027664, 36.302044, 36.43757, 35.95065, 35....   \n",
       "5      [36.212498, 36.302044, 37.587116, 36.258453, 3...   \n",
       "...                                                  ...   \n",
       "36685  [34.0565, 38.98011, 37.65393, 35.173534, 34.65...   \n",
       "36686  [34.899708, 41.228447, 38.603096, 35.11445, 34...   \n",
       "36687  [34.356133, 37.910007, 37.942497, 35.80088, 34...   \n",
       "36688  [34.899708, 38.615818, 37.415436, 35.374237, 3...   \n",
       "36689  [34.356133, 36.57462, 37.74733, 36.212498, 35....   \n",
       "\n",
       "                                                  sound2  temperature  \\\n",
       "1      [33.734653, 33.898556, 33.56432, 33.72926, 34....       19.861   \n",
       "2      [27.36643, 34.2089, 34.474625, 34.576817, 34.1...       19.868   \n",
       "3      [31.95281, 32.82431, 33.293633, 33.013344, 34....       19.861   \n",
       "4      [32.13764, 33.38703, 34.80631, 35.402164, 34.3...       19.868   \n",
       "5      [31.95281, 36.475784, 34.115498, 33.202198, 33...       19.868   \n",
       "...                                                  ...          ...   \n",
       "36685  [33.202198, 36.027664, 34.115498, 33.061333, 3...       20.532   \n",
       "36686  [33.38703, 38.393055, 34.70375, 33.845184, 32....       20.532   \n",
       "36687  [32.13764, 37.438217, 34.741966, 34.6568, 34.2...       20.532   \n",
       "36688  [33.202198, 35.83461, 34.67666, 33.64125, 33.1...       20.532   \n",
       "36689  [34.356133, 33.734653, 33.805157, 33.68281, 34...       20.525   \n",
       "\n",
       "       humidity  light   motion airquality dustconcentration  \n",
       "1        32.415  67.32  2.44949       None              None  \n",
       "2        32.409  67.35  2.45422       None              None  \n",
       "3        32.432  67.38  2.51053       None              None  \n",
       "4        32.432  67.35  2.50198       None              None  \n",
       "5        32.392  67.41  2.50809       None              None  \n",
       "...         ...    ...      ...        ...               ...  \n",
       "36685    28.931  64.18  2.47025       None              None  \n",
       "36686    28.973  64.21  2.48108       None              None  \n",
       "36687    28.925  64.12  2.48459       None              None  \n",
       "36688    28.931  64.15  2.46506       None              None  \n",
       "36689    28.959  64.15  2.48581       None              None  \n",
       "\n",
       "[37677 rows x 11 columns]"
      ]
     },
     "execution_count": 301,
     "metadata": {},
     "output_type": "execute_result"
    }
   ],
   "source": [
    "hroom1_result = %sql SELECT * FROM sensor_data WHERE db_insert_time > now() - interval '{target_period}' AND room = 'hroom-1'\n",
    "hroom2_result = %sql SELECT * FROM sensor_data WHERE db_insert_time > now() - interval '{target_period}' AND room = 'hroom-2'\n",
    "sensor_df1 = hroom1_result.DataFrame()\n",
    "sensor_df2 = hroom2_result.DataFrame()\n",
    "sensor_df1.sort_values('db_insert_time', ascending = True, inplace = True)\n",
    "sensor_df2.sort_values('db_insert_time', ascending = True, inplace = True)\n",
    "\n",
    "act_result = %sql SELECT data_gen_time, activity, start_end FROM user_activity WHERE data_gen_time > now() - interval '{target_period}'\n",
    "act_df = act_result.DataFrame()\n",
    "act_df.sort_values('data_gen_time', ascending = True, inplace = True)\n",
    "sensor_df1"
   ]
  },
  {
   "cell_type": "code",
   "execution_count": 342,
   "metadata": {},
   "outputs": [
    {
     "name": "stderr",
     "output_type": "stream",
     "text": [
      "/Users/heesuk/opt/anaconda3/lib/python3.7/site-packages/ipykernel_launcher.py:16: DeprecationWarning: parsing timezone aware datetimes is deprecated; this will raise an error in the future\n",
      "  app.launch_new_instance()\n"
     ]
    },
    {
     "data": {
      "image/png": "[encoded data removed]",
      "text/plain": [
       "<Figure size 1440x720 with 1 Axes>"
      ]
     },
     "metadata": {
      "needs_background": "light"
     },
     "output_type": "display_data"
    }
   ],
   "source": [
    "ax = plt.gca()\n",
    "\n",
    "sensor_df1.plot(kind='line', x='db_insert_time', y=vis_target, ax=ax)\n",
    "sensor_df2.plot(kind='line', x='db_insert_time', y=vis_target, ax=ax)\n",
    "\n",
    "ax.legend(['roadside', 'inside'], loc='best')\n",
    "\n",
    "act_stack = {} # stack implemented as a dict which stores unclosed/unfinished activities to be visualized\n",
    "\n",
    "start_T = ''\n",
    "end_T = ''\n",
    "\n",
    "# converts numpy.datetime64 to datetime.\n",
    "# datetime is compatible with pandas.timestamp with timezone.\n",
    "def convT(T_dt64):\n",
    "    T_ts = (T_dt64 - np.datetime64('1970-01-01T00:00:00Z')) / np.timedelta64(1, 's')\n",
    "    return datetime.fromtimestamp(T_ts).astimezone(timezone('US/Eastern'))\n",
    "\n",
    "# visualize starts here\n",
    "for index, row in act_df.iterrows():    \n",
    "    act = row['activity']\n",
    "    \n",
    "    if row['start_end'] == 'start':\n",
    "        if act in act_stack.keys():\n",
    "            print('The given activity is already in the activity stack.') # error message\n",
    "        else:\n",
    "            act_stack[act] = {}\n",
    "\n",
    "            start_T = row['data_gen_time']\n",
    "\n",
    "            if index == 0: # if this is the last row\n",
    "                end_T = convT(sensor_df1.tail(1)['data_gen_time'].values[0])\n",
    "                ax.axvspan(start_T, end_T, label = act, facecolor=fc[act], alpha=0.2)\n",
    "                act_stack.pop(act)\n",
    "            else:\n",
    "                act_stack[act]['start_T'] = start_T\n",
    "    else: # row['start_end'] == 'end'\n",
    "        end_T = row['data_gen_time']\n",
    "        \n",
    "        if act in act_stack.keys():\n",
    "            act_stack[act]['end_T'] = end_T\n",
    "            ax.axvspan(act_stack[act]['start_T'], act_stack[act]['end_T'], label = act, facecolor=fc[act], alpha=0.2)\n",
    "            act_stack.pop(act)\n",
    "        else:\n",
    "            if start_T == '':\n",
    "                start_T = convT(sensor_df1.head(1)['data_gen_time'].values[0])\n",
    "\n",
    "            ax.axvspan(start_T, end_T, label = act, facecolor=fc[act], alpha=0.2)\n",
    "            \n",
    "if len(act_stack.keys()) != 0:\n",
    "    print(\"len(act_stack.keys()) = {}\".format(len(act_stack.keys())))\n",
    "    print(\"act_stack = {}\".format(str(act_stack)))\n",
    "\n",
    "#ax.legend(loc='best')\n",
    "plt.rcParams[\"figure.figsize\"] = (20,10)\n",
    "plt.show()"
   ]
  },
  {
   "cell_type": "markdown",
   "metadata": {},
   "source": [
    "### Color Mapping to Activities\n",
    "* Work = Black\n",
    "* Eating = Green\n",
    "* Toilet = Purple\n",
    "* Fitness = Red\n",
    "* Sleep = Skyblue\n",
    "* Personal_hygiene = Grey\n",
    "* Shower = Blue\n",
    "* Relax = Orange\n",
    "* Cooking = Pink\n",
    "* Phonecall = Teal"
   ]
  },
  {
   "cell_type": "code",
   "execution_count": null,
   "metadata": {},
   "outputs": [],
   "source": []
  }
 ],
 "metadata": {
  "kernelspec": {
   "display_name": "Python 3",
   "language": "python",
   "name": "python3"
  },
  "language_info": {
   "codemirror_mode": {
    "name": "ipython",
    "version": 3
   },
   "file_extension": ".py",
   "mimetype": "text/x-python",
   "name": "python",
   "nbconvert_exporter": "python",
   "pygments_lexer": "ipython3",
   "version": "3.7.6"
  }
 },
 "nbformat": 4,
 "nbformat_minor": 4
}
