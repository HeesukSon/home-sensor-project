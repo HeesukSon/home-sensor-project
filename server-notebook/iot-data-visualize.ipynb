{
 "cells": [
  {
   "cell_type": "markdown",
   "metadata": {},
   "source": [
    "The goal of this notebook is to study how to **fetch IoT timeseries data from the server-side TimescaleDB** and how to **visualize them with Python plotting libraries** effectively. Proper **data sampling rate** needs to be investigated as well in this notebook. For this notebook, online materials listed below are used:\n",
    "* Installation, DB Connection, and PostgreSQL querying: https://medium.com/analytics-vidhya/postgresql-integration-with-jupyter-notebook-deb97579a38d\n",
    "* Using PostgreSQL meta-commands: https://medium.com/data-analysis-for-beginners/bring-native-psql-magic-into-jupyter-notebook-50b663d856b5\n",
    "* Using masic function % for storing data to variables: https://towardsdatascience.com/heres-how-to-run-sql-in-jupyter-notebooks-f26eb90f3259"
   ]
  },
  {
   "cell_type": "markdown",
   "metadata": {},
   "source": [
    "## Loading libraries and connecting to DB"
   ]
  },
  {
   "cell_type": "code",
   "execution_count": 2,
   "metadata": {},
   "outputs": [],
   "source": [
    "import sqlalchemy\n",
    "from sqlalchemy import create_engine\n",
    "from IPython.display import display_html"
   ]
  },
  {
   "cell_type": "code",
   "execution_count": 3,
   "metadata": {},
   "outputs": [],
   "source": [
    "%load_ext sql"
   ]
  },
  {
   "cell_type": "code",
   "execution_count": 4,
   "metadata": {},
   "outputs": [
    {
     "data": {
      "text/plain": [
       "'Connected: postgres@homedata'"
      ]
     },
     "execution_count": 4,
     "metadata": {},
     "output_type": "execute_result"
    }
   ],
   "source": [
    "%sql postgresql://postgres@localhost/homedata"
   ]
  },
  {
   "cell_type": "code",
   "execution_count": 5,
   "metadata": {},
   "outputs": [],
   "source": [
    "engine = create_engine('postgresql://postgres@localhost/homedata')"
   ]
  },
  {
   "cell_type": "markdown",
   "metadata": {},
   "source": [
    "## Query Example: Printing top 3 rows"
   ]
  },
  {
   "cell_type": "code",
   "execution_count": 6,
   "metadata": {},
   "outputs": [
    {
     "name": "stdout",
     "output_type": "stream",
     "text": [
      " * postgresql://postgres@localhost/homedata\n",
      "3 rows affected.\n"
     ]
    },
    {
     "data": {
      "text/html": [
       "<table>\n",
       "    <tr>\n",
       "        <th>db_insert_time</th>\n",
       "        <th>room</th>\n",
       "        <th>data_gen_time</th>\n",
       "        <th>sound1</th>\n",
       "        <th>sound2</th>\n",
       "        <th>temperature</th>\n",
       "        <th>humidity</th>\n",
       "        <th>light</th>\n",
       "        <th>motion</th>\n",
       "        <th>airquality</th>\n",
       "        <th>dustconcentration</th>\n",
       "    </tr>\n",
       "    <tr>\n",
       "        <td>2020-04-26 14:44:33.240067-04:00</td>\n",
       "        <td>hroom-1</td>\n",
       "        <td>2020-04-26 14:44:33-04:00</td>\n",
       "        <td>[38.84491, 41.548523, 43.78904, 37.553318, 34.932198, 34.789368, 35.375282, 37.072533, 36.9852, 38.804432]</td>\n",
       "        <td>[34.714874, 44.053913, 40.614216, 37.209526, 34.59998, 34.460262, 34.454475, 36.158672, 35.970127, 37.8359]</td>\n",
       "        <td>28.289</td>\n",
       "        <td>29.041</td>\n",
       "        <td>95.67</td>\n",
       "        <td>2.5499</td>\n",
       "        <td>None</td>\n",
       "        <td>None</td>\n",
       "    </tr>\n",
       "    <tr>\n",
       "        <td>2020-04-26 14:44:34.464842-04:00</td>\n",
       "        <td>hroom-1</td>\n",
       "        <td>2020-04-26 14:44:34-04:00</td>\n",
       "        <td>[37.034363, 42.94117, 43.11823, 36.212498, 34.61035, 34.721, 34.98621, 36.95212, 37.28573, 38.667828]</td>\n",
       "        <td>[33.202198, 42.82431, 40.96828, 36.672382, 34.514984, 36.18337, 34.71283, 36.63037, 36.36674, 38.095177]</td>\n",
       "        <td>28.236</td>\n",
       "        <td>29.047</td>\n",
       "        <td>95.79</td>\n",
       "        <td>2.57324</td>\n",
       "        <td>None</td>\n",
       "        <td>None</td>\n",
       "    </tr>\n",
       "    <tr>\n",
       "        <td>2020-04-26 14:44:35.536709-04:00</td>\n",
       "        <td>hroom-2</td>\n",
       "        <td>2020-04-26 09:44:35-04:00</td>\n",
       "        <td>[36.57462, 40.622955, 47.64065, 37.1816, 36.083546, 35.031864, 35.373005, 37.80639, 37.482098, 38.176067]</td>\n",
       "        <td>[37.725174, 41.904285, 44.440018, 37.784557, 35.9873, 35.374237, 35.76456, 38.074524, 38.428814, 39.666794]</td>\n",
       "        <td>20.059</td>\n",
       "        <td>36.423</td>\n",
       "        <td>72.63</td>\n",
       "        <td>2.78305</td>\n",
       "        <td>None</td>\n",
       "        <td>None</td>\n",
       "    </tr>\n",
       "</table>"
      ],
      "text/plain": [
       "[(datetime.datetime(2020, 4, 26, 14, 44, 33, 240067, tzinfo=psycopg2.tz.FixedOffsetTimezone(offset=-240, name=None)), 'hroom-1', datetime.datetime(2020, 4, 26, 14, 44, 33, tzinfo=psycopg2.tz.FixedOffsetTimezone(offset=-240, name=None)), [38.84491, 41.548523, 43.78904, 37.553318, 34.932198, 34.789368, 35.375282, 37.072533, 36.9852, 38.804432], [34.714874, 44.053913, 40.614216, 37.209526, 34.59998, 34.460262, 34.454475, 36.158672, 35.970127, 37.8359], 28.289, 29.041, 95.67, 2.5499, None, None),\n",
       " (datetime.datetime(2020, 4, 26, 14, 44, 34, 464842, tzinfo=psycopg2.tz.FixedOffsetTimezone(offset=-240, name=None)), 'hroom-1', datetime.datetime(2020, 4, 26, 14, 44, 34, tzinfo=psycopg2.tz.FixedOffsetTimezone(offset=-240, name=None)), [37.034363, 42.94117, 43.11823, 36.212498, 34.61035, 34.721, 34.98621, 36.95212, 37.28573, 38.667828], [33.202198, 42.82431, 40.96828, 36.672382, 34.514984, 36.18337, 34.71283, 36.63037, 36.36674, 38.095177], 28.236, 29.047, 95.79, 2.57324, None, None),\n",
       " (datetime.datetime(2020, 4, 26, 14, 44, 35, 536709, tzinfo=psycopg2.tz.FixedOffsetTimezone(offset=-240, name=None)), 'hroom-2', datetime.datetime(2020, 4, 26, 9, 44, 35, tzinfo=psycopg2.tz.FixedOffsetTimezone(offset=-240, name=None)), [36.57462, 40.622955, 47.64065, 37.1816, 36.083546, 35.031864, 35.373005, 37.80639, 37.482098, 38.176067], [37.725174, 41.904285, 44.440018, 37.784557, 35.9873, 35.374237, 35.76456, 38.074524, 38.428814, 39.666794], 20.059, 36.423, 72.63, 2.78305, None, None)]"
      ]
     },
     "execution_count": 6,
     "metadata": {},
     "output_type": "execute_result"
    }
   ],
   "source": [
    "%%sql\n",
    "\n",
    "select * from sensor_data limit 3"
   ]
  },
  {
   "cell_type": "markdown",
   "metadata": {},
   "source": [
    "## PSQL Meta-commands: Printing out the total count of inserted data rows "
   ]
  },
  {
   "cell_type": "code",
   "execution_count": 25,
   "metadata": {},
   "outputs": [
    {
     "name": "stdout",
     "output_type": "stream",
     "text": [
      " * postgresql://postgres@localhost/homedata\n",
      "1 rows affected.\n"
     ]
    },
    {
     "data": {
      "text/html": [
       "<table>\n",
       "    <tr>\n",
       "        <th>count</th>\n",
       "    </tr>\n",
       "    <tr>\n",
       "        <td>1433521</td>\n",
       "    </tr>\n",
       "</table>"
      ],
      "text/plain": [
       "[(1433521,)]"
      ]
     },
     "execution_count": 25,
     "metadata": {},
     "output_type": "execute_result"
    }
   ],
   "source": [
    "%%sql\n",
    "select count(*) from sensor_data"
   ]
  },
  {
   "cell_type": "code",
   "execution_count": 8,
   "metadata": {},
   "outputs": [
    {
     "name": "stdin",
     "output_type": "stream",
     "text": [
      "Enter psql command to execute:  \\dt\n"
     ]
    },
    {
     "data": {
      "text/html": [
       "<table border=\"1\">  <caption>List of relations</caption>  <tr>    <th align=\"center\">Schema</th>    <th align=\"center\">Name</th>    <th align=\"center\">Type</th>    <th align=\"center\">Owner</th>  </tr>  <tr valign=\"top\">    <td align=\"left\">public</td>    <td align=\"left\">sensor_data</td>    <td align=\"left\">table</td>    <td align=\"left\">postgres</td>  </tr>  <tr valign=\"top\">    <td align=\"left\">public</td>    <td align=\"left\">sensordata</td>    <td align=\"left\">table</td>    <td align=\"left\">postgres</td>  </tr></table><p>(2 rows)<br /></p>"
      ]
     },
     "metadata": {},
     "output_type": "display_data"
    }
   ],
   "source": [
    "host='localhost'\n",
    "database='homedata'\n",
    "username='postgres'\n",
    "\n",
    "### psql_cmd examples\n",
    "# \\dt : prints data tables\n",
    "# \\d sensor_data : prints sensor_data table schema\n",
    "# \\l+ homedata : prints database size\n",
    "###\n",
    "psql_cmd = input(\"Enter psql command to execute: \")\n",
    "psql_out = !psql -H -h \"{host}\" -d \"{database}\" -U \"{username}\" -c \"{psql_cmd}\"\n",
    "display_html(''.join(psql_out), raw=True)"
   ]
  },
  {
   "cell_type": "code",
   "execution_count": 26,
   "metadata": {},
   "outputs": [
    {
     "data": {
      "text/html": [
       "<table border=\"1\">  <caption>Table &quot;public.sensor_data&quot;</caption>  <tr>    <th align=\"center\">Column</th>    <th align=\"center\">Type</th>    <th align=\"center\">Collation</th>    <th align=\"center\">Nullable</th>    <th align=\"center\">Default</th>  </tr>  <tr valign=\"top\">    <td align=\"left\">db_insert_time</td>    <td align=\"left\">timestamp with time zone</td>    <td align=\"left\">&nbsp; </td>    <td align=\"left\">not null</td>    <td align=\"left\">&nbsp; </td>  </tr>  <tr valign=\"top\">    <td align=\"left\">room</td>    <td align=\"left\">text</td>    <td align=\"left\">&nbsp; </td>    <td align=\"left\">not null</td>    <td align=\"left\">&nbsp; </td>  </tr>  <tr valign=\"top\">    <td align=\"left\">data_gen_time</td>    <td align=\"left\">timestamp with time zone</td>    <td align=\"left\">&nbsp; </td>    <td align=\"left\">&nbsp; </td>    <td align=\"left\">&nbsp; </td>  </tr>  <tr valign=\"top\">    <td align=\"left\">sound1</td>    <td align=\"left\">real[]</td>    <td align=\"left\">&nbsp; </td>    <td align=\"left\">&nbsp; </td>    <td align=\"left\">&nbsp; </td>  </tr>  <tr valign=\"top\">    <td align=\"left\">sound2</td>    <td align=\"left\">real[]</td>    <td align=\"left\">&nbsp; </td>    <td align=\"left\">&nbsp; </td>    <td align=\"left\">&nbsp; </td>  </tr>  <tr valign=\"top\">    <td align=\"left\">temperature</td>    <td align=\"left\">real</td>    <td align=\"left\">&nbsp; </td>    <td align=\"left\">&nbsp; </td>    <td align=\"left\">&nbsp; </td>  </tr>  <tr valign=\"top\">    <td align=\"left\">humidity</td>    <td align=\"left\">real</td>    <td align=\"left\">&nbsp; </td>    <td align=\"left\">&nbsp; </td>    <td align=\"left\">&nbsp; </td>  </tr>  <tr valign=\"top\">    <td align=\"left\">light</td>    <td align=\"left\">real</td>    <td align=\"left\">&nbsp; </td>    <td align=\"left\">&nbsp; </td>    <td align=\"left\">&nbsp; </td>  </tr>  <tr valign=\"top\">    <td align=\"left\">motion</td>    <td align=\"left\">real</td>    <td align=\"left\">&nbsp; </td>    <td align=\"left\">&nbsp; </td>    <td align=\"left\">&nbsp; </td>  </tr>  <tr valign=\"top\">    <td align=\"left\">airquality</td>    <td align=\"left\">text</td>    <td align=\"left\">&nbsp; </td>    <td align=\"left\">&nbsp; </td>    <td align=\"left\">&nbsp; </td>  </tr>  <tr valign=\"top\">    <td align=\"left\">dustconcentration</td>    <td align=\"left\">real</td>    <td align=\"left\">&nbsp; </td>    <td align=\"left\">&nbsp; </td>    <td align=\"left\">&nbsp; </td>  </tr></table>"
      ]
     },
     "metadata": {},
     "output_type": "display_data"
    }
   ],
   "source": [
    "psql_cmd = \"\\d sensor_data\"\n",
    "psql_out = !psql -H -h \"{host}\" -d \"{database}\" -U \"{username}\" -c \"{psql_cmd}\"\n",
    "display_html(''.join(psql_out), raw=True)"
   ]
  },
  {
   "cell_type": "code",
   "execution_count": 27,
   "metadata": {},
   "outputs": [
    {
     "data": {
      "text/html": [
       "<table border=\"1\">  <caption>List of databases</caption>  <tr>    <th align=\"center\">Name</th>    <th align=\"center\">Owner</th>    <th align=\"center\">Encoding</th>    <th align=\"center\">Collate</th>    <th align=\"center\">Ctype</th>    <th align=\"center\">Access privileges</th>    <th align=\"center\">Size</th>    <th align=\"center\">Tablespace</th>    <th align=\"center\">Description</th>  </tr>  <tr valign=\"top\">    <td align=\"left\">homedata</td>    <td align=\"left\">postgres</td>    <td align=\"left\">UTF8</td>    <td align=\"left\">C</td>    <td align=\"left\">C</td>    <td align=\"left\">&nbsp; </td>    <td align=\"left\">280 MB</td>    <td align=\"left\">pg_default</td>    <td align=\"left\">&nbsp; </td>  </tr></table><p>(1 row)<br /></p>"
      ]
     },
     "metadata": {},
     "output_type": "display_data"
    }
   ],
   "source": [
    "psql_cmd = \"\\l+ homedata\"\n",
    "psql_out = !psql -H -h \"{host}\" -d \"{database}\" -U \"{username}\" -c \"{psql_cmd}\"\n",
    "display_html(''.join(psql_out), raw=True)"
   ]
  },
  {
   "cell_type": "markdown",
   "metadata": {},
   "source": [
    "## Querying and visualizing data: Magic function % and pandas DataFrame"
   ]
  },
  {
   "cell_type": "code",
   "execution_count": 78,
   "metadata": {},
   "outputs": [
    {
     "name": "stdout",
     "output_type": "stream",
     "text": [
      " * postgresql://postgres@localhost/homedata\n",
      "18805 rows affected.\n",
      " * postgresql://postgres@localhost/homedata\n",
      "18808 rows affected.\n"
     ]
    }
   ],
   "source": [
    "hroom1_result = %sql SELECT * FROM sensor_data WHERE db_insert_time > now() - interval '6 hours' AND room = 'hroom-1'\n",
    "hroom2_result = %sql SELECT * FROM sensor_data WHERE db_insert_time > now() - interval '6 hours' AND room = 'hroom-2'\n",
    "df1 = hroom1_result.DataFrame()\n",
    "df2 = hroom2_result.DataFrame()"
   ]
  },
  {
   "cell_type": "code",
   "execution_count": 79,
   "metadata": {},
   "outputs": [
    {
     "name": "stdout",
     "output_type": "stream",
     "text": [
      " * postgresql://postgres@localhost/homedata\n",
      "18805 rows affected.\n",
      " * postgresql://postgres@localhost/homedata\n",
      "18805 rows affected.\n",
      " * postgresql://postgres@localhost/homedata\n",
      "18808 rows affected.\n",
      " * postgresql://postgres@localhost/homedata\n",
      "18808 rows affected.\n"
     ]
    }
   ],
   "source": [
    "r1s1 = %sql SELECT db_insert_time, (select avg(a) from unnest(sound1) as a) FROM sensor_data WHERE db_insert_time > now() - interval '6 hours' AND room = 'hroom-1'\n",
    "r1s2 = %sql SELECT db_insert_time, (select avg(a) from unnest(sound2) as a) FROM sensor_data WHERE db_insert_time > now() - interval '6 hours' AND room = 'hroom-1'\n",
    "r2s1 = %sql SELECT db_insert_time, (select avg(a) from unnest(sound1) as a) FROM sensor_data WHERE db_insert_time > now() - interval '6 hours' AND room = 'hroom-2'\n",
    "r2s2 = %sql SELECT db_insert_time, (select avg(a) from unnest(sound2) as a) FROM sensor_data WHERE db_insert_time > now() - interval '6 hours' AND room = 'hroom-2'\n",
    "\n",
    "r1s1_df = r1s1.DataFrame()\n",
    "r1s2_df = r1s2.DataFrame()\n",
    "r2s1_df = r2s1.DataFrame()\n",
    "r2s2_df = r2s2.DataFrame()"
   ]
  },
  {
   "cell_type": "code",
   "execution_count": 80,
   "metadata": {},
   "outputs": [
    {
     "data": {
      "image/png": "[encoded data removed]",
      "text/plain": [
       "<Figure size 432x288 with 1 Axes>"
      ]
     },
     "metadata": {
      "needs_background": "light"
     },
     "output_type": "display_data"
    }
   ],
   "source": [
    "import matplotlib.pyplot as plt\n",
    "import pandas as pd\n",
    "\n",
    "# gca stands for 'get current axis'\n",
    "ax = plt.gca()\n",
    "\n",
    "df1.plot(kind='line', x='db_insert_time', y='motion', ax=ax)\n",
    "df2.plot(kind='line', x='db_insert_time', y='motion', ax=ax)\n",
    "\n",
    "ax.legend(['roadside', 'inside'], loc='best')\n",
    "\n",
    "plt.show()"
   ]
  },
  {
   "cell_type": "code",
   "execution_count": 81,
   "metadata": {},
   "outputs": [
    {
     "data": {
      "image/png": "[encoded data removed]",
      "text/plain": [
       "<Figure size 432x288 with 1 Axes>"
      ]
     },
     "metadata": {
      "needs_background": "light"
     },
     "output_type": "display_data"
    }
   ],
   "source": [
    "ax = plt.gca()\n",
    "\n",
    "df1.plot(kind='line', x='db_insert_time', y='humidity', ax=ax)\n",
    "df2.plot(kind='line', x='db_insert_time', y='humidity', ax=ax)\n",
    "\n",
    "ax.legend(['roadside', 'inside'], loc='best')\n",
    "\n",
    "plt.show()"
   ]
  },
  {
   "cell_type": "code",
   "execution_count": 82,
   "metadata": {},
   "outputs": [
    {
     "data": {
      "image/png": "[encoded data removed]",
      "text/plain": [
       "<Figure size 432x288 with 1 Axes>"
      ]
     },
     "metadata": {
      "needs_background": "light"
     },
     "output_type": "display_data"
    }
   ],
   "source": [
    "ax = plt.gca()\n",
    "\n",
    "df1.plot(kind='line', x='db_insert_time', y='light', ax=ax)\n",
    "df2.plot(kind='line', x='db_insert_time', y='light', ax=ax)\n",
    "\n",
    "ax.legend(['roadside', 'inside'], loc='best')\n",
    "\n",
    "plt.show()"
   ]
  },
  {
   "cell_type": "code",
   "execution_count": 83,
   "metadata": {},
   "outputs": [
    {
     "data": {
      "image/png": "[encoded data removed]",
      "text/plain": [
       "<Figure size 432x288 with 1 Axes>"
      ]
     },
     "metadata": {
      "needs_background": "light"
     },
     "output_type": "display_data"
    }
   ],
   "source": [
    "ax = plt.gca()\n",
    "\n",
    "df1.plot(kind='line', x='db_insert_time', y='temperature', ax=ax)\n",
    "df2.plot(kind='line', x='db_insert_time', y='temperature', ax=ax)\n",
    "\n",
    "ax.legend(['roadside', 'inside'], loc='best')\n",
    "\n",
    "plt.show()"
   ]
  },
  {
   "cell_type": "code",
   "execution_count": 84,
   "metadata": {},
   "outputs": [
    {
     "data": {
      "image/png": "[encoded data removed]",
      "text/plain": [
       "<Figure size 432x288 with 1 Axes>"
      ]
     },
     "metadata": {
      "needs_background": "light"
     },
     "output_type": "display_data"
    }
   ],
   "source": [
    "ax = plt.gca()\n",
    "\n",
    "r1s1_df.plot(kind='line', x='db_insert_time', y='avg', ax=ax)\n",
    "r1s2_df.plot(kind='line', x='db_insert_time', y='avg', ax=ax)\n",
    "r2s1_df.plot(kind='line', x='db_insert_time', y='avg', ax=ax)\n",
    "r2s2_df.plot(kind='line', x='db_insert_time', y='avg', ax=ax)\n",
    "\n",
    "ax.legend(['roadside', 'bed', 'kitchen', 'desk'], loc='best')\n",
    "\n",
    "plt.show()"
   ]
  },
  {
   "cell_type": "markdown",
   "metadata": {},
   "source": [
    "## Integration with Particle platform"
   ]
  },
  {
   "cell_type": "code",
   "execution_count": 28,
   "metadata": {},
   "outputs": [
    {
     "name": "stdout",
     "output_type": "stream",
     "text": [
      " * postgresql://postgres@localhost/homedata\n",
      "88 rows affected.\n"
     ]
    },
    {
     "data": {
      "text/html": [
       "<div>\n",
       "<style scoped>\n",
       "    .dataframe tbody tr th:only-of-type {\n",
       "        vertical-align: middle;\n",
       "    }\n",
       "\n",
       "    .dataframe tbody tr th {\n",
       "        vertical-align: top;\n",
       "    }\n",
       "\n",
       "    .dataframe thead th {\n",
       "        text-align: right;\n",
       "    }\n",
       "</style>\n",
       "<table border=\"1\" class=\"dataframe\">\n",
       "  <thead>\n",
       "    <tr style=\"text-align: right;\">\n",
       "      <th></th>\n",
       "      <th>db_insert_time</th>\n",
       "      <th>room</th>\n",
       "      <th>data_gen_time</th>\n",
       "      <th>sound1</th>\n",
       "      <th>sound2</th>\n",
       "      <th>temperature</th>\n",
       "      <th>humidity</th>\n",
       "      <th>light</th>\n",
       "      <th>motion</th>\n",
       "      <th>airquality</th>\n",
       "      <th>dustconcentration</th>\n",
       "    </tr>\n",
       "  </thead>\n",
       "  <tbody>\n",
       "    <tr>\n",
       "      <th>0</th>\n",
       "      <td>2020-05-07 12:28:11.158750-04:00</td>\n",
       "      <td>hroom-3</td>\n",
       "      <td>2020-05-07 16:28:10-04:00</td>\n",
       "      <td>None</td>\n",
       "      <td>None</td>\n",
       "      <td>68.0</td>\n",
       "      <td>40.0</td>\n",
       "      <td>None</td>\n",
       "      <td>None</td>\n",
       "      <td>Fresh Air</td>\n",
       "      <td>0.62</td>\n",
       "    </tr>\n",
       "    <tr>\n",
       "      <th>8</th>\n",
       "      <td>2020-05-07 12:28:47.314626-04:00</td>\n",
       "      <td>hroom-3</td>\n",
       "      <td>2020-05-07 16:28:47-04:00</td>\n",
       "      <td>None</td>\n",
       "      <td>None</td>\n",
       "      <td>68.0</td>\n",
       "      <td>40.0</td>\n",
       "      <td>None</td>\n",
       "      <td>None</td>\n",
       "      <td>Fresh Air</td>\n",
       "      <td>0.62</td>\n",
       "    </tr>\n",
       "    <tr>\n",
       "      <th>3</th>\n",
       "      <td>2020-05-07 12:29:23.461564-04:00</td>\n",
       "      <td>hroom-3</td>\n",
       "      <td>2020-05-07 16:29:23-04:00</td>\n",
       "      <td>None</td>\n",
       "      <td>None</td>\n",
       "      <td>68.0</td>\n",
       "      <td>40.0</td>\n",
       "      <td>None</td>\n",
       "      <td>None</td>\n",
       "      <td>Fresh Air</td>\n",
       "      <td>0.62</td>\n",
       "    </tr>\n",
       "    <tr>\n",
       "      <th>6</th>\n",
       "      <td>2020-05-07 12:29:59.548780-04:00</td>\n",
       "      <td>hroom-3</td>\n",
       "      <td>2020-05-07 16:29:59-04:00</td>\n",
       "      <td>None</td>\n",
       "      <td>None</td>\n",
       "      <td>68.0</td>\n",
       "      <td>40.0</td>\n",
       "      <td>None</td>\n",
       "      <td>None</td>\n",
       "      <td>Fresh Air</td>\n",
       "      <td>0.62</td>\n",
       "    </tr>\n",
       "    <tr>\n",
       "      <th>9</th>\n",
       "      <td>2020-05-07 12:30:35.635163-04:00</td>\n",
       "      <td>hroom-3</td>\n",
       "      <td>2020-05-07 16:30:35-04:00</td>\n",
       "      <td>None</td>\n",
       "      <td>None</td>\n",
       "      <td>68.0</td>\n",
       "      <td>40.0</td>\n",
       "      <td>None</td>\n",
       "      <td>None</td>\n",
       "      <td>Fresh Air</td>\n",
       "      <td>0.62</td>\n",
       "    </tr>\n",
       "    <tr>\n",
       "      <th>...</th>\n",
       "      <td>...</td>\n",
       "      <td>...</td>\n",
       "      <td>...</td>\n",
       "      <td>...</td>\n",
       "      <td>...</td>\n",
       "      <td>...</td>\n",
       "      <td>...</td>\n",
       "      <td>...</td>\n",
       "      <td>...</td>\n",
       "      <td>...</td>\n",
       "      <td>...</td>\n",
       "    </tr>\n",
       "    <tr>\n",
       "      <th>66</th>\n",
       "      <td>2020-05-07 12:46:50.154041-04:00</td>\n",
       "      <td>hroom-3</td>\n",
       "      <td>2020-05-07 16:46:09-04:00</td>\n",
       "      <td>None</td>\n",
       "      <td>None</td>\n",
       "      <td>68.0</td>\n",
       "      <td>40.0</td>\n",
       "      <td>None</td>\n",
       "      <td>None</td>\n",
       "      <td>Fresh Air</td>\n",
       "      <td>0.62</td>\n",
       "    </tr>\n",
       "    <tr>\n",
       "      <th>67</th>\n",
       "      <td>2020-05-07 12:46:50.154478-04:00</td>\n",
       "      <td>hroom-3</td>\n",
       "      <td>2020-05-07 16:46:19-04:00</td>\n",
       "      <td>None</td>\n",
       "      <td>None</td>\n",
       "      <td>68.0</td>\n",
       "      <td>40.0</td>\n",
       "      <td>None</td>\n",
       "      <td>None</td>\n",
       "      <td>Fresh Air</td>\n",
       "      <td>0.62</td>\n",
       "    </tr>\n",
       "    <tr>\n",
       "      <th>68</th>\n",
       "      <td>2020-05-07 12:46:50.154787-04:00</td>\n",
       "      <td>hroom-3</td>\n",
       "      <td>2020-05-07 16:46:29-04:00</td>\n",
       "      <td>None</td>\n",
       "      <td>None</td>\n",
       "      <td>68.0</td>\n",
       "      <td>40.0</td>\n",
       "      <td>None</td>\n",
       "      <td>None</td>\n",
       "      <td>Fresh Air</td>\n",
       "      <td>0.62</td>\n",
       "    </tr>\n",
       "    <tr>\n",
       "      <th>69</th>\n",
       "      <td>2020-05-07 12:46:50.155092-04:00</td>\n",
       "      <td>hroom-3</td>\n",
       "      <td>2020-05-07 16:46:39-04:00</td>\n",
       "      <td>None</td>\n",
       "      <td>None</td>\n",
       "      <td>68.0</td>\n",
       "      <td>40.0</td>\n",
       "      <td>None</td>\n",
       "      <td>None</td>\n",
       "      <td>Fresh Air</td>\n",
       "      <td>0.62</td>\n",
       "    </tr>\n",
       "    <tr>\n",
       "      <th>70</th>\n",
       "      <td>2020-05-07 12:46:50.155394-04:00</td>\n",
       "      <td>hroom-3</td>\n",
       "      <td>2020-05-07 16:46:49-04:00</td>\n",
       "      <td>None</td>\n",
       "      <td>None</td>\n",
       "      <td>68.0</td>\n",
       "      <td>40.0</td>\n",
       "      <td>None</td>\n",
       "      <td>None</td>\n",
       "      <td>Fresh Air</td>\n",
       "      <td>0.62</td>\n",
       "    </tr>\n",
       "  </tbody>\n",
       "</table>\n",
       "<p>88 rows × 11 columns</p>\n",
       "</div>"
      ],
      "text/plain": [
       "                     db_insert_time     room             data_gen_time sound1  \\\n",
       "0  2020-05-07 12:28:11.158750-04:00  hroom-3 2020-05-07 16:28:10-04:00   None   \n",
       "8  2020-05-07 12:28:47.314626-04:00  hroom-3 2020-05-07 16:28:47-04:00   None   \n",
       "3  2020-05-07 12:29:23.461564-04:00  hroom-3 2020-05-07 16:29:23-04:00   None   \n",
       "6  2020-05-07 12:29:59.548780-04:00  hroom-3 2020-05-07 16:29:59-04:00   None   \n",
       "9  2020-05-07 12:30:35.635163-04:00  hroom-3 2020-05-07 16:30:35-04:00   None   \n",
       "..                              ...      ...                       ...    ...   \n",
       "66 2020-05-07 12:46:50.154041-04:00  hroom-3 2020-05-07 16:46:09-04:00   None   \n",
       "67 2020-05-07 12:46:50.154478-04:00  hroom-3 2020-05-07 16:46:19-04:00   None   \n",
       "68 2020-05-07 12:46:50.154787-04:00  hroom-3 2020-05-07 16:46:29-04:00   None   \n",
       "69 2020-05-07 12:46:50.155092-04:00  hroom-3 2020-05-07 16:46:39-04:00   None   \n",
       "70 2020-05-07 12:46:50.155394-04:00  hroom-3 2020-05-07 16:46:49-04:00   None   \n",
       "\n",
       "   sound2  temperature  humidity light motion airquality  dustconcentration  \n",
       "0    None         68.0      40.0  None   None  Fresh Air               0.62  \n",
       "8    None         68.0      40.0  None   None  Fresh Air               0.62  \n",
       "3    None         68.0      40.0  None   None  Fresh Air               0.62  \n",
       "6    None         68.0      40.0  None   None  Fresh Air               0.62  \n",
       "9    None         68.0      40.0  None   None  Fresh Air               0.62  \n",
       "..    ...          ...       ...   ...    ...        ...                ...  \n",
       "66   None         68.0      40.0  None   None  Fresh Air               0.62  \n",
       "67   None         68.0      40.0  None   None  Fresh Air               0.62  \n",
       "68   None         68.0      40.0  None   None  Fresh Air               0.62  \n",
       "69   None         68.0      40.0  None   None  Fresh Air               0.62  \n",
       "70   None         68.0      40.0  None   None  Fresh Air               0.62  \n",
       "\n",
       "[88 rows x 11 columns]"
      ]
     },
     "execution_count": 28,
     "metadata": {},
     "output_type": "execute_result"
    }
   ],
   "source": [
    "hroom3_result = %sql SELECT * FROM sensor_data WHERE db_insert_time > now() - interval '1 hours' AND room = 'hroom-3' AND data_gen_time is NOT NULL\n",
    "df = hroom3_result.DataFrame()\n",
    "df.sort_values(by=['db_insert_time'])"
   ]
  },
  {
   "cell_type": "markdown",
   "metadata": {},
   "source": [
    "## Insert an Item to DB Table"
   ]
  },
  {
   "cell_type": "code",
   "execution_count": 295,
   "metadata": {},
   "outputs": [
    {
     "name": "stdout",
     "output_type": "stream",
     "text": [
      " * postgresql://postgres@localhost/homedata\n",
      "1 rows affected.\n"
     ]
    },
    {
     "data": {
      "text/plain": [
       "[]"
      ]
     },
     "execution_count": 295,
     "metadata": {},
     "output_type": "execute_result"
    }
   ],
   "source": [
    "t = '2020-05-07 21:45:00'\n",
    "act = 'work'\n",
    "start = 'end'\n",
    "#start = 'end'\n",
    "#%sql INSERT INTO user_activity (db_insert_time, room, data_gen_time, activity, start_end) VALUES (now(), 'hroom', '2020-05-07 11:01:00', 'personal_hygiene', 'end')\n",
    "%sql INSERT INTO user_activity (db_insert_time, room, data_gen_time, activity, start_end) VALUES (now(), 'hroom', '{t}', '{act}', '{start}')\n"
   ]
  },
  {
   "cell_type": "code",
   "execution_count": 224,
   "metadata": {},
   "outputs": [
    {
     "name": "stdout",
     "output_type": "stream",
     "text": [
      " * postgresql://postgres@localhost/homedata\n",
      "32 rows affected.\n"
     ]
    },
    {
     "data": {
      "text/html": [
       "<div>\n",
       "<style scoped>\n",
       "    .dataframe tbody tr th:only-of-type {\n",
       "        vertical-align: middle;\n",
       "    }\n",
       "\n",
       "    .dataframe tbody tr th {\n",
       "        vertical-align: top;\n",
       "    }\n",
       "\n",
       "    .dataframe thead th {\n",
       "        text-align: right;\n",
       "    }\n",
       "</style>\n",
       "<table border=\"1\" class=\"dataframe\">\n",
       "  <thead>\n",
       "    <tr style=\"text-align: right;\">\n",
       "      <th></th>\n",
       "      <th>db_insert_time</th>\n",
       "      <th>room</th>\n",
       "      <th>data_gen_time</th>\n",
       "      <th>activity</th>\n",
       "      <th>start_end</th>\n",
       "    </tr>\n",
       "  </thead>\n",
       "  <tbody>\n",
       "    <tr>\n",
       "      <th>0</th>\n",
       "      <td>2020-05-06 20:45:23.641489-04:00</td>\n",
       "      <td>hroom</td>\n",
       "      <td>2020-05-06 17:15:00-04:00</td>\n",
       "      <td>eating</td>\n",
       "      <td>start</td>\n",
       "    </tr>\n",
       "    <tr>\n",
       "      <th>1</th>\n",
       "      <td>2020-05-06 20:47:31.595355-04:00</td>\n",
       "      <td>hroom</td>\n",
       "      <td>2020-05-06 17:34:00-04:00</td>\n",
       "      <td>eating</td>\n",
       "      <td>end</td>\n",
       "    </tr>\n",
       "    <tr>\n",
       "      <th>2</th>\n",
       "      <td>2020-05-06 20:48:05.545672-04:00</td>\n",
       "      <td>hroom</td>\n",
       "      <td>2020-05-06 18:22:00-04:00</td>\n",
       "      <td>toilet</td>\n",
       "      <td>start</td>\n",
       "    </tr>\n",
       "    <tr>\n",
       "      <th>3</th>\n",
       "      <td>2020-05-06 20:48:20.299363-04:00</td>\n",
       "      <td>hroom</td>\n",
       "      <td>2020-05-06 18:24:00-04:00</td>\n",
       "      <td>toilet</td>\n",
       "      <td>end</td>\n",
       "    </tr>\n",
       "    <tr>\n",
       "      <th>4</th>\n",
       "      <td>2020-05-06 20:49:44.601454-04:00</td>\n",
       "      <td>hroom</td>\n",
       "      <td>2020-05-06 20:02:00-04:00</td>\n",
       "      <td>eating</td>\n",
       "      <td>start</td>\n",
       "    </tr>\n",
       "    <tr>\n",
       "      <th>5</th>\n",
       "      <td>2020-05-06 20:50:02.521953-04:00</td>\n",
       "      <td>hroom</td>\n",
       "      <td>2020-05-06 20:25:00-04:00</td>\n",
       "      <td>eating</td>\n",
       "      <td>end</td>\n",
       "    </tr>\n",
       "    <tr>\n",
       "      <th>6</th>\n",
       "      <td>2020-05-06 20:56:48.313867-04:00</td>\n",
       "      <td>hroom</td>\n",
       "      <td>2020-05-06 20:33:00-04:00</td>\n",
       "      <td>work</td>\n",
       "      <td>start</td>\n",
       "    </tr>\n",
       "    <tr>\n",
       "      <th>7</th>\n",
       "      <td>2020-05-06 20:56:58.744664-04:00</td>\n",
       "      <td>hroom</td>\n",
       "      <td>2020-05-06 20:56:00-04:00</td>\n",
       "      <td>work</td>\n",
       "      <td>end</td>\n",
       "    </tr>\n",
       "    <tr>\n",
       "      <th>8</th>\n",
       "      <td>2020-05-07 10:02:13.178338-04:00</td>\n",
       "      <td>hroom</td>\n",
       "      <td>2020-05-06 21:34:00-04:00</td>\n",
       "      <td>relax</td>\n",
       "      <td>start</td>\n",
       "    </tr>\n",
       "    <tr>\n",
       "      <th>9</th>\n",
       "      <td>2020-05-07 10:02:47.390629-04:00</td>\n",
       "      <td>hroom</td>\n",
       "      <td>2020-05-07 00:18:00-04:00</td>\n",
       "      <td>relax</td>\n",
       "      <td>end</td>\n",
       "    </tr>\n",
       "    <tr>\n",
       "      <th>10</th>\n",
       "      <td>2020-05-07 10:03:22.459355-04:00</td>\n",
       "      <td>hroom</td>\n",
       "      <td>2020-05-07 04:04:00-04:00</td>\n",
       "      <td>sleep</td>\n",
       "      <td>start</td>\n",
       "    </tr>\n",
       "    <tr>\n",
       "      <th>11</th>\n",
       "      <td>2020-05-07 10:03:35.295297-04:00</td>\n",
       "      <td>hroom</td>\n",
       "      <td>2020-05-07 09:56:00-04:00</td>\n",
       "      <td>sleep</td>\n",
       "      <td>end</td>\n",
       "    </tr>\n",
       "    <tr>\n",
       "      <th>12</th>\n",
       "      <td>2020-05-07 14:03:08.961070-04:00</td>\n",
       "      <td>hroom</td>\n",
       "      <td>2020-05-07 10:20:00-04:00</td>\n",
       "      <td>fitness</td>\n",
       "      <td>start</td>\n",
       "    </tr>\n",
       "    <tr>\n",
       "      <th>13</th>\n",
       "      <td>2020-05-07 14:03:34.944892-04:00</td>\n",
       "      <td>hroom</td>\n",
       "      <td>2020-05-07 10:27:00-04:00</td>\n",
       "      <td>fitness</td>\n",
       "      <td>end</td>\n",
       "    </tr>\n",
       "    <tr>\n",
       "      <th>14</th>\n",
       "      <td>2020-05-07 14:04:02.689597-04:00</td>\n",
       "      <td>hroom</td>\n",
       "      <td>2020-05-07 10:34:00-04:00</td>\n",
       "      <td>shower</td>\n",
       "      <td>start</td>\n",
       "    </tr>\n",
       "    <tr>\n",
       "      <th>15</th>\n",
       "      <td>2020-05-07 14:07:32.252439-04:00</td>\n",
       "      <td>hroom</td>\n",
       "      <td>2020-05-07 10:54:00-04:00</td>\n",
       "      <td>shower</td>\n",
       "      <td>end</td>\n",
       "    </tr>\n",
       "    <tr>\n",
       "      <th>16</th>\n",
       "      <td>2020-05-07 14:08:04.280446-04:00</td>\n",
       "      <td>hroom</td>\n",
       "      <td>2020-05-07 10:55:00-04:00</td>\n",
       "      <td>personal_hygiene</td>\n",
       "      <td>start</td>\n",
       "    </tr>\n",
       "    <tr>\n",
       "      <th>17</th>\n",
       "      <td>2020-05-07 14:08:16.469597-04:00</td>\n",
       "      <td>hroom</td>\n",
       "      <td>2020-05-07 11:01:00-04:00</td>\n",
       "      <td>personal_hygiene</td>\n",
       "      <td>end</td>\n",
       "    </tr>\n",
       "    <tr>\n",
       "      <th>18</th>\n",
       "      <td>2020-05-07 14:11:33.970331-04:00</td>\n",
       "      <td>hroom</td>\n",
       "      <td>2020-05-07 11:01:00-04:00</td>\n",
       "      <td>toilet</td>\n",
       "      <td>start</td>\n",
       "    </tr>\n",
       "    <tr>\n",
       "      <th>19</th>\n",
       "      <td>2020-05-07 14:11:50.704688-04:00</td>\n",
       "      <td>hroom</td>\n",
       "      <td>2020-05-07 11:08:00-04:00</td>\n",
       "      <td>toilet</td>\n",
       "      <td>end</td>\n",
       "    </tr>\n",
       "    <tr>\n",
       "      <th>22</th>\n",
       "      <td>2020-05-07 14:13:38.810333-04:00</td>\n",
       "      <td>hroom</td>\n",
       "      <td>2020-05-07 11:08:00-04:00</td>\n",
       "      <td>work</td>\n",
       "      <td>start</td>\n",
       "    </tr>\n",
       "    <tr>\n",
       "      <th>21</th>\n",
       "      <td>2020-05-07 14:12:26.207584-04:00</td>\n",
       "      <td>hroom</td>\n",
       "      <td>2020-05-07 11:22:00-04:00</td>\n",
       "      <td>toilet</td>\n",
       "      <td>start</td>\n",
       "    </tr>\n",
       "    <tr>\n",
       "      <th>20</th>\n",
       "      <td>2020-05-07 14:12:12.564197-04:00</td>\n",
       "      <td>hroom</td>\n",
       "      <td>2020-05-07 11:37:00-04:00</td>\n",
       "      <td>toilet</td>\n",
       "      <td>end</td>\n",
       "    </tr>\n",
       "    <tr>\n",
       "      <th>23</th>\n",
       "      <td>2020-05-07 14:14:05.821015-04:00</td>\n",
       "      <td>hroom</td>\n",
       "      <td>2020-05-07 12:49:00-04:00</td>\n",
       "      <td>work</td>\n",
       "      <td>end</td>\n",
       "    </tr>\n",
       "    <tr>\n",
       "      <th>24</th>\n",
       "      <td>2020-05-07 14:15:39.874322-04:00</td>\n",
       "      <td>hroom</td>\n",
       "      <td>2020-05-07 13:56:00-04:00</td>\n",
       "      <td>work</td>\n",
       "      <td>start</td>\n",
       "    </tr>\n",
       "    <tr>\n",
       "      <th>25</th>\n",
       "      <td>2020-05-07 16:54:07.513311-04:00</td>\n",
       "      <td>hroom</td>\n",
       "      <td>2020-05-07 15:47:00-04:00</td>\n",
       "      <td>work</td>\n",
       "      <td>end</td>\n",
       "    </tr>\n",
       "    <tr>\n",
       "      <th>26</th>\n",
       "      <td>2020-05-07 16:54:21.465677-04:00</td>\n",
       "      <td>hroom</td>\n",
       "      <td>2020-05-07 15:53:00-04:00</td>\n",
       "      <td>eating</td>\n",
       "      <td>start</td>\n",
       "    </tr>\n",
       "    <tr>\n",
       "      <th>27</th>\n",
       "      <td>2020-05-07 16:54:39.506892-04:00</td>\n",
       "      <td>hroom</td>\n",
       "      <td>2020-05-07 16:18:00-04:00</td>\n",
       "      <td>eating</td>\n",
       "      <td>end</td>\n",
       "    </tr>\n",
       "    <tr>\n",
       "      <th>28</th>\n",
       "      <td>2020-05-07 16:54:53.790763-04:00</td>\n",
       "      <td>hroom</td>\n",
       "      <td>2020-05-07 16:19:00-04:00</td>\n",
       "      <td>work</td>\n",
       "      <td>start</td>\n",
       "    </tr>\n",
       "    <tr>\n",
       "      <th>29</th>\n",
       "      <td>2020-05-07 17:25:24.784657-04:00</td>\n",
       "      <td>hroom</td>\n",
       "      <td>2020-05-07 16:57:00-04:00</td>\n",
       "      <td>work</td>\n",
       "      <td>end</td>\n",
       "    </tr>\n",
       "    <tr>\n",
       "      <th>30</th>\n",
       "      <td>2020-05-07 17:25:34.719135-04:00</td>\n",
       "      <td>hroom</td>\n",
       "      <td>2020-05-07 16:57:00-04:00</td>\n",
       "      <td>sleep</td>\n",
       "      <td>start</td>\n",
       "    </tr>\n",
       "    <tr>\n",
       "      <th>31</th>\n",
       "      <td>2020-05-07 17:25:53.911228-04:00</td>\n",
       "      <td>hroom</td>\n",
       "      <td>2020-05-07 17:23:00-04:00</td>\n",
       "      <td>sleep</td>\n",
       "      <td>end</td>\n",
       "    </tr>\n",
       "  </tbody>\n",
       "</table>\n",
       "</div>"
      ],
      "text/plain": [
       "                     db_insert_time   room             data_gen_time  \\\n",
       "0  2020-05-06 20:45:23.641489-04:00  hroom 2020-05-06 17:15:00-04:00   \n",
       "1  2020-05-06 20:47:31.595355-04:00  hroom 2020-05-06 17:34:00-04:00   \n",
       "2  2020-05-06 20:48:05.545672-04:00  hroom 2020-05-06 18:22:00-04:00   \n",
       "3  2020-05-06 20:48:20.299363-04:00  hroom 2020-05-06 18:24:00-04:00   \n",
       "4  2020-05-06 20:49:44.601454-04:00  hroom 2020-05-06 20:02:00-04:00   \n",
       "5  2020-05-06 20:50:02.521953-04:00  hroom 2020-05-06 20:25:00-04:00   \n",
       "6  2020-05-06 20:56:48.313867-04:00  hroom 2020-05-06 20:33:00-04:00   \n",
       "7  2020-05-06 20:56:58.744664-04:00  hroom 2020-05-06 20:56:00-04:00   \n",
       "8  2020-05-07 10:02:13.178338-04:00  hroom 2020-05-06 21:34:00-04:00   \n",
       "9  2020-05-07 10:02:47.390629-04:00  hroom 2020-05-07 00:18:00-04:00   \n",
       "10 2020-05-07 10:03:22.459355-04:00  hroom 2020-05-07 04:04:00-04:00   \n",
       "11 2020-05-07 10:03:35.295297-04:00  hroom 2020-05-07 09:56:00-04:00   \n",
       "12 2020-05-07 14:03:08.961070-04:00  hroom 2020-05-07 10:20:00-04:00   \n",
       "13 2020-05-07 14:03:34.944892-04:00  hroom 2020-05-07 10:27:00-04:00   \n",
       "14 2020-05-07 14:04:02.689597-04:00  hroom 2020-05-07 10:34:00-04:00   \n",
       "15 2020-05-07 14:07:32.252439-04:00  hroom 2020-05-07 10:54:00-04:00   \n",
       "16 2020-05-07 14:08:04.280446-04:00  hroom 2020-05-07 10:55:00-04:00   \n",
       "17 2020-05-07 14:08:16.469597-04:00  hroom 2020-05-07 11:01:00-04:00   \n",
       "18 2020-05-07 14:11:33.970331-04:00  hroom 2020-05-07 11:01:00-04:00   \n",
       "19 2020-05-07 14:11:50.704688-04:00  hroom 2020-05-07 11:08:00-04:00   \n",
       "22 2020-05-07 14:13:38.810333-04:00  hroom 2020-05-07 11:08:00-04:00   \n",
       "21 2020-05-07 14:12:26.207584-04:00  hroom 2020-05-07 11:22:00-04:00   \n",
       "20 2020-05-07 14:12:12.564197-04:00  hroom 2020-05-07 11:37:00-04:00   \n",
       "23 2020-05-07 14:14:05.821015-04:00  hroom 2020-05-07 12:49:00-04:00   \n",
       "24 2020-05-07 14:15:39.874322-04:00  hroom 2020-05-07 13:56:00-04:00   \n",
       "25 2020-05-07 16:54:07.513311-04:00  hroom 2020-05-07 15:47:00-04:00   \n",
       "26 2020-05-07 16:54:21.465677-04:00  hroom 2020-05-07 15:53:00-04:00   \n",
       "27 2020-05-07 16:54:39.506892-04:00  hroom 2020-05-07 16:18:00-04:00   \n",
       "28 2020-05-07 16:54:53.790763-04:00  hroom 2020-05-07 16:19:00-04:00   \n",
       "29 2020-05-07 17:25:24.784657-04:00  hroom 2020-05-07 16:57:00-04:00   \n",
       "30 2020-05-07 17:25:34.719135-04:00  hroom 2020-05-07 16:57:00-04:00   \n",
       "31 2020-05-07 17:25:53.911228-04:00  hroom 2020-05-07 17:23:00-04:00   \n",
       "\n",
       "            activity start_end  \n",
       "0             eating     start  \n",
       "1             eating       end  \n",
       "2             toilet     start  \n",
       "3             toilet       end  \n",
       "4             eating     start  \n",
       "5             eating       end  \n",
       "6               work     start  \n",
       "7               work       end  \n",
       "8              relax     start  \n",
       "9              relax       end  \n",
       "10             sleep     start  \n",
       "11             sleep       end  \n",
       "12           fitness     start  \n",
       "13           fitness       end  \n",
       "14            shower     start  \n",
       "15            shower       end  \n",
       "16  personal_hygiene     start  \n",
       "17  personal_hygiene       end  \n",
       "18            toilet     start  \n",
       "19            toilet       end  \n",
       "22              work     start  \n",
       "21            toilet     start  \n",
       "20            toilet       end  \n",
       "23              work       end  \n",
       "24              work     start  \n",
       "25              work       end  \n",
       "26            eating     start  \n",
       "27            eating       end  \n",
       "28              work     start  \n",
       "29              work       end  \n",
       "30             sleep     start  \n",
       "31             sleep       end  "
      ]
     },
     "execution_count": 224,
     "metadata": {},
     "output_type": "execute_result"
    }
   ],
   "source": [
    "result = %sql SELECT * FROM user_activity\n",
    "df = result.DataFrame()\n",
    "df.sort_values(by=['data_gen_time'], inplace=True, ascending = True)\n",
    "df"
   ]
  },
  {
   "cell_type": "markdown",
   "metadata": {},
   "source": [
    "# Mixed Visualization of Time Series data with Activity Labels"
   ]
  },
  {
   "cell_type": "markdown",
   "metadata": {},
   "source": [
    "## Co-visualization of motion sensor TS and activity labels"
   ]
  },
  {
   "cell_type": "code",
   "execution_count": 292,
   "metadata": {},
   "outputs": [],
   "source": [
    "import numpy as np\n",
    "from datetime import datetime\n",
    "from pytz import timezone\n",
    "\n",
    "# constant variables\n",
    "fc = {'work':'black', 'eating':'green', 'toilet':'purple', 'fitness':'red', 'sleep':'skyblue', 'personal_hygiene':'grey', 'shower':'blue', 'relax':'orange', 'cooking':'pink'}\n",
    "\n",
    "# visualization targets and period\n",
    "target_period = '12 hours'\n",
    "vis_target = 'motion'"
   ]
  },
  {
   "cell_type": "markdown",
   "metadata": {},
   "source": [
    "## Fetching database for the given period of time"
   ]
  },
  {
   "cell_type": "code",
   "execution_count": 293,
   "metadata": {},
   "outputs": [
    {
     "name": "stdout",
     "output_type": "stream",
     "text": [
      " * postgresql://postgres@localhost/homedata\n",
      "36664 rows affected.\n",
      " * postgresql://postgres@localhost/homedata\n",
      "36666 rows affected.\n",
      " * postgresql://postgres@localhost/homedata\n",
      "28 rows affected.\n"
     ]
    },
    {
     "data": {
      "text/html": [
       "<div>\n",
       "<style scoped>\n",
       "    .dataframe tbody tr th:only-of-type {\n",
       "        vertical-align: middle;\n",
       "    }\n",
       "\n",
       "    .dataframe tbody tr th {\n",
       "        vertical-align: top;\n",
       "    }\n",
       "\n",
       "    .dataframe thead th {\n",
       "        text-align: right;\n",
       "    }\n",
       "</style>\n",
       "<table border=\"1\" class=\"dataframe\">\n",
       "  <thead>\n",
       "    <tr style=\"text-align: right;\">\n",
       "      <th></th>\n",
       "      <th>db_insert_time</th>\n",
       "      <th>room</th>\n",
       "      <th>data_gen_time</th>\n",
       "      <th>sound1</th>\n",
       "      <th>sound2</th>\n",
       "      <th>temperature</th>\n",
       "      <th>humidity</th>\n",
       "      <th>light</th>\n",
       "      <th>motion</th>\n",
       "      <th>airquality</th>\n",
       "      <th>dustconcentration</th>\n",
       "    </tr>\n",
       "  </thead>\n",
       "  <tbody>\n",
       "    <tr>\n",
       "      <th>35674</th>\n",
       "      <td>2020-05-07 09:54:43.876602-04:00</td>\n",
       "      <td>hroom-1</td>\n",
       "      <td>2020-05-07 09:54:43-04:00</td>\n",
       "      <td>[34.899708, 36.82768, 38.384537, 37.719734, 36...</td>\n",
       "      <td>[32.410385, 34.585224, 38.629658, 39.88566, 36...</td>\n",
       "      <td>19.834</td>\n",
       "      <td>37.004</td>\n",
       "      <td>0.03</td>\n",
       "      <td>2.65991</td>\n",
       "      <td>None</td>\n",
       "      <td>None</td>\n",
       "    </tr>\n",
       "    <tr>\n",
       "      <th>35675</th>\n",
       "      <td>2020-05-07 09:54:45.002501-04:00</td>\n",
       "      <td>hroom-1</td>\n",
       "      <td>2020-05-07 09:54:44-04:00</td>\n",
       "      <td>[34.0565, 37.366432, 40.173378, 57.00431, 53.4...</td>\n",
       "      <td>[31.95281, 35.31073, 40.408188, 53.746452, 52....</td>\n",
       "      <td>19.828</td>\n",
       "      <td>36.999</td>\n",
       "      <td>0.03</td>\n",
       "      <td>2.73346</td>\n",
       "      <td>None</td>\n",
       "      <td>None</td>\n",
       "    </tr>\n",
       "    <tr>\n",
       "      <th>35676</th>\n",
       "      <td>2020-05-07 09:54:46.134009-04:00</td>\n",
       "      <td>hroom-1</td>\n",
       "      <td>2020-05-07 09:54:46-04:00</td>\n",
       "      <td>[34.0565, 37.845665, 39.744576, 35.539177, 35....</td>\n",
       "      <td>[33.202198, 35.19792, 37.911366, 34.901066, 34...</td>\n",
       "      <td>19.828</td>\n",
       "      <td>37.027</td>\n",
       "      <td>0.03</td>\n",
       "      <td>2.58331</td>\n",
       "      <td>None</td>\n",
       "      <td>None</td>\n",
       "    </tr>\n",
       "    <tr>\n",
       "      <th>35677</th>\n",
       "      <td>2020-05-07 09:54:47.240713-04:00</td>\n",
       "      <td>hroom-1</td>\n",
       "      <td>2020-05-07 09:54:47-04:00</td>\n",
       "      <td>[34.899708, 38.33553, 37.68696, 35.85138, 34.6...</td>\n",
       "      <td>[30.861364, 35.420685, 36.43757, 34.36997, 33....</td>\n",
       "      <td>19.828</td>\n",
       "      <td>37.010</td>\n",
       "      <td>0.06</td>\n",
       "      <td>2.42661</td>\n",
       "      <td>None</td>\n",
       "      <td>None</td>\n",
       "    </tr>\n",
       "    <tr>\n",
       "      <th>36318</th>\n",
       "      <td>2020-05-07 09:54:48.381853-04:00</td>\n",
       "      <td>hroom-1</td>\n",
       "      <td>2020-05-07 09:54:48-04:00</td>\n",
       "      <td>[34.636417, 39.54127, 38.70838, 36.189335, 35....</td>\n",
       "      <td>[32.410385, 34.963108, 37.236687, 33.931293, 3...</td>\n",
       "      <td>19.828</td>\n",
       "      <td>37.044</td>\n",
       "      <td>0.06</td>\n",
       "      <td>2.42294</td>\n",
       "      <td>None</td>\n",
       "      <td>None</td>\n",
       "    </tr>\n",
       "    <tr>\n",
       "      <th>...</th>\n",
       "      <td>...</td>\n",
       "      <td>...</td>\n",
       "      <td>...</td>\n",
       "      <td>...</td>\n",
       "      <td>...</td>\n",
       "      <td>...</td>\n",
       "      <td>...</td>\n",
       "      <td>...</td>\n",
       "      <td>...</td>\n",
       "      <td>...</td>\n",
       "      <td>...</td>\n",
       "    </tr>\n",
       "    <tr>\n",
       "      <th>35669</th>\n",
       "      <td>2020-05-07 21:34:51.548563-04:00</td>\n",
       "      <td>hroom-1</td>\n",
       "      <td>2020-05-07 21:34:51-04:00</td>\n",
       "      <td>[35.382755, 35.712757, 39.033943, 35.289352, 3...</td>\n",
       "      <td>[31.626118, 34.636417, 35.672, 34.61035, 33.57...</td>\n",
       "      <td>20.565</td>\n",
       "      <td>26.895</td>\n",
       "      <td>64.27</td>\n",
       "      <td>2.50290</td>\n",
       "      <td>None</td>\n",
       "      <td>None</td>\n",
       "    </tr>\n",
       "    <tr>\n",
       "      <th>35670</th>\n",
       "      <td>2020-05-07 21:34:52.681662-04:00</td>\n",
       "      <td>hroom-1</td>\n",
       "      <td>2020-05-07 21:34:52-04:00</td>\n",
       "      <td>[36.019444, 35.266937, 37.125797, 35.9013, 35....</td>\n",
       "      <td>[32.13764, 34.356133, 35.45749, 34.36997, 34.2...</td>\n",
       "      <td>20.565</td>\n",
       "      <td>26.901</td>\n",
       "      <td>64.21</td>\n",
       "      <td>2.49786</td>\n",
       "      <td>None</td>\n",
       "      <td>None</td>\n",
       "    </tr>\n",
       "    <tr>\n",
       "      <th>35671</th>\n",
       "      <td>2020-05-07 21:34:53.779086-04:00</td>\n",
       "      <td>hroom-1</td>\n",
       "      <td>2020-05-07 21:34:53-04:00</td>\n",
       "      <td>[37.910007, 39.919155, 37.125797, 37.719734, 3...</td>\n",
       "      <td>[34.356133, 40.34039, 34.9938, 39.302906, 41.0...</td>\n",
       "      <td>20.565</td>\n",
       "      <td>26.935</td>\n",
       "      <td>64.21</td>\n",
       "      <td>2.48611</td>\n",
       "      <td>None</td>\n",
       "      <td>None</td>\n",
       "    </tr>\n",
       "    <tr>\n",
       "      <th>35672</th>\n",
       "      <td>2020-05-07 21:34:54.923073-04:00</td>\n",
       "      <td>hroom-1</td>\n",
       "      <td>2020-05-07 21:34:54-04:00</td>\n",
       "      <td>[36.39733, 35.9196, 36.212498, 36.047703, 35.5...</td>\n",
       "      <td>[35.14794, 34.0565, 33.470917, 34.48647, 34.89...</td>\n",
       "      <td>20.565</td>\n",
       "      <td>26.906</td>\n",
       "      <td>64.24</td>\n",
       "      <td>2.42950</td>\n",
       "      <td>None</td>\n",
       "      <td>None</td>\n",
       "    </tr>\n",
       "    <tr>\n",
       "      <th>35673</th>\n",
       "      <td>2020-05-07 21:34:56.081378-04:00</td>\n",
       "      <td>hroom-1</td>\n",
       "      <td>2020-05-07 21:34:56-04:00</td>\n",
       "      <td>[36.57462, 35.382755, 36.119095, 35.173534, 34...</td>\n",
       "      <td>[34.171295, 35.93221, 33.202198, 33.884846, 35...</td>\n",
       "      <td>20.559</td>\n",
       "      <td>26.889</td>\n",
       "      <td>64.24</td>\n",
       "      <td>2.50854</td>\n",
       "      <td>None</td>\n",
       "      <td>None</td>\n",
       "    </tr>\n",
       "  </tbody>\n",
       "</table>\n",
       "<p>36664 rows × 11 columns</p>\n",
       "</div>"
      ],
      "text/plain": [
       "                        db_insert_time     room             data_gen_time  \\\n",
       "35674 2020-05-07 09:54:43.876602-04:00  hroom-1 2020-05-07 09:54:43-04:00   \n",
       "35675 2020-05-07 09:54:45.002501-04:00  hroom-1 2020-05-07 09:54:44-04:00   \n",
       "35676 2020-05-07 09:54:46.134009-04:00  hroom-1 2020-05-07 09:54:46-04:00   \n",
       "35677 2020-05-07 09:54:47.240713-04:00  hroom-1 2020-05-07 09:54:47-04:00   \n",
       "36318 2020-05-07 09:54:48.381853-04:00  hroom-1 2020-05-07 09:54:48-04:00   \n",
       "...                                ...      ...                       ...   \n",
       "35669 2020-05-07 21:34:51.548563-04:00  hroom-1 2020-05-07 21:34:51-04:00   \n",
       "35670 2020-05-07 21:34:52.681662-04:00  hroom-1 2020-05-07 21:34:52-04:00   \n",
       "35671 2020-05-07 21:34:53.779086-04:00  hroom-1 2020-05-07 21:34:53-04:00   \n",
       "35672 2020-05-07 21:34:54.923073-04:00  hroom-1 2020-05-07 21:34:54-04:00   \n",
       "35673 2020-05-07 21:34:56.081378-04:00  hroom-1 2020-05-07 21:34:56-04:00   \n",
       "\n",
       "                                                  sound1  \\\n",
       "35674  [34.899708, 36.82768, 38.384537, 37.719734, 36...   \n",
       "35675  [34.0565, 37.366432, 40.173378, 57.00431, 53.4...   \n",
       "35676  [34.0565, 37.845665, 39.744576, 35.539177, 35....   \n",
       "35677  [34.899708, 38.33553, 37.68696, 35.85138, 34.6...   \n",
       "36318  [34.636417, 39.54127, 38.70838, 36.189335, 35....   \n",
       "...                                                  ...   \n",
       "35669  [35.382755, 35.712757, 39.033943, 35.289352, 3...   \n",
       "35670  [36.019444, 35.266937, 37.125797, 35.9013, 35....   \n",
       "35671  [37.910007, 39.919155, 37.125797, 37.719734, 3...   \n",
       "35672  [36.39733, 35.9196, 36.212498, 36.047703, 35.5...   \n",
       "35673  [36.57462, 35.382755, 36.119095, 35.173534, 34...   \n",
       "\n",
       "                                                  sound2  temperature  \\\n",
       "35674  [32.410385, 34.585224, 38.629658, 39.88566, 36...       19.834   \n",
       "35675  [31.95281, 35.31073, 40.408188, 53.746452, 52....       19.828   \n",
       "35676  [33.202198, 35.19792, 37.911366, 34.901066, 34...       19.828   \n",
       "35677  [30.861364, 35.420685, 36.43757, 34.36997, 33....       19.828   \n",
       "36318  [32.410385, 34.963108, 37.236687, 33.931293, 3...       19.828   \n",
       "...                                                  ...          ...   \n",
       "35669  [31.626118, 34.636417, 35.672, 34.61035, 33.57...       20.565   \n",
       "35670  [32.13764, 34.356133, 35.45749, 34.36997, 34.2...       20.565   \n",
       "35671  [34.356133, 40.34039, 34.9938, 39.302906, 41.0...       20.565   \n",
       "35672  [35.14794, 34.0565, 33.470917, 34.48647, 34.89...       20.565   \n",
       "35673  [34.171295, 35.93221, 33.202198, 33.884846, 35...       20.559   \n",
       "\n",
       "       humidity  light   motion airquality dustconcentration  \n",
       "35674    37.004   0.03  2.65991       None              None  \n",
       "35675    36.999   0.03  2.73346       None              None  \n",
       "35676    37.027   0.03  2.58331       None              None  \n",
       "35677    37.010   0.06  2.42661       None              None  \n",
       "36318    37.044   0.06  2.42294       None              None  \n",
       "...         ...    ...      ...        ...               ...  \n",
       "35669    26.895  64.27  2.50290       None              None  \n",
       "35670    26.901  64.21  2.49786       None              None  \n",
       "35671    26.935  64.21  2.48611       None              None  \n",
       "35672    26.906  64.24  2.42950       None              None  \n",
       "35673    26.889  64.24  2.50854       None              None  \n",
       "\n",
       "[36664 rows x 11 columns]"
      ]
     },
     "execution_count": 293,
     "metadata": {},
     "output_type": "execute_result"
    }
   ],
   "source": [
    "hroom1_result = %sql SELECT * FROM sensor_data WHERE db_insert_time > now() - interval '{target_period}' AND room = 'hroom-1'\n",
    "hroom2_result = %sql SELECT * FROM sensor_data WHERE db_insert_time > now() - interval '{target_period}' AND room = 'hroom-2'\n",
    "sensor_df1 = hroom1_result.DataFrame()\n",
    "sensor_df2 = hroom2_result.DataFrame()\n",
    "sensor_df1.sort_values('db_insert_time', ascending = True, inplace = True)\n",
    "sensor_df2.sort_values('db_insert_time', ascending = True, inplace = True)\n",
    "\n",
    "act_result = %sql SELECT data_gen_time, activity, start_end FROM user_activity WHERE data_gen_time > now() - interval '{target_period}'\n",
    "act_df = act_result.DataFrame()\n",
    "act_df.sort_values('data_gen_time', ascending = True, inplace = True)\n",
    "sensor_df1"
   ]
  },
  {
   "cell_type": "code",
   "execution_count": 294,
   "metadata": {},
   "outputs": [
    {
     "name": "stderr",
     "output_type": "stream",
     "text": [
      "/Users/heesuk/opt/anaconda3/lib/python3.7/site-packages/ipykernel_launcher.py:16: DeprecationWarning: parsing timezone aware datetimes is deprecated; this will raise an error in the future\n",
      "  app.launch_new_instance()\n"
     ]
    },
    {
     "data": {
      "image/png": "[encoded data removed]",
      "text/plain": [
       "<Figure size 1440x720 with 1 Axes>"
      ]
     },
     "metadata": {
      "needs_background": "light"
     },
     "output_type": "display_data"
    }
   ],
   "source": [
    "ax = plt.gca()\n",
    "\n",
    "sensor_df1.plot(kind='line', x='db_insert_time', y=vis_target, ax=ax)\n",
    "sensor_df2.plot(kind='line', x='db_insert_time', y=vis_target, ax=ax)\n",
    "\n",
    "ax.legend(['roadside', 'inside'], loc='best')\n",
    "\n",
    "act_stack = {} # stack implemented as a dict which stores unclosed/unfinished activities to be visualized\n",
    "\n",
    "start_T = ''\n",
    "end_T = ''\n",
    "\n",
    "# converts numpy.datetime64 to datetime.\n",
    "# datetime is compatible with pandas.timestamp with timezone.\n",
    "def convT(T_dt64):\n",
    "    T_ts = (T_dt64 - np.datetime64('1970-01-01T00:00:00Z')) / np.timedelta64(1, 's')\n",
    "    return datetime.fromtimestamp(T_ts).astimezone(timezone('US/Eastern'))\n",
    "\n",
    "# visualize starts here\n",
    "for index, row in act_df.iterrows():    \n",
    "    act = row['activity']\n",
    "    \n",
    "    if row['start_end'] == 'start':\n",
    "        if act in act_stack.keys():\n",
    "            print('The given activity is already in the activity stack.') # error message\n",
    "        else:\n",
    "            act_stack[act] = {}\n",
    "\n",
    "            start_T = row['data_gen_time']\n",
    "\n",
    "            if index == 0: # if this is the last row\n",
    "                end_T = convT(sensor_df1.tail(1)['data_gen_time'].values[0])\n",
    "                ax.axvspan(start_T, end_T, facecolor=fc[act], alpha=0.2)\n",
    "                act_stack.pop(act)\n",
    "            else:\n",
    "                act_stack[act]['start_T'] = start_T\n",
    "    else: # row['start_end'] == 'end'\n",
    "        end_T = row['data_gen_time']\n",
    "        \n",
    "        if act in act_stack.keys():\n",
    "            act_stack[act]['end_T'] = end_T\n",
    "            ax.axvspan(act_stack[act]['start_T'], act_stack[act]['end_T'], facecolor=fc[act], alpha=0.2)\n",
    "            act_stack.pop(act)\n",
    "        else:\n",
    "            if start_T == '':\n",
    "                start_T = convT(sensor_df1.head(1)['data_gen_time'].values[0])\n",
    "\n",
    "            ax.axvspan(start_T, end_T, facecolor=fc[act], alpha=0.2)\n",
    "            \n",
    "if len(act_stack.keys()) != 0:\n",
    "    print(\"len(act_stack.keys()) = {}\".format(len(act_stack.keys())))\n",
    "    print(\"act_stack = {}\".format(str(act_stack)))\n",
    "\n",
    "plt.rcParams[\"figure.figsize\"] = (20,10)\n",
    "plt.show()"
   ]
  },
  {
   "cell_type": "markdown",
   "metadata": {},
   "source": [
    "### Color\n",
    "* 'work':'black'\n",
    "* 'eating':'green'\n",
    "* 'toilet':'purple'\n",
    "* 'fitness':'red'\n",
    "* 'sleep':'skyblue'\n",
    "* 'personal_hygiene':'grey'\n",
    "* 'shower':'blue'\n",
    "* 'relax':'orange'\n",
    "* 'cooking':'pink'"
   ]
  },
  {
   "cell_type": "code",
   "execution_count": null,
   "metadata": {},
   "outputs": [],
   "source": []
  }
 ],
 "metadata": {
  "kernelspec": {
   "display_name": "Python 3",
   "language": "python",
   "name": "python3"
  },
  "language_info": {
   "codemirror_mode": {
    "name": "ipython",
    "version": 3
   },
   "file_extension": ".py",
   "mimetype": "text/x-python",
   "name": "python",
   "nbconvert_exporter": "python",
   "pygments_lexer": "ipython3",
   "version": "3.7.6"
  }
 },
 "nbformat": 4,
 "nbformat_minor": 4
}
