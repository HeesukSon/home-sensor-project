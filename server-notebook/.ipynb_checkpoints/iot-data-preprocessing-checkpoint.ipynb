{
 "cells": [
  {
   "cell_type": "markdown",
   "metadata": {},
   "source": [
    "# Import necessary modules and load sql engine"
   ]
  },
  {
   "cell_type": "code",
   "execution_count": 10,
   "metadata": {},
   "outputs": [],
   "source": [
    "import sqlalchemy\n",
    "import numpy as np\n",
    "import matplotlib.pyplot as plt\n",
    "import pandas as pd\n",
    "\n",
    "from sqlalchemy import create_engine\n",
    "from IPython.display import display_html\n",
    "from datetime import datetime\n",
    "from pytz import timezone"
   ]
  },
  {
   "cell_type": "code",
   "execution_count": 11,
   "metadata": {},
   "outputs": [
    {
     "name": "stdout",
     "output_type": "stream",
     "text": [
      "The sql extension is already loaded. To reload it, use:\n",
      "  %reload_ext sql\n"
     ]
    }
   ],
   "source": [
    "%load_ext sql\n",
    "%sql postgresql://postgres@localhost/homedata\n",
    "engine = create_engine('postgresql://postgres@localhost/homedata')"
   ]
  },
  {
   "cell_type": "markdown",
   "metadata": {},
   "source": [
    "# Declare configuration variables"
   ]
  },
  {
   "cell_type": "code",
   "execution_count": 111,
   "metadata": {},
   "outputs": [],
   "source": [
    "# constant variables\n",
    "fc = {'work':'black', \n",
    "      'eating':'green', \n",
    "      'toilet':'purple', \n",
    "      'fitness':'red', \n",
    "      'sleep':'skyblue', \n",
    "      'personal_hygiene':'grey', \n",
    "      'shower':'blue', \n",
    "      'relax':'orange', \n",
    "      'cooking':'pink', \n",
    "      'phonecall':'teal', \n",
    "      'leave_home':'brown'}\n",
    "\n",
    "# visualization targets and period\n",
    "target_period = '12 hours'\n",
    "vis_target = 'humidity'"
   ]
  },
  {
   "cell_type": "markdown",
   "metadata": {},
   "source": [
    "# Fetch sensor data from TimescaleDB"
   ]
  },
  {
   "cell_type": "code",
   "execution_count": 112,
   "metadata": {},
   "outputs": [
    {
     "name": "stdout",
     "output_type": "stream",
     "text": [
      " * postgresql://postgres@localhost/homedata\n",
      "27062 rows affected.\n",
      " * postgresql://postgres@localhost/homedata\n",
      "26906 rows affected.\n",
      " * postgresql://postgres@localhost/homedata\n",
      "6 rows affected.\n"
     ]
    }
   ],
   "source": [
    "hroom1_result = %sql SELECT * FROM sensor_data WHERE db_insert_time > now() - interval '{target_period}' AND room = 'hroom-1'\n",
    "hroom2_result = %sql SELECT * FROM sensor_data WHERE db_insert_time > now() - interval '{target_period}' AND room = 'hroom-2'\n",
    "act_result = %sql SELECT data_gen_time, activity, start_end FROM user_activity WHERE data_gen_time > now() - interval '{target_period}'\n",
    "\n",
    "sensor_df1 = hroom1_result.DataFrame()\n",
    "sensor_df2 = hroom2_result.DataFrame()\n",
    "act_df = act_result.DataFrame()\n",
    "\n",
    "sensor_df1.sort_values('db_insert_time', ascending = True, inplace = True)\n",
    "sensor_df2.sort_values('db_insert_time', ascending = True, inplace = True)\n",
    "act_df.sort_values('data_gen_time', ascending = True, inplace = True)"
   ]
  },
  {
   "cell_type": "code",
   "execution_count": 148,
   "metadata": {},
   "outputs": [
    {
     "name": "stdout",
     "output_type": "stream",
     "text": [
      " * postgresql://postgres@localhost/homedata\n",
      "29157 rows affected.\n",
      " * postgresql://postgres@localhost/homedata\n",
      "29158 rows affected.\n",
      " * postgresql://postgres@localhost/homedata\n",
      "29002 rows affected.\n",
      " * postgresql://postgres@localhost/homedata\n",
      "29002 rows affected.\n"
     ]
    },
    {
     "data": {
      "text/html": [
       "<div>\n",
       "<style scoped>\n",
       "    .dataframe tbody tr th:only-of-type {\n",
       "        vertical-align: middle;\n",
       "    }\n",
       "\n",
       "    .dataframe tbody tr th {\n",
       "        vertical-align: top;\n",
       "    }\n",
       "\n",
       "    .dataframe thead th {\n",
       "        text-align: right;\n",
       "    }\n",
       "</style>\n",
       "<table border=\"1\" class=\"dataframe\">\n",
       "  <thead>\n",
       "    <tr style=\"text-align: right;\">\n",
       "      <th></th>\n",
       "      <th>db_insert_time</th>\n",
       "      <th>avg</th>\n",
       "    </tr>\n",
       "  </thead>\n",
       "  <tbody>\n",
       "    <tr>\n",
       "      <th>1</th>\n",
       "      <td>2020-05-12 05:27:29.895557-04:00</td>\n",
       "      <td>35.893540</td>\n",
       "    </tr>\n",
       "    <tr>\n",
       "      <th>2</th>\n",
       "      <td>2020-05-12 05:27:36.493286-04:00</td>\n",
       "      <td>35.777458</td>\n",
       "    </tr>\n",
       "    <tr>\n",
       "      <th>3</th>\n",
       "      <td>2020-05-12 05:27:38.374571-04:00</td>\n",
       "      <td>36.312056</td>\n",
       "    </tr>\n",
       "    <tr>\n",
       "      <th>4</th>\n",
       "      <td>2020-05-12 05:27:39.514213-04:00</td>\n",
       "      <td>36.130674</td>\n",
       "    </tr>\n",
       "    <tr>\n",
       "      <th>5</th>\n",
       "      <td>2020-05-12 05:27:42.638269-04:00</td>\n",
       "      <td>35.676838</td>\n",
       "    </tr>\n",
       "    <tr>\n",
       "      <th>...</th>\n",
       "      <td>...</td>\n",
       "      <td>...</td>\n",
       "    </tr>\n",
       "    <tr>\n",
       "      <th>27194</th>\n",
       "      <td>2020-05-12 14:47:50.267123-04:00</td>\n",
       "      <td>37.562641</td>\n",
       "    </tr>\n",
       "    <tr>\n",
       "      <th>27195</th>\n",
       "      <td>2020-05-12 14:47:51.393581-04:00</td>\n",
       "      <td>37.937497</td>\n",
       "    </tr>\n",
       "    <tr>\n",
       "      <th>27196</th>\n",
       "      <td>2020-05-12 14:47:52.501563-04:00</td>\n",
       "      <td>37.781261</td>\n",
       "    </tr>\n",
       "    <tr>\n",
       "      <th>27197</th>\n",
       "      <td>2020-05-12 14:47:53.617736-04:00</td>\n",
       "      <td>37.689421</td>\n",
       "    </tr>\n",
       "    <tr>\n",
       "      <th>27198</th>\n",
       "      <td>2020-05-12 14:47:54.732269-04:00</td>\n",
       "      <td>37.734161</td>\n",
       "    </tr>\n",
       "  </tbody>\n",
       "</table>\n",
       "<p>29157 rows × 2 columns</p>\n",
       "</div>"
      ],
      "text/plain": [
       "                        db_insert_time        avg\n",
       "1     2020-05-12 05:27:29.895557-04:00  35.893540\n",
       "2     2020-05-12 05:27:36.493286-04:00  35.777458\n",
       "3     2020-05-12 05:27:38.374571-04:00  36.312056\n",
       "4     2020-05-12 05:27:39.514213-04:00  36.130674\n",
       "5     2020-05-12 05:27:42.638269-04:00  35.676838\n",
       "...                                ...        ...\n",
       "27194 2020-05-12 14:47:50.267123-04:00  37.562641\n",
       "27195 2020-05-12 14:47:51.393581-04:00  37.937497\n",
       "27196 2020-05-12 14:47:52.501563-04:00  37.781261\n",
       "27197 2020-05-12 14:47:53.617736-04:00  37.689421\n",
       "27198 2020-05-12 14:47:54.732269-04:00  37.734161\n",
       "\n",
       "[29157 rows x 2 columns]"
      ]
     },
     "execution_count": 148,
     "metadata": {},
     "output_type": "execute_result"
    }
   ],
   "source": [
    "r1s1 = %sql SELECT db_insert_time, (select avg(a) from unnest(sound1) as a) FROM sensor_data WHERE db_insert_time > now() - interval '{target_period}' AND room = 'hroom-1'\n",
    "r1s2 = %sql SELECT db_insert_time, (select avg(a) from unnest(sound2) as a) FROM sensor_data WHERE db_insert_time > now() - interval '{target_period}' AND room = 'hroom-1'\n",
    "r2s1 = %sql SELECT db_insert_time, (select avg(a) from unnest(sound1) as a) FROM sensor_data WHERE db_insert_time > now() - interval '{target_period}' AND room = 'hroom-2'\n",
    "r2s2 = %sql SELECT db_insert_time, (select avg(a) from unnest(sound2) as a) FROM sensor_data WHERE db_insert_time > now() - interval '{target_period}' AND room = 'hroom-2'\n",
    "\n",
    "r1s1_df = r1s1.DataFrame()\n",
    "r1s2_df = r1s2.DataFrame()\n",
    "r2s1_df = r2s1.DataFrame()\n",
    "r2s2_df = r2s2.DataFrame()\n",
    "\n",
    "r1s1_df.sort_values('db_insert_time', ascending = True, inplace = True)\n",
    "r1s2_df.sort_values('db_insert_time', ascending = True, inplace = True)\n",
    "r2s1_df.sort_values('db_insert_time', ascending = True, inplace = True)\n",
    "r2s2_df.sort_values('db_insert_time', ascending = True, inplace = True)\n",
    "\n",
    "r1s1_df"
   ]
  },
  {
   "cell_type": "markdown",
   "metadata": {},
   "source": [
    "# Merge data into a single dataframe in a normalized scale"
   ]
  },
  {
   "cell_type": "markdown",
   "metadata": {},
   "source": [
    "## Merge Dataframe along the same timescale"
   ]
  },
  {
   "cell_type": "markdown",
   "metadata": {
    "jupyter": {
     "source_hidden": true
    }
   },
   "source": [
    "### Remove microsecond digits from timestamps in DataFrame"
   ]
  },
  {
   "cell_type": "code",
   "execution_count": 162,
   "metadata": {
    "collapsed": true,
    "jupyter": {
     "outputs_hidden": true,
     "source_hidden": true
    }
   },
   "outputs": [
    {
     "data": {
      "text/plain": [
       "time     datetime64[ns, psycopg2.tz.FixedOffsetTimezone...\n",
       "snd11                                              float64\n",
       "dtype: object"
      ]
     },
     "execution_count": 162,
     "metadata": {},
     "output_type": "execute_result"
    }
   ],
   "source": [
    "ms_filter = lambda x: x.replace(microsecond=0)\n",
    "\n",
    "# initial setup with (microsecond-removed timestamp, sound_oct_avg) pairs\n",
    "ts_wo_ms_11 = np.array([ms_filter(t) for t in r1s1_df['db_insert_time'].dt.to_pydatetime()])\n",
    "snd11_df = pd.DataFrame(columns=['time'], data = ts_wo_ms_11)\n",
    "snd11_df['snd11'] = r1s1_df['avg']\n",
    "\n",
    "ts_wo_ms_12 = np.array([ms_filter(t) for t in r1s2_df['db_insert_time'].dt.to_pydatetime()])\n",
    "snd12_df = pd.DataFrame(columns=['time'], data = ts_wo_ms_12)\n",
    "snd12_df['snd12'] = r1s2_df['avg']\n",
    "\n",
    "ts_wo_ms_21 = np.array([ms_filter(t) for t in r2s1_df['db_insert_time'].dt.to_pydatetime()])\n",
    "snd21_df = pd.DataFrame(columns=['time'], data = ts_wo_ms_21)\n",
    "snd21_df['snd21'] = r2s1_df['avg']\n",
    "\n",
    "ts_wo_ms_22 = np.array([ms_filter(t) for t in r2s2_df['db_insert_time'].dt.to_pydatetime()])\n",
    "snd22_df = pd.DataFrame(columns=['time'], data = ts_wo_ms_22)\n",
    "snd22_df['snd22'] = r2s2_df['avg']\n",
    "\n",
    "snd11_df.dtypes"
   ]
  },
  {
   "cell_type": "markdown",
   "metadata": {
    "jupyter": {
     "source_hidden": true
    }
   },
   "source": [
    "### Merging dataframes using Pandas GroupBy operation"
   ]
  },
  {
   "cell_type": "code",
   "execution_count": 164,
   "metadata": {
    "collapsed": true,
    "jupyter": {
     "outputs_hidden": true,
     "source_hidden": true
    }
   },
   "outputs": [
    {
     "data": {
      "text/html": [
       "<div>\n",
       "<style scoped>\n",
       "    .dataframe tbody tr th:only-of-type {\n",
       "        vertical-align: middle;\n",
       "    }\n",
       "\n",
       "    .dataframe tbody tr th {\n",
       "        vertical-align: top;\n",
       "    }\n",
       "\n",
       "    .dataframe thead th {\n",
       "        text-align: right;\n",
       "    }\n",
       "</style>\n",
       "<table border=\"1\" class=\"dataframe\">\n",
       "  <thead>\n",
       "    <tr style=\"text-align: right;\">\n",
       "      <th></th>\n",
       "      <th>time</th>\n",
       "      <th>snd11</th>\n",
       "      <th>snd12</th>\n",
       "    </tr>\n",
       "  </thead>\n",
       "  <tbody>\n",
       "    <tr>\n",
       "      <th>0</th>\n",
       "      <td>2020-05-12 05:27:29-04:00</td>\n",
       "      <td>35.808841</td>\n",
       "      <td>34.882682</td>\n",
       "    </tr>\n",
       "    <tr>\n",
       "      <th>1</th>\n",
       "      <td>2020-05-12 05:27:36-04:00</td>\n",
       "      <td>35.893540</td>\n",
       "      <td>34.677525</td>\n",
       "    </tr>\n",
       "    <tr>\n",
       "      <th>2</th>\n",
       "      <td>2020-05-12 05:27:38-04:00</td>\n",
       "      <td>35.777458</td>\n",
       "      <td>34.923707</td>\n",
       "    </tr>\n",
       "    <tr>\n",
       "      <th>3</th>\n",
       "      <td>2020-05-12 05:27:39-04:00</td>\n",
       "      <td>36.312056</td>\n",
       "      <td>34.446327</td>\n",
       "    </tr>\n",
       "    <tr>\n",
       "      <th>4</th>\n",
       "      <td>2020-05-12 05:27:42-04:00</td>\n",
       "      <td>36.130674</td>\n",
       "      <td>34.866732</td>\n",
       "    </tr>\n",
       "    <tr>\n",
       "      <th>...</th>\n",
       "      <td>...</td>\n",
       "      <td>...</td>\n",
       "      <td>...</td>\n",
       "    </tr>\n",
       "    <tr>\n",
       "      <th>29170</th>\n",
       "      <td>2020-05-12 14:47:50-04:00</td>\n",
       "      <td>35.714463</td>\n",
       "      <td>34.627444</td>\n",
       "    </tr>\n",
       "    <tr>\n",
       "      <th>29171</th>\n",
       "      <td>2020-05-12 14:47:51-04:00</td>\n",
       "      <td>35.775607</td>\n",
       "      <td>34.602440</td>\n",
       "    </tr>\n",
       "    <tr>\n",
       "      <th>29172</th>\n",
       "      <td>2020-05-12 14:47:52-04:00</td>\n",
       "      <td>35.301686</td>\n",
       "      <td>34.909094</td>\n",
       "    </tr>\n",
       "    <tr>\n",
       "      <th>29173</th>\n",
       "      <td>2020-05-12 14:47:53-04:00</td>\n",
       "      <td>35.876654</td>\n",
       "      <td>34.754509</td>\n",
       "    </tr>\n",
       "    <tr>\n",
       "      <th>29174</th>\n",
       "      <td>2020-05-12 14:47:54-04:00</td>\n",
       "      <td>35.709650</td>\n",
       "      <td>34.847916</td>\n",
       "    </tr>\n",
       "  </tbody>\n",
       "</table>\n",
       "<p>29175 rows × 3 columns</p>\n",
       "</div>"
      ],
      "text/plain": [
       "                           time      snd11      snd12\n",
       "0     2020-05-12 05:27:29-04:00  35.808841  34.882682\n",
       "1     2020-05-12 05:27:36-04:00  35.893540  34.677525\n",
       "2     2020-05-12 05:27:38-04:00  35.777458  34.923707\n",
       "3     2020-05-12 05:27:39-04:00  36.312056  34.446327\n",
       "4     2020-05-12 05:27:42-04:00  36.130674  34.866732\n",
       "...                         ...        ...        ...\n",
       "29170 2020-05-12 14:47:50-04:00  35.714463  34.627444\n",
       "29171 2020-05-12 14:47:51-04:00  35.775607  34.602440\n",
       "29172 2020-05-12 14:47:52-04:00  35.301686  34.909094\n",
       "29173 2020-05-12 14:47:53-04:00  35.876654  34.754509\n",
       "29174 2020-05-12 14:47:54-04:00  35.709650  34.847916\n",
       "\n",
       "[29175 rows x 3 columns]"
      ]
     },
     "execution_count": 164,
     "metadata": {},
     "output_type": "execute_result"
    }
   ],
   "source": [
    "dataset_df = pd.merge(snd11_df, snd12_df, on='time')\n",
    "dataset_df"
   ]
  },
  {
   "cell_type": "markdown",
   "metadata": {},
   "source": [
    "### Time-series friendly merging: pd.merge_asof()"
   ]
  },
  {
   "cell_type": "code",
   "execution_count": 193,
   "metadata": {},
   "outputs": [],
   "source": [
    "r1s1_df.rename(columns={'avg':'snd11'}, inplace=True)\n",
    "r1s2_df.rename(columns={'avg':'snd12'}, inplace=True)\n",
    "r2s1_df.rename(columns={'avg':'snd21'}, inplace=True)\n",
    "r2s2_df.rename(columns={'avg':'snd22'}, inplace=True)"
   ]
  },
  {
   "cell_type": "code",
   "execution_count": 194,
   "metadata": {},
   "outputs": [],
   "source": [
    "r1_df = pd.merge_asof(r1s1_df, r1s2_df, on='db_insert_time', tolerance=pd.Timedelta('5ms'))\n",
    "r2_df = pd.merge_asof(r2s1_df, r2s2_df, on='db_insert_time', tolerance=pd.Timedelta('5ms'))"
   ]
  },
  {
   "cell_type": "code",
   "execution_count": 195,
   "metadata": {},
   "outputs": [],
   "source": [
    "snd_df = pd.merge_asof(r1_df, r2_df, on='db_insert_time', tolerance=pd.Timedelta('1s'))\n",
    "snd_df.rename(columns={'db_insert_time':'time'}, inplace=True)\n",
    "snd_df.dropna(inplace=True)"
   ]
  },
  {
   "cell_type": "code",
   "execution_count": 196,
   "metadata": {},
   "outputs": [
    {
     "data": {
      "image/png": "[encoded data removed]",
      "text/plain": [
       "<Figure size 1440x720 with 1 Axes>"
      ]
     },
     "metadata": {
      "needs_background": "light"
     },
     "output_type": "display_data"
    }
   ],
   "source": [
    "ax = plt.gca()\n",
    "\n",
    "snd_df.plot(kind='line', x='time', y='snd11', ax=ax)\n",
    "snd_df.plot(kind='line', x='time', y='snd12', ax=ax)\n",
    "snd_df.plot(kind='line', x='time', y='snd21', ax=ax)\n",
    "snd_df.plot(kind='line', x='time', y='snd22', ax=ax)\n",
    "\n",
    "ax.legend(['roadside', 'bed', 'kitchen', 'desk'], loc='best')\n",
    "\n",
    "plt.rcParams[\"figure.figsize\"] = (20,10)\n",
    "plt.show()"
   ]
  },
  {
   "cell_type": "markdown",
   "metadata": {},
   "source": [
    "## Normalize Dataframe values along all columns"
   ]
  },
  {
   "cell_type": "code",
   "execution_count": null,
   "metadata": {},
   "outputs": [],
   "source": []
  },
  {
   "cell_type": "markdown",
   "metadata": {},
   "source": [
    "# Visualize the MTS data with activity data labels"
   ]
  },
  {
   "cell_type": "code",
   "execution_count": null,
   "metadata": {},
   "outputs": [],
   "source": []
  },
  {
   "cell_type": "markdown",
   "metadata": {},
   "source": [
    "# Construct (X,Y) pairs out of the dataframe for DNN models"
   ]
  },
  {
   "cell_type": "markdown",
   "metadata": {},
   "source": [
    "## Transformation from dataframe to (X,Y) pairs"
   ]
  },
  {
   "cell_type": "code",
   "execution_count": null,
   "metadata": {},
   "outputs": [],
   "source": []
  },
  {
   "cell_type": "markdown",
   "metadata": {},
   "source": [
    "## Split the dataset for training and validation sets"
   ]
  },
  {
   "cell_type": "code",
   "execution_count": null,
   "metadata": {},
   "outputs": [],
   "source": []
  }
 ],
 "metadata": {
  "kernelspec": {
   "display_name": "Python 3",
   "language": "python",
   "name": "python3"
  },
  "language_info": {
   "codemirror_mode": {
    "name": "ipython",
    "version": 3
   },
   "file_extension": ".py",
   "mimetype": "text/x-python",
   "name": "python",
   "nbconvert_exporter": "python",
   "pygments_lexer": "ipython3",
   "version": "3.7.6"
  }
 },
 "nbformat": 4,
 "nbformat_minor": 4
}
