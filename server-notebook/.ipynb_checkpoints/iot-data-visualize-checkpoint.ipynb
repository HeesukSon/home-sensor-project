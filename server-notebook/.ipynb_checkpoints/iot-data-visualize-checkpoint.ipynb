{
 "cells": [
  {
   "cell_type": "markdown",
   "metadata": {},
   "source": [
    "The goal of this notebook is to study how to **fetch IoT timeseries data from the server-side TimescaleDB** and how to **visualize them with Python plotting libraries** effectively. Proper **data sampling rate** needs to be investigated as well in this notebook. For this notebook, online materials listed below are used:\n",
    "* Installation, DB Connection, and PostgreSQL querying: https://medium.com/analytics-vidhya/postgresql-integration-with-jupyter-notebook-deb97579a38d\n",
    "* Using PostgreSQL meta-commands: https://medium.com/data-analysis-for-beginners/bring-native-psql-magic-into-jupyter-notebook-50b663d856b5\n",
    "* Using masic function % for storing data to variables: https://towardsdatascience.com/heres-how-to-run-sql-in-jupyter-notebooks-f26eb90f3259"
   ]
  },
  {
   "cell_type": "markdown",
   "metadata": {},
   "source": [
    "## Loading libraries and connecting to DB"
   ]
  },
  {
   "cell_type": "code",
   "execution_count": 43,
   "metadata": {},
   "outputs": [],
   "source": [
    "import sqlalchemy\n",
    "from sqlalchemy import create_engine\n",
    "from IPython.display import display_html"
   ]
  },
  {
   "cell_type": "code",
   "execution_count": 32,
   "metadata": {},
   "outputs": [
    {
     "name": "stdout",
     "output_type": "stream",
     "text": [
      "The sql extension is already loaded. To reload it, use:\n",
      "  %reload_ext sql\n"
     ]
    }
   ],
   "source": [
    "%load_ext sql"
   ]
  },
  {
   "cell_type": "code",
   "execution_count": 33,
   "metadata": {},
   "outputs": [
    {
     "data": {
      "text/plain": [
       "'Connected: postgres@homedata'"
      ]
     },
     "execution_count": 33,
     "metadata": {},
     "output_type": "execute_result"
    }
   ],
   "source": [
    "%sql postgresql://postgres@localhost/homedata"
   ]
  },
  {
   "cell_type": "code",
   "execution_count": 34,
   "metadata": {},
   "outputs": [],
   "source": [
    "engine = create_engine('postgresql://postgres@localhost/homedata')"
   ]
  },
  {
   "cell_type": "markdown",
   "metadata": {},
   "source": [
    "## Query Example: Printing top 3 rows"
   ]
  },
  {
   "cell_type": "code",
   "execution_count": 35,
   "metadata": {},
   "outputs": [
    {
     "name": "stdout",
     "output_type": "stream",
     "text": [
      " * postgresql://postgres@localhost/homedata\n",
      "3 rows affected.\n"
     ]
    },
    {
     "data": {
      "text/html": [
       "<table>\n",
       "    <tr>\n",
       "        <th>db_insert_time</th>\n",
       "        <th>room</th>\n",
       "        <th>data_gen_time</th>\n",
       "        <th>sound1</th>\n",
       "        <th>sound2</th>\n",
       "        <th>temperature</th>\n",
       "        <th>humidity</th>\n",
       "        <th>light</th>\n",
       "        <th>motion</th>\n",
       "    </tr>\n",
       "    <tr>\n",
       "        <td>2020-04-26 14:44:33.240067-04:00</td>\n",
       "        <td>hroom-1</td>\n",
       "        <td>2020-04-26 14:44:33-04:00</td>\n",
       "        <td>[38.84491, 41.548523, 43.78904, 37.553318, 34.932198, 34.789368, 35.375282, 37.072533, 36.9852, 38.804432]</td>\n",
       "        <td>[34.714874, 44.053913, 40.614216, 37.209526, 34.59998, 34.460262, 34.454475, 36.158672, 35.970127, 37.8359]</td>\n",
       "        <td>28.289</td>\n",
       "        <td>29.041</td>\n",
       "        <td>95.67</td>\n",
       "        <td>2.5499</td>\n",
       "    </tr>\n",
       "    <tr>\n",
       "        <td>2020-04-26 14:44:34.464842-04:00</td>\n",
       "        <td>hroom-1</td>\n",
       "        <td>2020-04-26 14:44:34-04:00</td>\n",
       "        <td>[37.034363, 42.94117, 43.11823, 36.212498, 34.61035, 34.721, 34.98621, 36.95212, 37.28573, 38.667828]</td>\n",
       "        <td>[33.202198, 42.82431, 40.96828, 36.672382, 34.514984, 36.18337, 34.71283, 36.63037, 36.36674, 38.095177]</td>\n",
       "        <td>28.236</td>\n",
       "        <td>29.047</td>\n",
       "        <td>95.79</td>\n",
       "        <td>2.57324</td>\n",
       "    </tr>\n",
       "    <tr>\n",
       "        <td>2020-04-26 14:44:35.536709-04:00</td>\n",
       "        <td>hroom-2</td>\n",
       "        <td>2020-04-26 09:44:35-04:00</td>\n",
       "        <td>[36.57462, 40.622955, 47.64065, 37.1816, 36.083546, 35.031864, 35.373005, 37.80639, 37.482098, 38.176067]</td>\n",
       "        <td>[37.725174, 41.904285, 44.440018, 37.784557, 35.9873, 35.374237, 35.76456, 38.074524, 38.428814, 39.666794]</td>\n",
       "        <td>20.059</td>\n",
       "        <td>36.423</td>\n",
       "        <td>72.63</td>\n",
       "        <td>2.78305</td>\n",
       "    </tr>\n",
       "</table>"
      ],
      "text/plain": [
       "[(datetime.datetime(2020, 4, 26, 14, 44, 33, 240067, tzinfo=psycopg2.tz.FixedOffsetTimezone(offset=-240, name=None)), 'hroom-1', datetime.datetime(2020, 4, 26, 14, 44, 33, tzinfo=psycopg2.tz.FixedOffsetTimezone(offset=-240, name=None)), [38.84491, 41.548523, 43.78904, 37.553318, 34.932198, 34.789368, 35.375282, 37.072533, 36.9852, 38.804432], [34.714874, 44.053913, 40.614216, 37.209526, 34.59998, 34.460262, 34.454475, 36.158672, 35.970127, 37.8359], 28.289, 29.041, 95.67, 2.5499),\n",
       " (datetime.datetime(2020, 4, 26, 14, 44, 34, 464842, tzinfo=psycopg2.tz.FixedOffsetTimezone(offset=-240, name=None)), 'hroom-1', datetime.datetime(2020, 4, 26, 14, 44, 34, tzinfo=psycopg2.tz.FixedOffsetTimezone(offset=-240, name=None)), [37.034363, 42.94117, 43.11823, 36.212498, 34.61035, 34.721, 34.98621, 36.95212, 37.28573, 38.667828], [33.202198, 42.82431, 40.96828, 36.672382, 34.514984, 36.18337, 34.71283, 36.63037, 36.36674, 38.095177], 28.236, 29.047, 95.79, 2.57324),\n",
       " (datetime.datetime(2020, 4, 26, 14, 44, 35, 536709, tzinfo=psycopg2.tz.FixedOffsetTimezone(offset=-240, name=None)), 'hroom-2', datetime.datetime(2020, 4, 26, 9, 44, 35, tzinfo=psycopg2.tz.FixedOffsetTimezone(offset=-240, name=None)), [36.57462, 40.622955, 47.64065, 37.1816, 36.083546, 35.031864, 35.373005, 37.80639, 37.482098, 38.176067], [37.725174, 41.904285, 44.440018, 37.784557, 35.9873, 35.374237, 35.76456, 38.074524, 38.428814, 39.666794], 20.059, 36.423, 72.63, 2.78305)]"
      ]
     },
     "execution_count": 35,
     "metadata": {},
     "output_type": "execute_result"
    }
   ],
   "source": [
    "%%sql\n",
    "\n",
    "select * from sensor_data limit 3"
   ]
  },
  {
   "cell_type": "markdown",
   "metadata": {},
   "source": [
    "## PSQL Meta-commands: Printing out the total count of inserted data rows "
   ]
  },
  {
   "cell_type": "code",
   "execution_count": 60,
   "metadata": {},
   "outputs": [
    {
     "name": "stdout",
     "output_type": "stream",
     "text": [
      " * postgresql://postgres@localhost/homedata\n",
      "1 rows affected.\n"
     ]
    },
    {
     "data": {
      "text/html": [
       "<table>\n",
       "    <tr>\n",
       "        <th>count</th>\n",
       "    </tr>\n",
       "    <tr>\n",
       "        <td>38725</td>\n",
       "    </tr>\n",
       "</table>"
      ],
      "text/plain": [
       "[(38725,)]"
      ]
     },
     "execution_count": 60,
     "metadata": {},
     "output_type": "execute_result"
    }
   ],
   "source": [
    "%%sql\n",
    "select count(*) from sensor_data"
   ]
  },
  {
   "cell_type": "code",
   "execution_count": 53,
   "metadata": {},
   "outputs": [
    {
     "name": "stdin",
     "output_type": "stream",
     "text": [
      "Enter psql command to execute:  \\l+ homedata\n"
     ]
    },
    {
     "data": {
      "text/html": [
       "<table border=\"1\">  <caption>List of databases</caption>  <tr>    <th align=\"center\">Name</th>    <th align=\"center\">Owner</th>    <th align=\"center\">Encoding</th>    <th align=\"center\">Collate</th>    <th align=\"center\">Ctype</th>    <th align=\"center\">Access privileges</th>    <th align=\"center\">Size</th>    <th align=\"center\">Tablespace</th>    <th align=\"center\">Description</th>  </tr>  <tr valign=\"top\">    <td align=\"left\">homedata</td>    <td align=\"left\">postgres</td>    <td align=\"left\">UTF8</td>    <td align=\"left\">C</td>    <td align=\"left\">C</td>    <td align=\"left\">&nbsp; </td>    <td align=\"left\">17 MB</td>    <td align=\"left\">pg_default</td>    <td align=\"left\">&nbsp; </td>  </tr></table><p>(1 row)<br /></p>"
      ]
     },
     "metadata": {},
     "output_type": "display_data"
    }
   ],
   "source": [
    "host='localhost'\n",
    "database='homedata'\n",
    "username='postgres'\n",
    "\n",
    "### psql_cmd examples\n",
    "# \\dt : prints data tables\n",
    "# \\d sensor_data : prints sensor_data table schema\n",
    "# \\l+ homedata : prints database size\n",
    "###\n",
    "psql_cmd = input(\"Enter psql command to execute: \")\n",
    "psql_out = !psql -H -h \"{host}\" -d \"{database}\" -U \"{username}\" -c \"{psql_cmd}\"\n",
    "display_html(''.join(psql_out), raw=True)"
   ]
  },
  {
   "cell_type": "code",
   "execution_count": 58,
   "metadata": {},
   "outputs": [
    {
     "data": {
      "text/html": [
       "<table border=\"1\">  <caption>Table &quot;public.sensor_data&quot;</caption>  <tr>    <th align=\"center\">Column</th>    <th align=\"center\">Type</th>    <th align=\"center\">Collation</th>    <th align=\"center\">Nullable</th>    <th align=\"center\">Default</th>  </tr>  <tr valign=\"top\">    <td align=\"left\">db_insert_time</td>    <td align=\"left\">timestamp with time zone</td>    <td align=\"left\">&nbsp; </td>    <td align=\"left\">not null</td>    <td align=\"left\">&nbsp; </td>  </tr>  <tr valign=\"top\">    <td align=\"left\">room</td>    <td align=\"left\">text</td>    <td align=\"left\">&nbsp; </td>    <td align=\"left\">not null</td>    <td align=\"left\">&nbsp; </td>  </tr>  <tr valign=\"top\">    <td align=\"left\">data_gen_time</td>    <td align=\"left\">timestamp with time zone</td>    <td align=\"left\">&nbsp; </td>    <td align=\"left\">not null</td>    <td align=\"left\">&nbsp; </td>  </tr>  <tr valign=\"top\">    <td align=\"left\">sound1</td>    <td align=\"left\">real[]</td>    <td align=\"left\">&nbsp; </td>    <td align=\"left\">&nbsp; </td>    <td align=\"left\">&nbsp; </td>  </tr>  <tr valign=\"top\">    <td align=\"left\">sound2</td>    <td align=\"left\">real[]</td>    <td align=\"left\">&nbsp; </td>    <td align=\"left\">&nbsp; </td>    <td align=\"left\">&nbsp; </td>  </tr>  <tr valign=\"top\">    <td align=\"left\">temperature</td>    <td align=\"left\">real</td>    <td align=\"left\">&nbsp; </td>    <td align=\"left\">&nbsp; </td>    <td align=\"left\">&nbsp; </td>  </tr>  <tr valign=\"top\">    <td align=\"left\">humidity</td>    <td align=\"left\">real</td>    <td align=\"left\">&nbsp; </td>    <td align=\"left\">&nbsp; </td>    <td align=\"left\">&nbsp; </td>  </tr>  <tr valign=\"top\">    <td align=\"left\">light</td>    <td align=\"left\">real</td>    <td align=\"left\">&nbsp; </td>    <td align=\"left\">&nbsp; </td>    <td align=\"left\">&nbsp; </td>  </tr>  <tr valign=\"top\">    <td align=\"left\">motion</td>    <td align=\"left\">real</td>    <td align=\"left\">&nbsp; </td>    <td align=\"left\">&nbsp; </td>    <td align=\"left\">&nbsp; </td>  </tr></table>"
      ]
     },
     "metadata": {},
     "output_type": "display_data"
    }
   ],
   "source": [
    "psql_cmd = \"\\d sensor_data\"\n",
    "psql_out = !psql -H -h \"{host}\" -d \"{database}\" -U \"{username}\" -c \"{psql_cmd}\"\n",
    "display_html(''.join(psql_out), raw=True)"
   ]
  },
  {
   "cell_type": "code",
   "execution_count": 61,
   "metadata": {},
   "outputs": [
    {
     "data": {
      "text/html": [
       "<table border=\"1\">  <caption>List of databases</caption>  <tr>    <th align=\"center\">Name</th>    <th align=\"center\">Owner</th>    <th align=\"center\">Encoding</th>    <th align=\"center\">Collate</th>    <th align=\"center\">Ctype</th>    <th align=\"center\">Access privileges</th>    <th align=\"center\">Size</th>    <th align=\"center\">Tablespace</th>    <th align=\"center\">Description</th>  </tr>  <tr valign=\"top\">    <td align=\"left\">homedata</td>    <td align=\"left\">postgres</td>    <td align=\"left\">UTF8</td>    <td align=\"left\">C</td>    <td align=\"left\">C</td>    <td align=\"left\">&nbsp; </td>    <td align=\"left\">17 MB</td>    <td align=\"left\">pg_default</td>    <td align=\"left\">&nbsp; </td>  </tr></table><p>(1 row)<br /></p>"
      ]
     },
     "metadata": {},
     "output_type": "display_data"
    }
   ],
   "source": [
    "psql_cmd = \"\\l+ homedata\"\n",
    "psql_out = !psql -H -h \"{host}\" -d \"{database}\" -U \"{username}\" -c \"{psql_cmd}\"\n",
    "display_html(''.join(psql_out), raw=True)"
   ]
  },
  {
   "cell_type": "markdown",
   "metadata": {},
   "source": [
    "## Querying and visualizing data: Magic function % and pandas DataFrame"
   ]
  },
  {
   "cell_type": "code",
   "execution_count": 118,
   "metadata": {},
   "outputs": [
    {
     "name": "stdout",
     "output_type": "stream",
     "text": [
      " * postgresql://postgres@localhost/homedata\n",
      "18760 rows affected.\n",
      " * postgresql://postgres@localhost/homedata\n",
      "18470 rows affected.\n"
     ]
    }
   ],
   "source": [
    "hroom1_result = %sql SELECT * FROM sensor_data WHERE db_insert_time > now() - interval '6 hours' AND room = 'hroom-1'\n",
    "hroom2_result = %sql SELECT * FROM sensor_data WHERE db_insert_time > now() - interval '6 hours' AND room = 'hroom-2'\n",
    "df1 = hroom1_result.DataFrame()\n",
    "df2 = hroom2_result.DataFrame()"
   ]
  },
  {
   "cell_type": "code",
   "execution_count": 119,
   "metadata": {},
   "outputs": [
    {
     "data": {
      "image/png": "[encoded data removed]",
      "text/plain": [
       "<Figure size 432x288 with 1 Axes>"
      ]
     },
     "metadata": {
      "needs_background": "light"
     },
     "output_type": "display_data"
    }
   ],
   "source": [
    "import matplotlib.pyplot as plt\n",
    "import pandas as pd\n",
    "\n",
    "# gca stands for 'get current axis'\n",
    "ax = plt.gca()\n",
    "\n",
    "df1.plot(kind='line', x='db_insert_time', y='motion', ax=ax)\n",
    "df2.plot(kind='line', x='db_insert_time', y='motion', ax=ax)\n",
    "\n",
    "plt.show()"
   ]
  },
  {
   "cell_type": "code",
   "execution_count": 120,
   "metadata": {},
   "outputs": [
    {
     "data": {
      "image/png": "[encoded data removed]",
      "text/plain": [
       "<Figure size 432x288 with 1 Axes>"
      ]
     },
     "metadata": {
      "needs_background": "light"
     },
     "output_type": "display_data"
    }
   ],
   "source": [
    "ax = plt.gca()\n",
    "\n",
    "df1.plot(kind='line', x='db_insert_time', y='humidity', ax=ax)\n",
    "df2.plot(kind='line', x='db_insert_time', y='humidity', ax=ax)\n",
    "\n",
    "plt.show()"
   ]
  },
  {
   "cell_type": "code",
   "execution_count": 121,
   "metadata": {},
   "outputs": [
    {
     "data": {
      "image/png": "[encoded data removed]",
      "text/plain": [
       "<Figure size 432x288 with 1 Axes>"
      ]
     },
     "metadata": {
      "needs_background": "light"
     },
     "output_type": "display_data"
    }
   ],
   "source": [
    "ax = plt.gca()\n",
    "\n",
    "df1.plot(kind='line', x='db_insert_time', y='light', ax=ax)\n",
    "df2.plot(kind='line', x='db_insert_time', y='light', ax=ax)\n",
    "\n",
    "plt.show()"
   ]
  },
  {
   "cell_type": "code",
   "execution_count": 122,
   "metadata": {},
   "outputs": [
    {
     "data": {
      "image/png": "[encoded data removed]",
      "text/plain": [
       "<Figure size 432x288 with 1 Axes>"
      ]
     },
     "metadata": {
      "needs_background": "light"
     },
     "output_type": "display_data"
    }
   ],
   "source": [
    "ax = plt.gca()\n",
    "\n",
    "df1.plot(kind='line', x='db_insert_time', y='temperature', ax=ax)\n",
    "df2.plot(kind='line', x='db_insert_time', y='temperature', ax=ax)\n",
    "\n",
    "plt.show()"
   ]
  },
  {
   "cell_type": "code",
   "execution_count": 117,
   "metadata": {},
   "outputs": [
    {
     "data": {
      "text/html": [
       "<div>\n",
       "<style scoped>\n",
       "    .dataframe tbody tr th:only-of-type {\n",
       "        vertical-align: middle;\n",
       "    }\n",
       "\n",
       "    .dataframe tbody tr th {\n",
       "        vertical-align: top;\n",
       "    }\n",
       "\n",
       "    .dataframe thead th {\n",
       "        text-align: right;\n",
       "    }\n",
       "</style>\n",
       "<table border=\"1\" class=\"dataframe\">\n",
       "  <thead>\n",
       "    <tr style=\"text-align: right;\">\n",
       "      <th></th>\n",
       "      <th>db_insert_time</th>\n",
       "      <th>room</th>\n",
       "      <th>data_gen_time</th>\n",
       "      <th>sound1</th>\n",
       "      <th>sound2</th>\n",
       "      <th>temperature</th>\n",
       "      <th>humidity</th>\n",
       "      <th>light</th>\n",
       "      <th>motion</th>\n",
       "    </tr>\n",
       "  </thead>\n",
       "  <tbody>\n",
       "    <tr>\n",
       "      <th>0</th>\n",
       "      <td>2020-04-26 17:34:05.133304-04:00</td>\n",
       "      <td>hroom-1</td>\n",
       "      <td>2020-04-26 17:34:05-04:00</td>\n",
       "      <td>[37.780357, 38.827713, 41.3526, 38.079895, 35....</td>\n",
       "      <td>[34.899708, 42.52958, 43.45351, 35.9013, 33.88...</td>\n",
       "      <td>23.794</td>\n",
       "      <td>29.146</td>\n",
       "      <td>66.86</td>\n",
       "      <td>2.49863</td>\n",
       "    </tr>\n",
       "    <tr>\n",
       "      <th>1</th>\n",
       "      <td>2020-04-26 17:34:06.239960-04:00</td>\n",
       "      <td>hroom-1</td>\n",
       "      <td>2020-04-26 17:34:06-04:00</td>\n",
       "      <td>[38.0359, 43.701115, 43.723976, 38.079895, 34....</td>\n",
       "      <td>[34.963108, 42.30043, 43.607716, 37.236687, 33...</td>\n",
       "      <td>23.814</td>\n",
       "      <td>29.146</td>\n",
       "      <td>66.83</td>\n",
       "      <td>2.48093</td>\n",
       "    </tr>\n",
       "    <tr>\n",
       "      <th>2</th>\n",
       "      <td>2020-04-26 17:34:07.375342-04:00</td>\n",
       "      <td>hroom-1</td>\n",
       "      <td>2020-04-26 17:34:07-04:00</td>\n",
       "      <td>[41.0462, 41.345833, 42.71371, 37.355522, 35.6...</td>\n",
       "      <td>[36.212498, 43.650322, 44.460815, 35.0846, 32....</td>\n",
       "      <td>23.834</td>\n",
       "      <td>29.146</td>\n",
       "      <td>66.80</td>\n",
       "      <td>2.49496</td>\n",
       "    </tr>\n",
       "    <tr>\n",
       "      <th>3</th>\n",
       "      <td>2020-04-26 17:34:08.521231-04:00</td>\n",
       "      <td>hroom-1</td>\n",
       "      <td>2020-04-26 17:34:08-04:00</td>\n",
       "      <td>[44.118103, 43.800957, 44.51579, 37.236687, 34...</td>\n",
       "      <td>[40.67113, 44.68925, 43.211426, 37.236687, 33....</td>\n",
       "      <td>23.847</td>\n",
       "      <td>29.146</td>\n",
       "      <td>66.80</td>\n",
       "      <td>2.48901</td>\n",
       "    </tr>\n",
       "    <tr>\n",
       "      <th>4</th>\n",
       "      <td>2020-04-26 17:34:09.627018-04:00</td>\n",
       "      <td>hroom-1</td>\n",
       "      <td>2020-04-26 17:34:09-04:00</td>\n",
       "      <td>[40.983707, 44.08741, 43.715775, 37.031178, 35...</td>\n",
       "      <td>[37.910007, 42.659878, 44.508957, 35.926044, 3...</td>\n",
       "      <td>23.827</td>\n",
       "      <td>29.140</td>\n",
       "      <td>66.83</td>\n",
       "      <td>2.50458</td>\n",
       "    </tr>\n",
       "    <tr>\n",
       "      <th>...</th>\n",
       "      <td>...</td>\n",
       "      <td>...</td>\n",
       "      <td>...</td>\n",
       "      <td>...</td>\n",
       "      <td>...</td>\n",
       "      <td>...</td>\n",
       "      <td>...</td>\n",
       "      <td>...</td>\n",
       "      <td>...</td>\n",
       "    </tr>\n",
       "    <tr>\n",
       "      <th>12530</th>\n",
       "      <td>2020-04-26 21:34:00.369821-04:00</td>\n",
       "      <td>hroom-1</td>\n",
       "      <td>2020-04-26 21:34:00-04:00</td>\n",
       "      <td>[35.817413, 34.636417, 39.66185, 34.947514, 34...</td>\n",
       "      <td>[34.0565, 35.9196, 36.212498, 33.155746, 33.51...</td>\n",
       "      <td>29.531</td>\n",
       "      <td>29.512</td>\n",
       "      <td>64.94</td>\n",
       "      <td>2.47467</td>\n",
       "    </tr>\n",
       "    <tr>\n",
       "      <th>12531</th>\n",
       "      <td>2020-04-26 21:34:01.515133-04:00</td>\n",
       "      <td>hroom-1</td>\n",
       "      <td>2020-04-26 21:34:01-04:00</td>\n",
       "      <td>[37.851067, 36.212498, 40.060566, 36.303932, 3...</td>\n",
       "      <td>[36.212498, 35.734768, 37.30907, 35.11445, 34....</td>\n",
       "      <td>29.544</td>\n",
       "      <td>29.512</td>\n",
       "      <td>65.00</td>\n",
       "      <td>2.35687</td>\n",
       "    </tr>\n",
       "    <tr>\n",
       "      <th>12532</th>\n",
       "      <td>2020-04-26 21:34:02.621234-04:00</td>\n",
       "      <td>hroom-1</td>\n",
       "      <td>2020-04-26 21:34:02-04:00</td>\n",
       "      <td>[35.817413, 37.578323, 41.17944, 34.901066, 34...</td>\n",
       "      <td>[35.382755, 36.117043, 39.865784, 34.334515, 3...</td>\n",
       "      <td>29.558</td>\n",
       "      <td>29.512</td>\n",
       "      <td>65.03</td>\n",
       "      <td>2.42752</td>\n",
       "    </tr>\n",
       "    <tr>\n",
       "      <th>12533</th>\n",
       "      <td>2020-04-26 21:34:03.734064-04:00</td>\n",
       "      <td>hroom-1</td>\n",
       "      <td>2020-04-26 21:34:03-04:00</td>\n",
       "      <td>[39.131363, 34.963108, 38.9116, 35.80088, 35.2...</td>\n",
       "      <td>[35.14794, 34.0565, 37.784557, 33.061333, 32.8...</td>\n",
       "      <td>29.578</td>\n",
       "      <td>29.512</td>\n",
       "      <td>65.00</td>\n",
       "      <td>2.38480</td>\n",
       "    </tr>\n",
       "    <tr>\n",
       "      <th>12534</th>\n",
       "      <td>2020-04-26 21:34:04.977646-04:00</td>\n",
       "      <td>hroom-1</td>\n",
       "      <td>2020-04-26 21:34:04-04:00</td>\n",
       "      <td>[38.94251, 36.56012, 38.12475, 35.619358, 35.0...</td>\n",
       "      <td>[34.0565, 36.019444, 37.587116, 34.334515, 32....</td>\n",
       "      <td>29.538</td>\n",
       "      <td>29.518</td>\n",
       "      <td>65.06</td>\n",
       "      <td>2.51953</td>\n",
       "    </tr>\n",
       "  </tbody>\n",
       "</table>\n",
       "<p>12535 rows × 9 columns</p>\n",
       "</div>"
      ],
      "text/plain": [
       "                        db_insert_time     room             data_gen_time  \\\n",
       "0     2020-04-26 17:34:05.133304-04:00  hroom-1 2020-04-26 17:34:05-04:00   \n",
       "1     2020-04-26 17:34:06.239960-04:00  hroom-1 2020-04-26 17:34:06-04:00   \n",
       "2     2020-04-26 17:34:07.375342-04:00  hroom-1 2020-04-26 17:34:07-04:00   \n",
       "3     2020-04-26 17:34:08.521231-04:00  hroom-1 2020-04-26 17:34:08-04:00   \n",
       "4     2020-04-26 17:34:09.627018-04:00  hroom-1 2020-04-26 17:34:09-04:00   \n",
       "...                                ...      ...                       ...   \n",
       "12530 2020-04-26 21:34:00.369821-04:00  hroom-1 2020-04-26 21:34:00-04:00   \n",
       "12531 2020-04-26 21:34:01.515133-04:00  hroom-1 2020-04-26 21:34:01-04:00   \n",
       "12532 2020-04-26 21:34:02.621234-04:00  hroom-1 2020-04-26 21:34:02-04:00   \n",
       "12533 2020-04-26 21:34:03.734064-04:00  hroom-1 2020-04-26 21:34:03-04:00   \n",
       "12534 2020-04-26 21:34:04.977646-04:00  hroom-1 2020-04-26 21:34:04-04:00   \n",
       "\n",
       "                                                  sound1  \\\n",
       "0      [37.780357, 38.827713, 41.3526, 38.079895, 35....   \n",
       "1      [38.0359, 43.701115, 43.723976, 38.079895, 34....   \n",
       "2      [41.0462, 41.345833, 42.71371, 37.355522, 35.6...   \n",
       "3      [44.118103, 43.800957, 44.51579, 37.236687, 34...   \n",
       "4      [40.983707, 44.08741, 43.715775, 37.031178, 35...   \n",
       "...                                                  ...   \n",
       "12530  [35.817413, 34.636417, 39.66185, 34.947514, 34...   \n",
       "12531  [37.851067, 36.212498, 40.060566, 36.303932, 3...   \n",
       "12532  [35.817413, 37.578323, 41.17944, 34.901066, 34...   \n",
       "12533  [39.131363, 34.963108, 38.9116, 35.80088, 35.2...   \n",
       "12534  [38.94251, 36.56012, 38.12475, 35.619358, 35.0...   \n",
       "\n",
       "                                                  sound2  temperature  \\\n",
       "0      [34.899708, 42.52958, 43.45351, 35.9013, 33.88...       23.794   \n",
       "1      [34.963108, 42.30043, 43.607716, 37.236687, 33...       23.814   \n",
       "2      [36.212498, 43.650322, 44.460815, 35.0846, 32....       23.834   \n",
       "3      [40.67113, 44.68925, 43.211426, 37.236687, 33....       23.847   \n",
       "4      [37.910007, 42.659878, 44.508957, 35.926044, 3...       23.827   \n",
       "...                                                  ...          ...   \n",
       "12530  [34.0565, 35.9196, 36.212498, 33.155746, 33.51...       29.531   \n",
       "12531  [36.212498, 35.734768, 37.30907, 35.11445, 34....       29.544   \n",
       "12532  [35.382755, 36.117043, 39.865784, 34.334515, 3...       29.558   \n",
       "12533  [35.14794, 34.0565, 37.784557, 33.061333, 32.8...       29.578   \n",
       "12534  [34.0565, 36.019444, 37.587116, 34.334515, 32....       29.538   \n",
       "\n",
       "       humidity  light   motion  \n",
       "0        29.146  66.86  2.49863  \n",
       "1        29.146  66.83  2.48093  \n",
       "2        29.146  66.80  2.49496  \n",
       "3        29.146  66.80  2.48901  \n",
       "4        29.140  66.83  2.50458  \n",
       "...         ...    ...      ...  \n",
       "12530    29.512  64.94  2.47467  \n",
       "12531    29.512  65.00  2.35687  \n",
       "12532    29.512  65.03  2.42752  \n",
       "12533    29.512  65.00  2.38480  \n",
       "12534    29.518  65.06  2.51953  \n",
       "\n",
       "[12535 rows x 9 columns]"
      ]
     },
     "execution_count": 117,
     "metadata": {},
     "output_type": "execute_result"
    }
   ],
   "source": [
    "df1"
   ]
  },
  {
   "cell_type": "code",
   "execution_count": 124,
   "metadata": {},
   "outputs": [
    {
     "name": "stdout",
     "output_type": "stream",
     "text": [
      " * postgresql://postgres@localhost/homedata\n",
      "(psycopg2.errors.UndefinedTable) relation \"db_insert_time\" does not exist\n",
      "LINE 1: SELECT sound1 FROM db_insert_time, sensor_data WHERE db_inse...\n",
      "                           ^\n",
      "\n",
      "[SQL: SELECT sound1 FROM db_insert_time, sensor_data WHERE db_insert_time > now() - interval '6 hours' AND room = 'hroom-1']\n",
      "(Background on this error at: http://sqlalche.me/e/f405)\n"
     ]
    }
   ],
   "source": [
    "r1s1 = %sql SELECT db_insert_time, sound1 FROM sensor_data WHERE db_insert_time > now() - interval '6 hours' AND room = 'hroom-1'\n",
    "r1s1"
   ]
  },
  {
   "cell_type": "code",
   "execution_count": null,
   "metadata": {},
   "outputs": [],
   "source": []
  }
 ],
 "metadata": {
  "kernelspec": {
   "display_name": "Python 3",
   "language": "python",
   "name": "python3"
  },
  "language_info": {
   "codemirror_mode": {
    "name": "ipython",
    "version": 3
   },
   "file_extension": ".py",
   "mimetype": "text/x-python",
   "name": "python",
   "nbconvert_exporter": "python",
   "pygments_lexer": "ipython3",
   "version": "3.7.6"
  }
 },
 "nbformat": 4,
 "nbformat_minor": 4
}
