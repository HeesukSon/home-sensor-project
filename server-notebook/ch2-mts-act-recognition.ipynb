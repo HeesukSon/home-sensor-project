{
 "cells": [
  {
   "cell_type": "code",
   "execution_count": 324,
   "metadata": {},
   "outputs": [],
   "source": [
    "import numpy as np\n",
    "import matplotlib.pyplot as plt\n",
    "import pandas as pd\n",
    "from datetime import datetime\n",
    "\n",
    "import torch\n",
    "import torch.nn as nn\n",
    "import torch.optim as optim\n",
    "from torchvision import datasets, transforms\n",
    "import torch.nn.functional as F"
   ]
  },
  {
   "cell_type": "code",
   "execution_count": 325,
   "metadata": {},
   "outputs": [],
   "source": [
    "sample_rate = 1\n",
    "el_len = 50\n",
    "n_fold = 10\n",
    "\n",
    "act_map = {'work':0, \n",
    "           'eating':1, \n",
    "           'toilet':2, \n",
    "           'fitness':3, \n",
    "           'sleep':4, \n",
    "           'personal_hygiene':5, \n",
    "           'shower':6, \n",
    "           'relax':7, \n",
    "           'cooking':8, \n",
    "           'phonecall':9, \n",
    "           'leave_home':10, \n",
    "           'null':11}"
   ]
  },
  {
   "cell_type": "markdown",
   "metadata": {},
   "source": [
    "# MTS data loading and its transformation to (X, Y) pairs"
   ]
  },
  {
   "cell_type": "code",
   "execution_count": 339,
   "metadata": {},
   "outputs": [
    {
     "data": {
      "text/html": [
       "<div>\n",
       "<style scoped>\n",
       "    .dataframe tbody tr th:only-of-type {\n",
       "        vertical-align: middle;\n",
       "    }\n",
       "\n",
       "    .dataframe tbody tr th {\n",
       "        vertical-align: top;\n",
       "    }\n",
       "\n",
       "    .dataframe thead th {\n",
       "        text-align: right;\n",
       "    }\n",
       "</style>\n",
       "<table border=\"1\" class=\"dataframe\">\n",
       "  <thead>\n",
       "    <tr style=\"text-align: right;\">\n",
       "      <th></th>\n",
       "      <th>Unnamed: 0</th>\n",
       "      <th>time</th>\n",
       "      <th>snd11_roadside</th>\n",
       "      <th>snd12_bed</th>\n",
       "      <th>snd21_kitchen</th>\n",
       "      <th>snd22_desk</th>\n",
       "      <th>tmp1</th>\n",
       "      <th>hmd1</th>\n",
       "      <th>light1</th>\n",
       "      <th>mot1</th>\n",
       "      <th>tmp2</th>\n",
       "      <th>hmd2</th>\n",
       "      <th>light2</th>\n",
       "      <th>mot2</th>\n",
       "      <th>weekend</th>\n",
       "      <th>hour</th>\n",
       "      <th>null-1</th>\n",
       "      <th>null-2</th>\n",
       "      <th>act</th>\n",
       "    </tr>\n",
       "  </thead>\n",
       "  <tbody>\n",
       "    <tr>\n",
       "      <th>0</th>\n",
       "      <td>0</td>\n",
       "      <td>2020-05-07 14:55:35.605686-04:00</td>\n",
       "      <td>0.116803</td>\n",
       "      <td>0.085431</td>\n",
       "      <td>0.130023</td>\n",
       "      <td>0.136501</td>\n",
       "      <td>0.569157</td>\n",
       "      <td>0.219484</td>\n",
       "      <td>0.25723</td>\n",
       "      <td>0.248077</td>\n",
       "      <td>0.576143</td>\n",
       "      <td>0.224758</td>\n",
       "      <td>0.29742</td>\n",
       "      <td>0.244629</td>\n",
       "      <td>0</td>\n",
       "      <td>0.583333</td>\n",
       "      <td>0</td>\n",
       "      <td>0</td>\n",
       "      <td>0</td>\n",
       "    </tr>\n",
       "    <tr>\n",
       "      <th>1</th>\n",
       "      <td>1</td>\n",
       "      <td>2020-05-07 14:55:37.854700-04:00</td>\n",
       "      <td>0.131102</td>\n",
       "      <td>0.083911</td>\n",
       "      <td>0.141076</td>\n",
       "      <td>0.140690</td>\n",
       "      <td>0.569257</td>\n",
       "      <td>0.219368</td>\n",
       "      <td>0.25769</td>\n",
       "      <td>0.252060</td>\n",
       "      <td>0.576229</td>\n",
       "      <td>0.225000</td>\n",
       "      <td>0.29855</td>\n",
       "      <td>0.245697</td>\n",
       "      <td>0</td>\n",
       "      <td>0.583333</td>\n",
       "      <td>0</td>\n",
       "      <td>0</td>\n",
       "      <td>0</td>\n",
       "    </tr>\n",
       "    <tr>\n",
       "      <th>2</th>\n",
       "      <td>2</td>\n",
       "      <td>2020-05-07 14:55:40.099457-04:00</td>\n",
       "      <td>0.132529</td>\n",
       "      <td>0.091723</td>\n",
       "      <td>0.134810</td>\n",
       "      <td>0.137813</td>\n",
       "      <td>0.569057</td>\n",
       "      <td>0.219179</td>\n",
       "      <td>0.25656</td>\n",
       "      <td>0.250641</td>\n",
       "      <td>0.576229</td>\n",
       "      <td>0.224642</td>\n",
       "      <td>0.29672</td>\n",
       "      <td>0.236282</td>\n",
       "      <td>0</td>\n",
       "      <td>0.583333</td>\n",
       "      <td>0</td>\n",
       "      <td>0</td>\n",
       "      <td>0</td>\n",
       "    </tr>\n",
       "    <tr>\n",
       "      <th>3</th>\n",
       "      <td>3</td>\n",
       "      <td>2020-05-07 14:55:41.220124-04:00</td>\n",
       "      <td>0.128318</td>\n",
       "      <td>0.097108</td>\n",
       "      <td>0.139950</td>\n",
       "      <td>0.150062</td>\n",
       "      <td>0.569057</td>\n",
       "      <td>0.219547</td>\n",
       "      <td>0.26065</td>\n",
       "      <td>0.244583</td>\n",
       "      <td>0.576143</td>\n",
       "      <td>0.224642</td>\n",
       "      <td>0.29843</td>\n",
       "      <td>0.242523</td>\n",
       "      <td>0</td>\n",
       "      <td>0.583333</td>\n",
       "      <td>0</td>\n",
       "      <td>0</td>\n",
       "      <td>0</td>\n",
       "    </tr>\n",
       "    <tr>\n",
       "      <th>4</th>\n",
       "      <td>4</td>\n",
       "      <td>2020-05-07 14:55:42.334265-04:00</td>\n",
       "      <td>0.161665</td>\n",
       "      <td>0.101104</td>\n",
       "      <td>0.151034</td>\n",
       "      <td>0.156616</td>\n",
       "      <td>0.569157</td>\n",
       "      <td>0.219368</td>\n",
       "      <td>0.26093</td>\n",
       "      <td>0.246704</td>\n",
       "      <td>0.576143</td>\n",
       "      <td>0.224758</td>\n",
       "      <td>0.29861</td>\n",
       "      <td>0.269440</td>\n",
       "      <td>0</td>\n",
       "      <td>0.583333</td>\n",
       "      <td>0</td>\n",
       "      <td>0</td>\n",
       "      <td>0</td>\n",
       "    </tr>\n",
       "  </tbody>\n",
       "</table>\n",
       "</div>"
      ],
      "text/plain": [
       "   Unnamed: 0                              time  snd11_roadside  snd12_bed  \\\n",
       "0           0  2020-05-07 14:55:35.605686-04:00        0.116803   0.085431   \n",
       "1           1  2020-05-07 14:55:37.854700-04:00        0.131102   0.083911   \n",
       "2           2  2020-05-07 14:55:40.099457-04:00        0.132529   0.091723   \n",
       "3           3  2020-05-07 14:55:41.220124-04:00        0.128318   0.097108   \n",
       "4           4  2020-05-07 14:55:42.334265-04:00        0.161665   0.101104   \n",
       "\n",
       "   snd21_kitchen  snd22_desk      tmp1      hmd1   light1      mot1      tmp2  \\\n",
       "0       0.130023    0.136501  0.569157  0.219484  0.25723  0.248077  0.576143   \n",
       "1       0.141076    0.140690  0.569257  0.219368  0.25769  0.252060  0.576229   \n",
       "2       0.134810    0.137813  0.569057  0.219179  0.25656  0.250641  0.576229   \n",
       "3       0.139950    0.150062  0.569057  0.219547  0.26065  0.244583  0.576143   \n",
       "4       0.151034    0.156616  0.569157  0.219368  0.26093  0.246704  0.576143   \n",
       "\n",
       "       hmd2   light2      mot2  weekend      hour  null-1  null-2  act  \n",
       "0  0.224758  0.29742  0.244629        0  0.583333       0       0    0  \n",
       "1  0.225000  0.29855  0.245697        0  0.583333       0       0    0  \n",
       "2  0.224642  0.29672  0.236282        0  0.583333       0       0    0  \n",
       "3  0.224642  0.29843  0.242523        0  0.583333       0       0    0  \n",
       "4  0.224758  0.29861  0.269440        0  0.583333       0       0    0  "
      ]
     },
     "execution_count": 339,
     "metadata": {},
     "output_type": "execute_result"
    }
   ],
   "source": [
    "data_df = pd.read_csv('act_mts_data_200514_7d.csv')\n",
    "data_df.head()"
   ]
  },
  {
   "cell_type": "code",
   "execution_count": 340,
   "metadata": {},
   "outputs": [
    {
     "data": {
      "text/html": [
       "<div>\n",
       "<style scoped>\n",
       "    .dataframe tbody tr th:only-of-type {\n",
       "        vertical-align: middle;\n",
       "    }\n",
       "\n",
       "    .dataframe tbody tr th {\n",
       "        vertical-align: top;\n",
       "    }\n",
       "\n",
       "    .dataframe thead th {\n",
       "        text-align: right;\n",
       "    }\n",
       "</style>\n",
       "<table border=\"1\" class=\"dataframe\">\n",
       "  <thead>\n",
       "    <tr style=\"text-align: right;\">\n",
       "      <th></th>\n",
       "      <th>Unnamed: 0</th>\n",
       "      <th>time</th>\n",
       "      <th>snd11_roadside</th>\n",
       "      <th>snd12_bed</th>\n",
       "      <th>snd21_kitchen</th>\n",
       "      <th>snd22_desk</th>\n",
       "      <th>tmp1</th>\n",
       "      <th>hmd1</th>\n",
       "      <th>light1</th>\n",
       "      <th>mot1</th>\n",
       "      <th>tmp2</th>\n",
       "      <th>hmd2</th>\n",
       "      <th>light2</th>\n",
       "      <th>mot2</th>\n",
       "      <th>weekend</th>\n",
       "      <th>hour</th>\n",
       "      <th>null-1</th>\n",
       "      <th>null-2</th>\n",
       "      <th>act</th>\n",
       "    </tr>\n",
       "  </thead>\n",
       "  <tbody>\n",
       "    <tr>\n",
       "      <th>236782</th>\n",
       "      <td>236782</td>\n",
       "      <td>2020-05-14 14:54:52.693961-04:00</td>\n",
       "      <td>0.123358</td>\n",
       "      <td>0.092959</td>\n",
       "      <td>0.136820</td>\n",
       "      <td>0.127161</td>\n",
       "      <td>0.574871</td>\n",
       "      <td>0.159495</td>\n",
       "      <td>0.19467</td>\n",
       "      <td>0.240250</td>\n",
       "      <td>0.580871</td>\n",
       "      <td>0.166337</td>\n",
       "      <td>0.22070</td>\n",
       "      <td>0.181702</td>\n",
       "      <td>0</td>\n",
       "      <td>0.583333</td>\n",
       "      <td>0</td>\n",
       "      <td>0</td>\n",
       "      <td>11</td>\n",
       "    </tr>\n",
       "    <tr>\n",
       "      <th>236783</th>\n",
       "      <td>236783</td>\n",
       "      <td>2020-05-14 14:54:56.299927-04:00</td>\n",
       "      <td>0.133627</td>\n",
       "      <td>0.085450</td>\n",
       "      <td>0.134290</td>\n",
       "      <td>0.132207</td>\n",
       "      <td>0.575057</td>\n",
       "      <td>0.159853</td>\n",
       "      <td>0.19061</td>\n",
       "      <td>0.248947</td>\n",
       "      <td>0.580671</td>\n",
       "      <td>0.166600</td>\n",
       "      <td>0.22256</td>\n",
       "      <td>0.231781</td>\n",
       "      <td>0</td>\n",
       "      <td>0.583333</td>\n",
       "      <td>0</td>\n",
       "      <td>0</td>\n",
       "      <td>11</td>\n",
       "    </tr>\n",
       "    <tr>\n",
       "      <th>236784</th>\n",
       "      <td>236784</td>\n",
       "      <td>2020-05-14 14:55:02.026793-04:00</td>\n",
       "      <td>0.123699</td>\n",
       "      <td>0.087165</td>\n",
       "      <td>0.143468</td>\n",
       "      <td>0.118901</td>\n",
       "      <td>0.575057</td>\n",
       "      <td>0.159558</td>\n",
       "      <td>0.18671</td>\n",
       "      <td>0.247971</td>\n",
       "      <td>0.580771</td>\n",
       "      <td>0.166779</td>\n",
       "      <td>0.22003</td>\n",
       "      <td>0.262024</td>\n",
       "      <td>0</td>\n",
       "      <td>0.583333</td>\n",
       "      <td>0</td>\n",
       "      <td>0</td>\n",
       "      <td>11</td>\n",
       "    </tr>\n",
       "    <tr>\n",
       "      <th>236785</th>\n",
       "      <td>236785</td>\n",
       "      <td>2020-05-14 14:55:03.141959-04:00</td>\n",
       "      <td>0.128148</td>\n",
       "      <td>0.094960</td>\n",
       "      <td>0.141689</td>\n",
       "      <td>0.131183</td>\n",
       "      <td>0.574971</td>\n",
       "      <td>0.159421</td>\n",
       "      <td>0.19394</td>\n",
       "      <td>0.248871</td>\n",
       "      <td>0.580671</td>\n",
       "      <td>0.166716</td>\n",
       "      <td>0.22281</td>\n",
       "      <td>0.252792</td>\n",
       "      <td>0</td>\n",
       "      <td>0.583333</td>\n",
       "      <td>0</td>\n",
       "      <td>0</td>\n",
       "      <td>11</td>\n",
       "    </tr>\n",
       "    <tr>\n",
       "      <th>236786</th>\n",
       "      <td>236786</td>\n",
       "      <td>2020-05-14 14:55:04.254029-04:00</td>\n",
       "      <td>0.130400</td>\n",
       "      <td>0.088708</td>\n",
       "      <td>0.139868</td>\n",
       "      <td>0.126162</td>\n",
       "      <td>0.574971</td>\n",
       "      <td>0.159495</td>\n",
       "      <td>0.18808</td>\n",
       "      <td>0.245819</td>\n",
       "      <td>0.580871</td>\n",
       "      <td>0.166274</td>\n",
       "      <td>0.21921</td>\n",
       "      <td>0.200668</td>\n",
       "      <td>0</td>\n",
       "      <td>0.583333</td>\n",
       "      <td>0</td>\n",
       "      <td>0</td>\n",
       "      <td>11</td>\n",
       "    </tr>\n",
       "  </tbody>\n",
       "</table>\n",
       "</div>"
      ],
      "text/plain": [
       "        Unnamed: 0                              time  snd11_roadside  \\\n",
       "236782      236782  2020-05-14 14:54:52.693961-04:00        0.123358   \n",
       "236783      236783  2020-05-14 14:54:56.299927-04:00        0.133627   \n",
       "236784      236784  2020-05-14 14:55:02.026793-04:00        0.123699   \n",
       "236785      236785  2020-05-14 14:55:03.141959-04:00        0.128148   \n",
       "236786      236786  2020-05-14 14:55:04.254029-04:00        0.130400   \n",
       "\n",
       "        snd12_bed  snd21_kitchen  snd22_desk      tmp1      hmd1   light1  \\\n",
       "236782   0.092959       0.136820    0.127161  0.574871  0.159495  0.19467   \n",
       "236783   0.085450       0.134290    0.132207  0.575057  0.159853  0.19061   \n",
       "236784   0.087165       0.143468    0.118901  0.575057  0.159558  0.18671   \n",
       "236785   0.094960       0.141689    0.131183  0.574971  0.159421  0.19394   \n",
       "236786   0.088708       0.139868    0.126162  0.574971  0.159495  0.18808   \n",
       "\n",
       "            mot1      tmp2      hmd2   light2      mot2  weekend      hour  \\\n",
       "236782  0.240250  0.580871  0.166337  0.22070  0.181702        0  0.583333   \n",
       "236783  0.248947  0.580671  0.166600  0.22256  0.231781        0  0.583333   \n",
       "236784  0.247971  0.580771  0.166779  0.22003  0.262024        0  0.583333   \n",
       "236785  0.248871  0.580671  0.166716  0.22281  0.252792        0  0.583333   \n",
       "236786  0.245819  0.580871  0.166274  0.21921  0.200668        0  0.583333   \n",
       "\n",
       "        null-1  null-2  act  \n",
       "236782       0       0   11  \n",
       "236783       0       0   11  \n",
       "236784       0       0   11  \n",
       "236785       0       0   11  \n",
       "236786       0       0   11  "
      ]
     },
     "execution_count": 340,
     "metadata": {},
     "output_type": "execute_result"
    }
   ],
   "source": [
    "data_df.tail()"
   ]
  },
  {
   "cell_type": "code",
   "execution_count": 327,
   "metadata": {},
   "outputs": [
    {
     "data": {
      "text/plain": [
       "(list, 203531, list, 203531)"
      ]
     },
     "execution_count": 327,
     "metadata": {},
     "output_type": "execute_result"
    }
   ],
   "source": [
    "subset_x = data_df[['snd11_roadside', 'snd12_bed', 'snd21_kitchen', 'snd22_desk', 'tmp1', 'hmd1', 'light1', 'mot1', 'tmp2', 'hmd2', 'light2', 'mot2', 'weekend', 'hour', 'null-1', 'null-2']]\n",
    "subset_y = data_df['act']\n",
    "dataset_features = subset_x.values.tolist()\n",
    "dataset_labels = subset_y.tolist()\n",
    "\n",
    "type(dataset_labels), len(dataset_labels), type(dataset_features), len(dataset_features)"
   ]
  },
  {
   "cell_type": "markdown",
   "metadata": {},
   "source": [
    "## Reshaping input features to 50x4x4 (C x H x W)\n",
    "* To make make an input feqture of shape (50x4x4) after ToTensor transformation later, 4x4x50 matrix should be created here.\n",
    "* By adjusting the data sampling rate, each data element can cover longer period of time (e.g., 1/2 data sampling results in 2 mins of MTS data). \n",
    "* The majority voting can be used to decide each cubic data point's label."
   ]
  },
  {
   "cell_type": "code",
   "execution_count": 328,
   "metadata": {},
   "outputs": [
    {
     "data": {
      "text/plain": [
       "((203500, 16), (203500,), numpy.ndarray, 16)"
      ]
     },
     "execution_count": 328,
     "metadata": {},
     "output_type": "execute_result"
    }
   ],
   "source": [
    "features_arr = np.asarray(dataset_features)\n",
    "labels_arr = np.asarray(dataset_labels)\n",
    "\n",
    "residual = len(dataset_labels)%el_len\n",
    "\n",
    "features_arr = features_arr[:-residual]\n",
    "labels_arr = labels_arr[:-residual]\n",
    "\n",
    "features_arr.shape, labels_arr.shape, type(features_arr[0]), len(features_arr[0])\n",
    "#labels_arr"
   ]
  },
  {
   "cell_type": "markdown",
   "metadata": {},
   "source": [
    "### Reshaping feature array to 50x4x4 array"
   ]
  },
  {
   "cell_type": "code",
   "execution_count": 329,
   "metadata": {},
   "outputs": [
    {
     "data": {
      "text/plain": [
       "(4070, 4, 4, 50)"
      ]
     },
     "execution_count": 329,
     "metadata": {},
     "output_type": "execute_result"
    }
   ],
   "source": [
    "features_arr = features_arr.reshape(int(len(features_arr)/el_len), el_len, 4, 4)\n",
    "features_arr = np.transpose(features_arr, (0,2,3,1))\n",
    "features_arr.shape"
   ]
  },
  {
   "cell_type": "markdown",
   "metadata": {},
   "source": [
    "### Squeezing labels by means of the most frequent values in each 50-length array"
   ]
  },
  {
   "cell_type": "code",
   "execution_count": 330,
   "metadata": {},
   "outputs": [
    {
     "data": {
      "text/plain": [
       "(array([0, 0, 0, ..., 0, 0, 0]), (4070,))"
      ]
     },
     "execution_count": 330,
     "metadata": {},
     "output_type": "execute_result"
    }
   ],
   "source": [
    "labels_arr = labels_arr.reshape(int(len(labels_arr)/el_len), el_len)\n",
    "labels_arr = [np.bincount(x).argmax() for x in labels_arr]\n",
    "labels_arr = np.asarray(labels_arr)\n",
    "labels_arr, labels_arr.shape"
   ]
  },
  {
   "cell_type": "code",
   "execution_count": 331,
   "metadata": {},
   "outputs": [
    {
     "data": {
      "text/plain": [
       "((4070, 2), (2,), (4, 4, 50), ())"
      ]
     },
     "execution_count": 331,
     "metadata": {},
     "output_type": "execute_result"
    }
   ],
   "source": [
    "dataset = tuple(zip(features_arr, labels_arr))\n",
    "dataset = np.asarray(dataset)\n",
    "dataset.shape, dataset[0].shape, dataset[0][0].shape, dataset[0][1].shape"
   ]
  },
  {
   "cell_type": "markdown",
   "metadata": {},
   "source": [
    "## Divide the dataset into training and validation datasets\n",
    "Considering the characteristics of human activities in a smart home, splitting the dataset in an arbitrary basis may not be an optimal choice with respect to the recognition accuracy. However, the main goal of this experiment is to see if n-minute-long MTS data can represent any meaningful patterns of human activities. Therefore, we split the dataset arbitrarily in this notebook."
   ]
  },
  {
   "cell_type": "code",
   "execution_count": 332,
   "metadata": {},
   "outputs": [
    {
     "data": {
      "text/plain": [
       "((3663, 2), (407, 2))"
      ]
     },
     "execution_count": 332,
     "metadata": {},
     "output_type": "execute_result"
    }
   ],
   "source": [
    "n_data = dataset.shape[0]\n",
    "n_val = int(n_data * 0.1)\n",
    "\n",
    "shuffled_indices = torch.randperm(n_data)\n",
    "train_indices = shuffled_indices[:-n_val]\n",
    "val_indices = shuffled_indices[-n_val:]\n",
    "\n",
    "dataset_train = dataset[train_indices]\n",
    "dataset_val = dataset[val_indices]\n",
    "\n",
    "dataset_train.shape, dataset_val.shape"
   ]
  },
  {
   "cell_type": "markdown",
   "metadata": {},
   "source": [
    "## Transform data to tensor\n",
    "By definition, **ToTensor** transforms the image or numpy.ndarray to a tensor with range [0,1]. As the result, the input shape **(H x W x C)** is transformed into the output shape **(C x H x W)** in the range of [0, 1]."
   ]
  },
  {
   "cell_type": "code",
   "execution_count": 333,
   "metadata": {},
   "outputs": [],
   "source": [
    "to_tensor = transforms.ToTensor()\n",
    "\n",
    "dataset_train_t = [(to_tensor(mts).to(torch.float32), label) for mts, label in dataset_train]\n",
    "dataset_val_t = [(to_tensor(mts).to(torch.float32), label) for mts, label in dataset_val]"
   ]
  },
  {
   "cell_type": "code",
   "execution_count": 334,
   "metadata": {},
   "outputs": [
    {
     "data": {
      "text/plain": [
       "(3663, 407)"
      ]
     },
     "execution_count": 334,
     "metadata": {},
     "output_type": "execute_result"
    }
   ],
   "source": [
    "len(dataset_train_t), len(dataset_val_t)"
   ]
  },
  {
   "cell_type": "markdown",
   "metadata": {},
   "source": [
    "# Building a simple PyTorch CNN model"
   ]
  },
  {
   "cell_type": "markdown",
   "metadata": {},
   "source": [
    "## Deep Learning model training and validation"
   ]
  },
  {
   "cell_type": "code",
   "execution_count": 335,
   "metadata": {},
   "outputs": [],
   "source": [
    "train_loader = torch.utils.data.DataLoader(dataset_train_t, batch_size = 64, shuffle=True)\n",
    "val_loader = torch.utils.data.DataLoader(dataset_val_t, batch_size = 64, shuffle=True)"
   ]
  },
  {
   "cell_type": "code",
   "execution_count": 336,
   "metadata": {},
   "outputs": [],
   "source": [
    "def training_loop(n_epochs, optimizer, model, loss_fn, train_loader):\n",
    "    for epoch in range(1, n_epochs+1):\n",
    "        loss_train = 0.0\n",
    "        for imgs, labels in train_loader:\n",
    "            outputs = model(imgs)\n",
    "            loss = loss_fn(outputs, labels)\n",
    "            \n",
    "            optimizer.zero_grad()\n",
    "            loss.backward()\n",
    "            optimizer.step()\n",
    "            \n",
    "            loss_train += loss.item()\n",
    "            \n",
    "        if epoch == 1 or epoch % 10 == 0:\n",
    "            print('{} Epoch {}, Training loss {}'.format(datetime.now(), epoch, float(loss_train)))"
   ]
  },
  {
   "cell_type": "code",
   "execution_count": 337,
   "metadata": {},
   "outputs": [],
   "source": [
    "class Net(nn.Module):\n",
    "    def __init__(self):\n",
    "        super(Net, self).__init__()\n",
    "        self.n_channel = el_len\n",
    "        self.conv1 = nn.Conv2d(self.n_channel, self.n_channel*3, kernel_size=3, padding=1) # IN: 50x4x4, OUT: 150x4x4\n",
    "        self.conv1_bn = nn.BatchNorm2d(self.n_channel*3)\n",
    "        # maxpool2d, IN: 50x4x4, OUT: 50x2x2\n",
    "        self.conv2 = nn.Conv2d(self.n_channel*3, self.n_channel*2, kernel_size=2, padding=1) # IN: 150x2x2, OUT: 100x1x1\n",
    "        self.conv2_bn = nn.BatchNorm2d(self.n_channel*2)\n",
    "        # maxpool2d, IN: 50x3x3, OUT: 50x1x1\n",
    "        self.fc1 = nn.Linear(1*1*self.n_channel*2, 32)\n",
    "        self.fc2 = nn.Linear(32,len(act_map.keys()))\n",
    "        \n",
    "    def forward(self, x):\n",
    "        out = F.max_pool2d(F.relu(self.conv1_bn(self.conv1(x))), 2)\n",
    "        out = F.max_pool2d(F.relu(self.conv2_bn(self.conv2(out))), 2)\n",
    "        out = out.view(-1, 1*1*self.n_channel*2) \n",
    "        out = F.relu(self.fc1(out))\n",
    "        out = self.fc2(out)\n",
    "        return out"
   ]
  },
  {
   "cell_type": "code",
   "execution_count": 338,
   "metadata": {},
   "outputs": [
    {
     "name": "stdout",
     "output_type": "stream",
     "text": [
      "2020-05-13 22:35:36.574816 Epoch 1, Training loss 92.91108894348145\n",
      "2020-05-13 22:35:46.453270 Epoch 10, Training loss 0.49836750654503703\n",
      "2020-05-13 22:35:57.503862 Epoch 20, Training loss 0.1913610326591879\n",
      "2020-05-13 22:36:08.565052 Epoch 30, Training loss 0.11349742475431412\n",
      "2020-05-13 22:36:20.741085 Epoch 40, Training loss 0.0795781328342855\n",
      "2020-05-13 22:36:33.305767 Epoch 50, Training loss 0.06063412723597139\n",
      "2020-05-13 22:36:45.732224 Epoch 60, Training loss 0.048922876827418804\n",
      "2020-05-13 22:36:58.342706 Epoch 70, Training loss 0.04064669762738049\n",
      "2020-05-13 22:37:10.944662 Epoch 80, Training loss 0.03476117429090664\n",
      "2020-05-13 22:37:23.376678 Epoch 90, Training loss 0.03015915278228931\n",
      "2020-05-13 22:37:35.540946 Epoch 100, Training loss 0.026618914474966004\n",
      "2020-05-13 22:37:47.718377 Epoch 110, Training loss 0.0239862849120982\n",
      "2020-05-13 22:38:00.664074 Epoch 120, Training loss 0.02153414857457392\n",
      "2020-05-13 22:38:13.157159 Epoch 130, Training loss 0.0196379104454536\n",
      "2020-05-13 22:38:26.478492 Epoch 140, Training loss 0.018018090340774506\n",
      "2020-05-13 22:38:38.835871 Epoch 150, Training loss 0.016645045194309205\n",
      "2020-05-13 22:38:51.716520 Epoch 160, Training loss 0.015423804055899382\n",
      "2020-05-13 22:39:03.951333 Epoch 170, Training loss 0.014381119239260443\n",
      "2020-05-13 22:39:16.299582 Epoch 180, Training loss 0.013487343007000163\n",
      "2020-05-13 22:39:28.500662 Epoch 190, Training loss 0.01271370452013798\n",
      "2020-05-13 22:39:40.781566 Epoch 200, Training loss 0.011996430839644745\n"
     ]
    }
   ],
   "source": [
    "model = Net()\n",
    "optimizer = optim.SGD(model.parameters(), lr=1e-3)\n",
    "loss_fn = nn.CrossEntropyLoss()\n",
    "\n",
    "training_loop(n_epochs = 200, optimizer = optimizer, model = model.train(), loss_fn = loss_fn, train_loader = train_loader)"
   ]
  },
  {
   "cell_type": "code",
   "execution_count": 315,
   "metadata": {},
   "outputs": [
    {
     "name": "stdout",
     "output_type": "stream",
     "text": [
      "Accuracy: 1.000000\n",
      "Accuracy: 1.000000\n"
     ]
    }
   ],
   "source": [
    "train_loader = torch.utils.data.DataLoader(dataset_train_t, batch_size = 64, shuffle=False)\n",
    "val_loader = torch.utils.data.DataLoader(dataset_val_t, batch_size = 64, shuffle=False)\n",
    "\n",
    "model = model.eval()\n",
    "\n",
    "for loader in [train_loader, val_loader]:\n",
    "    correct = 0\n",
    "    total = 0\n",
    "    \n",
    "    with torch.no_grad():\n",
    "        for imgs, labels in loader:\n",
    "            outputs = model(imgs)\n",
    "            _, predicted = torch.max(outputs, dim=1)\n",
    "            total += labels.shape[0]\n",
    "            correct += int((predicted == labels).sum())\n",
    "    \n",
    "    print(\"Accuracy: %f\" % (correct / total))"
   ]
  },
  {
   "cell_type": "markdown",
   "metadata": {},
   "source": [
    "# Visualize the answers and Compare them with ground truth"
   ]
  },
  {
   "cell_type": "code",
   "execution_count": null,
   "metadata": {},
   "outputs": [],
   "source": []
  }
 ],
 "metadata": {
  "kernelspec": {
   "display_name": "Python 3",
   "language": "python",
   "name": "python3"
  },
  "language_info": {
   "codemirror_mode": {
    "name": "ipython",
    "version": 3
   },
   "file_extension": ".py",
   "mimetype": "text/x-python",
   "name": "python",
   "nbconvert_exporter": "python",
   "pygments_lexer": "ipython3",
   "version": "3.7.6"
  }
 },
 "nbformat": 4,
 "nbformat_minor": 4
}
